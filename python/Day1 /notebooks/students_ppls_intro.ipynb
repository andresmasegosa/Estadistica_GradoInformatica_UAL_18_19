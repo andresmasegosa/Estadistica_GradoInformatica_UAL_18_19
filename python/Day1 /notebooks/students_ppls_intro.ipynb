{
  "cells": [
    {
      "cell_type": "markdown",
      "metadata": {
        "id": "view-in-github",
        "colab_type": "text"
      },
      "source": [
        "<a href=\"https://colab.research.google.com/github/andresmasegosa/Estadistica_GradoInformatica_UAL_18_19/blob/master/python/Day1%20/notebooks/students_ppls_intro.ipynb\" target=\"_parent\"><img src=\"https://colab.research.google.com/assets/colab-badge.svg\" alt=\"Open In Colab\"/></a>"
      ]
    },
    {
      "cell_type": "markdown",
      "metadata": {
        "id": "a75mGrGgL-0g"
      },
      "source": [
        "<img src=\"https://github.com/PGM-Lab/probai-2021-pyro/blob/main/Day1/Figures/blue.png?raw=1\" alt=\"Drawing\" width=2000 height=20>\n",
        "\n",
        "\n",
        "# Setup\n",
        "Let's begin by installing and importing the modules we'll need."
      ]
    },
    {
      "cell_type": "code",
      "source": [
        "!pip install -q --upgrade torch==2.0.1"
      ],
      "metadata": {
        "colab": {
          "base_uri": "https://localhost:8080/"
        },
        "id": "hdKTO_6n3wCW",
        "outputId": "cd2fadab-969d-41fb-d508-13aac3da5114"
      },
      "execution_count": 1,
      "outputs": [
        {
          "output_type": "stream",
          "name": "stdout",
          "text": [
            "\u001b[2K     \u001b[90m━━━━━━━━━━━━━━━━━━━━━━━━━━━━━━━━━━━━━━━━\u001b[0m \u001b[32m619.9/619.9 MB\u001b[0m \u001b[31m2.2 MB/s\u001b[0m eta \u001b[36m0:00:00\u001b[0m\n",
            "\u001b[2K     \u001b[90m━━━━━━━━━━━━━━━━━━━━━━━━━━━━━━━━━━━━━━━━\u001b[0m \u001b[32m21.0/21.0 MB\u001b[0m \u001b[31m22.7 MB/s\u001b[0m eta \u001b[36m0:00:00\u001b[0m\n",
            "\u001b[2K     \u001b[90m━━━━━━━━━━━━━━━━━━━━━━━━━━━━━━━━━━━━━━━━\u001b[0m \u001b[32m849.3/849.3 kB\u001b[0m \u001b[31m48.5 MB/s\u001b[0m eta \u001b[36m0:00:00\u001b[0m\n",
            "\u001b[2K     \u001b[90m━━━━━━━━━━━━━━━━━━━━━━━━━━━━━━━━━━━━━━━━\u001b[0m \u001b[32m11.8/11.8 MB\u001b[0m \u001b[31m43.7 MB/s\u001b[0m eta \u001b[36m0:00:00\u001b[0m\n",
            "\u001b[2K     \u001b[90m━━━━━━━━━━━━━━━━━━━━━━━━━━━━━━━━━━━━━━━━\u001b[0m \u001b[32m557.1/557.1 MB\u001b[0m \u001b[31m2.4 MB/s\u001b[0m eta \u001b[36m0:00:00\u001b[0m\n",
            "\u001b[2K     \u001b[90m━━━━━━━━━━━━━━━━━━━━━━━━━━━━━━━━━━━━━━━━\u001b[0m \u001b[32m317.1/317.1 MB\u001b[0m \u001b[31m2.6 MB/s\u001b[0m eta \u001b[36m0:00:00\u001b[0m\n",
            "\u001b[2K     \u001b[90m━━━━━━━━━━━━━━━━━━━━━━━━━━━━━━━━━━━━━━━━\u001b[0m \u001b[32m168.4/168.4 MB\u001b[0m \u001b[31m6.0 MB/s\u001b[0m eta \u001b[36m0:00:00\u001b[0m\n",
            "\u001b[2K     \u001b[90m━━━━━━━━━━━━━━━━━━━━━━━━━━━━━━━━━━━━━━━━\u001b[0m \u001b[32m54.6/54.6 MB\u001b[0m \u001b[31m12.0 MB/s\u001b[0m eta \u001b[36m0:00:00\u001b[0m\n",
            "\u001b[2K     \u001b[90m━━━━━━━━━━━━━━━━━━━━━━━━━━━━━━━━━━━━━━━━\u001b[0m \u001b[32m102.6/102.6 MB\u001b[0m \u001b[31m9.1 MB/s\u001b[0m eta \u001b[36m0:00:00\u001b[0m\n",
            "\u001b[2K     \u001b[90m━━━━━━━━━━━━━━━━━━━━━━━━━━━━━━━━━━━━━━━━\u001b[0m \u001b[32m173.2/173.2 MB\u001b[0m \u001b[31m2.2 MB/s\u001b[0m eta \u001b[36m0:00:00\u001b[0m\n",
            "\u001b[2K     \u001b[90m━━━━━━━━━━━━━━━━━━━━━━━━━━━━━━━━━━━━━━━━\u001b[0m \u001b[32m177.1/177.1 MB\u001b[0m \u001b[31m5.6 MB/s\u001b[0m eta \u001b[36m0:00:00\u001b[0m\n",
            "\u001b[2K     \u001b[90m━━━━━━━━━━━━━━━━━━━━━━━━━━━━━━━━━━━━━━━━\u001b[0m \u001b[32m98.6/98.6 kB\u001b[0m \u001b[31m13.7 MB/s\u001b[0m eta \u001b[36m0:00:00\u001b[0m\n",
            "\u001b[2K     \u001b[90m━━━━━━━━━━━━━━━━━━━━━━━━━━━━━━━━━━━━━━━━\u001b[0m \u001b[32m63.3/63.3 MB\u001b[0m \u001b[31m10.1 MB/s\u001b[0m eta \u001b[36m0:00:00\u001b[0m\n",
            "\u001b[2K     \u001b[90m━━━━━━━━━━━━━━━━━━━━━━━━━━━━━━━━━━━━━━━━\u001b[0m \u001b[32m153.0/153.0 kB\u001b[0m \u001b[31m22.9 MB/s\u001b[0m eta \u001b[36m0:00:00\u001b[0m\n",
            "\u001b[?25h  Installing build dependencies ... \u001b[?25l\u001b[?25hdone\n",
            "  Getting requirements to build wheel ... \u001b[?25l\u001b[?25hdone\n",
            "  Installing backend dependencies ... \u001b[?25l\u001b[?25hdone\n",
            "  Preparing metadata (pyproject.toml) ... \u001b[?25l\u001b[?25hdone\n",
            "  Building wheel for lit (pyproject.toml) ... \u001b[?25l\u001b[?25hdone\n",
            "\u001b[31mERROR: pip's dependency resolver does not currently take into account all the packages that are installed. This behaviour is the source of the following dependency conflicts.\n",
            "torchaudio 2.1.0+cu118 requires torch==2.1.0, but you have torch 2.0.1 which is incompatible.\n",
            "torchdata 0.7.0 requires torch==2.1.0, but you have torch 2.0.1 which is incompatible.\n",
            "torchtext 0.16.0 requires torch==2.1.0, but you have torch 2.0.1 which is incompatible.\n",
            "torchvision 0.16.0+cu118 requires torch==2.1.0, but you have torch 2.0.1 which is incompatible.\u001b[0m\u001b[31m\n",
            "\u001b[0m"
          ]
        }
      ]
    },
    {
      "cell_type": "code",
      "source": [
        "!pip install -q --upgrade pyro-ppl graphviz"
      ],
      "metadata": {
        "colab": {
          "base_uri": "https://localhost:8080/"
        },
        "id": "3OmHEDcv06Ww",
        "outputId": "119fb3ab-721a-4761-92ea-74f95e931582"
      },
      "execution_count": 2,
      "outputs": [
        {
          "output_type": "stream",
          "name": "stdout",
          "text": [
            "\u001b[?25l     \u001b[90m━━━━━━━━━━━━━━━━━━━━━━━━━━━━━━━━━━━━━━━━\u001b[0m \u001b[32m0.0/732.8 kB\u001b[0m \u001b[31m?\u001b[0m eta \u001b[36m-:--:--\u001b[0m\r\u001b[2K     \u001b[91m━━━━━\u001b[0m\u001b[90m╺\u001b[0m\u001b[90m━━━━━━━━━━━━━━━━━━━━━━━━━━━━━━━━━━\u001b[0m \u001b[32m92.2/732.8 kB\u001b[0m \u001b[31m2.5 MB/s\u001b[0m eta \u001b[36m0:00:01\u001b[0m\r\u001b[2K     \u001b[91m━━━━━━━━━━━━━━━━━━━━━━━━━━━━━\u001b[0m\u001b[91m╸\u001b[0m\u001b[90m━━━━━━━━━━\u001b[0m \u001b[32m542.7/732.8 kB\u001b[0m \u001b[31m7.6 MB/s\u001b[0m eta \u001b[36m0:00:01\u001b[0m\r\u001b[2K     \u001b[90m━━━━━━━━━━━━━━━━━━━━━━━━━━━━━━━━━━━━━━━━\u001b[0m \u001b[32m732.8/732.8 kB\u001b[0m \u001b[31m7.9 MB/s\u001b[0m eta \u001b[36m0:00:00\u001b[0m\n",
            "\u001b[?25h"
          ]
        }
      ]
    },
    {
      "cell_type": "code",
      "execution_count": 24,
      "metadata": {
        "id": "7Owp2eKrL-0j",
        "tags": []
      },
      "outputs": [],
      "source": [
        "import pyro\n",
        "import torch\n",
        "import pyro.distributions as dist\n",
        "import numpy as np\n",
        "import scipy.stats as stats"
      ]
    },
    {
      "cell_type": "markdown",
      "metadata": {
        "id": "I-EvHtlvL-0k"
      },
      "source": [
        "<img src=\"https://github.com/PGM-Lab/probai-2021-pyro/blob/main/Day1/Figures/blue.png?raw=1\" alt=\"Drawing\" width=2000 height=20>\n",
        "\n",
        "\n",
        "# 1. **Pyro’s distributions** (http://docs.pyro.ai/en/stable/distributions.html) :\n",
        "\n",
        "\n",
        "Pyro provides a wide range of distributions: **Normal, Beta, Cauchy, Dirichlet, Gumbel, Poisson, Pareto, etc.**"
      ]
    },
    {
      "cell_type": "code",
      "execution_count": 4,
      "metadata": {
        "colab": {
          "base_uri": "https://localhost:8080/"
        },
        "id": "_w52OifSL-0l",
        "outputId": "8f2d2258-e258-41dc-866d-38783110af3a",
        "tags": []
      },
      "outputs": [
        {
          "output_type": "execute_result",
          "data": {
            "text/plain": [
              "Normal(loc: 0.0, scale: 1.0)"
            ]
          },
          "metadata": {},
          "execution_count": 4
        }
      ],
      "source": [
        "normal = dist.Normal(0,1)\n",
        "normal"
      ]
    },
    {
      "cell_type": "markdown",
      "metadata": {
        "id": "yOSdcF4_L-0m"
      },
      "source": [
        "\n",
        "<img src=\"https://github.com/PGM-Lab/probai-2021-pyro/blob/main/Day1/Figures/blue.png?raw=1\" alt=\"Drawing\" width=2000 height=20>\n",
        "\n",
        "Samples from the distributions are [Pytorch’s Tensor objects](https://pytorch.org/cppdocs/notes/tensor_creation.html) (i.e. multidimensional arrays).\n"
      ]
    },
    {
      "cell_type": "code",
      "execution_count": 5,
      "metadata": {
        "colab": {
          "base_uri": "https://localhost:8080/"
        },
        "id": "wloQxYMXL-0m",
        "outputId": "0bacfc50-1a76-4c8d-8275-4ea20be87c4c",
        "tags": []
      },
      "outputs": [
        {
          "output_type": "execute_result",
          "data": {
            "text/plain": [
              "tensor(-1.1911)"
            ]
          },
          "metadata": {},
          "execution_count": 5
        }
      ],
      "source": [
        "sample = normal.sample()\n",
        "sample"
      ]
    },
    {
      "cell_type": "code",
      "execution_count": 6,
      "metadata": {
        "colab": {
          "base_uri": "https://localhost:8080/"
        },
        "id": "2h2iOp-qL-0o",
        "outputId": "cb611738-28cd-4cd9-c658-9fa0ba2f6211",
        "tags": []
      },
      "outputs": [
        {
          "output_type": "execute_result",
          "data": {
            "text/plain": [
              "tensor([[[ 0.1021, -1.1623, -0.7503,  2.3494, -0.5128],\n",
              "         [ 0.4280, -1.2938, -0.3964,  0.4991,  0.8703],\n",
              "         [ 0.3154, -1.7865, -1.0576,  1.0368,  2.0259],\n",
              "         [ 0.1262, -0.1154,  1.1885,  1.2172, -1.5372]],\n",
              "\n",
              "        [[-0.8953, -0.2783,  0.3968,  0.4088,  1.6652],\n",
              "         [ 1.2866, -0.6486,  0.1925,  0.6183, -0.8225],\n",
              "         [-0.7448,  1.4797,  0.1617, -1.4220, -1.7352],\n",
              "         [ 0.6700,  0.2361, -1.7209,  2.0788,  1.0218]],\n",
              "\n",
              "        [[-1.1210, -0.7011, -1.2648, -0.1347,  0.9089],\n",
              "         [-0.6367, -0.4316, -1.0171,  0.9697, -1.7652],\n",
              "         [ 0.5313,  1.4931,  0.1652, -1.7681,  0.3976],\n",
              "         [-1.0963, -0.7144,  2.1527,  0.5010, -1.0222]]])"
            ]
          },
          "metadata": {},
          "execution_count": 6
        }
      ],
      "source": [
        "sample = normal.sample(sample_shape=[3,4,5])\n",
        "sample"
      ]
    },
    {
      "cell_type": "markdown",
      "metadata": {
        "id": "r-0pNd9tL-0o"
      },
      "source": [
        "<img src=\"https://github.com/PGM-Lab/probai-2021-pyro/blob/main/Day1/Figures/blue.png?raw=1\" alt=\"Drawing\" width=2000 height=20>\n",
        "\n",
        "We can query the **dimensionlity** of a tensor with the ``shape`` property"
      ]
    },
    {
      "cell_type": "code",
      "execution_count": 7,
      "metadata": {
        "colab": {
          "base_uri": "https://localhost:8080/"
        },
        "id": "Dk2ebGoYL-0p",
        "outputId": "86446738-8f17-4d0c-f8eb-d694be474064",
        "tags": []
      },
      "outputs": [
        {
          "output_type": "execute_result",
          "data": {
            "text/plain": [
              "torch.Size([3, 4, 5])"
            ]
          },
          "metadata": {},
          "execution_count": 7
        }
      ],
      "source": [
        "sample = normal.sample(sample_shape=[3,4,5])\n",
        "sample.shape"
      ]
    },
    {
      "cell_type": "markdown",
      "metadata": {
        "id": "DsVjombqL-0p"
      },
      "source": [
        "\n",
        "<img src=\"https://github.com/PGM-Lab/probai-2021-pyro/blob/main/Day1/Figures/blue.png?raw=1\" alt=\"Drawing\" width=2000 height=20>\n",
        "\n",
        "Operations, like **log-likelihood**, are defined over tensors."
      ]
    },
    {
      "cell_type": "code",
      "execution_count": 8,
      "metadata": {
        "colab": {
          "base_uri": "https://localhost:8080/"
        },
        "id": "06G293JdL-0p",
        "outputId": "eaa3d219-291d-451b-cfd4-7cab93560ee5",
        "tags": []
      },
      "outputs": [
        {
          "output_type": "execute_result",
          "data": {
            "text/plain": [
              "tensor([[[-0.9620, -1.2394, -1.1620, -1.0120, -0.9219],\n",
              "         [-1.3306, -1.3836, -0.9214, -2.0680, -0.9263],\n",
              "         [-0.9457, -0.9191, -0.9852, -0.9213, -1.2466],\n",
              "         [-1.3409, -1.7378, -1.0463, -1.1732, -2.8217]],\n",
              "\n",
              "        [[-1.0485, -3.1004, -0.9949, -0.9609, -1.0148],\n",
              "         [-0.9192, -0.9782, -1.2106, -1.0160, -1.0587],\n",
              "         [-1.8452, -0.9495, -1.0922, -1.5519, -1.7504],\n",
              "         [-0.9297, -0.9361, -1.1082, -1.4058, -1.0968]],\n",
              "\n",
              "        [[-0.9431, -0.9976, -0.9988, -0.9260, -1.0728],\n",
              "         [-0.9568, -0.9206, -1.1278, -1.6846, -1.7901],\n",
              "         [-0.9496, -0.9246, -0.9262, -2.2747, -2.0461],\n",
              "         [-1.0246, -0.9319, -1.2625, -1.5917, -0.9241]]])"
            ]
          },
          "metadata": {},
          "execution_count": 8
        }
      ],
      "source": [
        "normal.log_prob(sample)"
      ]
    },
    {
      "cell_type": "code",
      "execution_count": 9,
      "metadata": {
        "colab": {
          "base_uri": "https://localhost:8080/"
        },
        "id": "R3v2rpRAL-0q",
        "outputId": "41da68ce-4a55-4f01-bc78-3eacb7e61f1a",
        "tags": []
      },
      "outputs": [
        {
          "output_type": "execute_result",
          "data": {
            "text/plain": [
              "tensor(-74.3069)"
            ]
          },
          "metadata": {},
          "execution_count": 9
        }
      ],
      "source": [
        "torch.sum(normal.log_prob(sample))"
      ]
    },
    {
      "cell_type": "markdown",
      "source": [
        "<img src=\"https://github.com/PGM-Lab/probai-2021-pyro/blob/main/Day1/Figures/blue.png?raw=1\" alt=\"Drawing\" width=2000 height=20>\n",
        "\n",
        "### **<span style=\"color:red\">Exercise 1: Univariate Distributions</span>**\n",
        "\n",
        "* Test that everything works.\n",
        "* Play a bit with the code in Section 1 of the notebook.\n",
        "* Create a Poission Distribution with rate equals to 2. Generate 100 samples and compute their log-likelihood.\n",
        "\n",
        "<img src=\"https://github.com/PGM-Lab/probai-2021-pyro/blob/main/Day1/Figures/blue.png?raw=1\" alt=\"Drawing\" width=2000 height=20>"
      ],
      "metadata": {
        "id": "wMDE1wQmwUTH"
      }
    },
    {
      "cell_type": "markdown",
      "metadata": {
        "id": "zErtSTzYL-0q"
      },
      "source": [
        "<img src=\"https://github.com/PGM-Lab/probai-2021-pyro/blob/main/Day1/Figures/blue.png?raw=1\" alt=\"Drawing\" width=2000 height=20>\n",
        "\n",
        "**Multiple distributions** can be embedded in single object.\n",
        "\n",
        "* Below we define **three Normal distributions with different means but the same scale** in a single object.\n"
      ]
    },
    {
      "cell_type": "code",
      "execution_count": 10,
      "metadata": {
        "colab": {
          "base_uri": "https://localhost:8080/"
        },
        "id": "VEcgGuTqL-0q",
        "outputId": "b54b141b-7585-4891-ca87-19d943ee1ef6",
        "tags": []
      },
      "outputs": [
        {
          "output_type": "execute_result",
          "data": {
            "text/plain": [
              "Normal(loc: torch.Size([3]), scale: torch.Size([3]))"
            ]
          },
          "metadata": {},
          "execution_count": 10
        }
      ],
      "source": [
        "normal = dist.Normal(torch.tensor([1.,2.,3.]),1.)\n",
        "normal"
      ]
    },
    {
      "cell_type": "code",
      "execution_count": 11,
      "metadata": {
        "colab": {
          "base_uri": "https://localhost:8080/"
        },
        "id": "1cRRDgTbL-0r",
        "outputId": "6a9864fb-7f12-489b-f384-f7bd031ead6d",
        "tags": []
      },
      "outputs": [
        {
          "output_type": "execute_result",
          "data": {
            "text/plain": [
              "tensor([1.9586, 2.3339, 2.9598])"
            ]
          },
          "metadata": {},
          "execution_count": 11
        }
      ],
      "source": [
        "normal.sample()"
      ]
    },
    {
      "cell_type": "code",
      "execution_count": 12,
      "metadata": {
        "colab": {
          "base_uri": "https://localhost:8080/"
        },
        "id": "hji5mTnhL-0r",
        "outputId": "c9ef7ab2-7ea1-46e3-eec4-2fb70ac506b8",
        "tags": []
      },
      "outputs": [
        {
          "output_type": "execute_result",
          "data": {
            "text/plain": [
              "tensor([-1.2129, -0.9562, -1.0711])"
            ]
          },
          "metadata": {},
          "execution_count": 12
        }
      ],
      "source": [
        "normal.log_prob(normal.sample())"
      ]
    },
    {
      "cell_type": "markdown",
      "metadata": {
        "id": "drChKHsWJ--U"
      },
      "source": [
        "<img src=\"https://github.com/PGM-Lab/probai-2021-pyro/blob/main/Day1/Figures/blue.png?raw=1\" alt=\"Drawing\" width=2000 height=20>"
      ]
    },
    {
      "cell_type": "markdown",
      "metadata": {
        "id": "T7drVBrtzNgC"
      },
      "source": [
        "### **<span style=\"color:red\">Exercise 2: Multivariate Distributions</span>**\n",
        "\n",
        "* Create a set of Poission Distributions with rate equals to [2, 3, 4].\n",
        "*  Generate 100 samples from the joint distribution\n",
        "*  Compute the log-likelihood of the generated samples.\n",
        "\n",
        "<img src=\"https://github.com/PGM-Lab/probai-2021-pyro/blob/main/Day1/Figures/blue.png?raw=1\" alt=\"Drawing\" width=2000 height=20>"
      ]
    },
    {
      "cell_type": "markdown",
      "metadata": {
        "id": "WV-iBl4xL-0r"
      },
      "source": [
        "# 2. **Pyro’s models** (http://pyro.ai/examples/intro_part_i.html) :\n",
        "\n",
        "\n",
        "* In Pyro, a probabilistic model is defined as a **stochastic function** (i.e. every time it is run, it returns a new sample).\n",
        "\n",
        "* Each random variable is associated with a **primitive stochastic function** using the construct ``pyro.sample(...)``.\n",
        "\n",
        "\n",
        "### 2.1 A Temperature Model\n",
        "\n",
        "\n",
        "\n",
        "As initial running example, we consider the problem of **modelling the temperature**. We first start with a simple model, where temperture is modeled using a random Normal variable."
      ]
    },
    {
      "cell_type": "code",
      "execution_count": 13,
      "metadata": {
        "colab": {
          "base_uri": "https://localhost:8080/"
        },
        "id": "kcU2EmBYL-0s",
        "outputId": "57fc0bfc-2e47-4219-e5d9-ea8d0ddd14e0",
        "tags": []
      },
      "outputs": [
        {
          "output_type": "stream",
          "name": "stdout",
          "text": [
            "tensor(17.4432)\n",
            "tensor(17.0545)\n"
          ]
        }
      ],
      "source": [
        "def model():\n",
        "    temp = pyro.sample('temp', dist.Normal(15.0, 2.0))\n",
        "    return temp\n",
        "\n",
        "print(model())\n",
        "print(model())"
      ]
    },
    {
      "cell_type": "markdown",
      "metadata": {
        "id": "rHvPBK6NSvcF"
      },
      "source": [
        "See how the model behaves as a stochastic function, which **returns a different value everytime it is invoked**."
      ]
    },
    {
      "cell_type": "code",
      "execution_count": 14,
      "metadata": {
        "tags": [],
        "colab": {
          "base_uri": "https://localhost:8080/",
          "height": 80
        },
        "id": "s3AcG5ZMSvcF",
        "outputId": "adf8748d-9044-4095-db81-1fe24dea321d"
      },
      "outputs": [
        {
          "output_type": "execute_result",
          "data": {
            "image/svg+xml": "<?xml version=\"1.0\" encoding=\"UTF-8\" standalone=\"no\"?>\n<!DOCTYPE svg PUBLIC \"-//W3C//DTD SVG 1.1//EN\"\n \"http://www.w3.org/Graphics/SVG/1.1/DTD/svg11.dtd\">\n<!-- Generated by graphviz version 2.43.0 (0)\n -->\n<!-- Title: %3 Pages: 1 -->\n<svg width=\"184pt\" height=\"44pt\"\n viewBox=\"0.00 0.00 184.10 44.00\" xmlns=\"http://www.w3.org/2000/svg\" xmlns:xlink=\"http://www.w3.org/1999/xlink\">\n<g id=\"graph0\" class=\"graph\" transform=\"scale(1 1) rotate(0) translate(4 40)\">\n<title>%3</title>\n<polygon fill=\"white\" stroke=\"transparent\" points=\"-4,4 -4,-40 180.1,-40 180.1,4 -4,4\"/>\n<!-- temp -->\n<g id=\"node1\" class=\"node\">\n<title>temp</title>\n<ellipse fill=\"white\" stroke=\"black\" cx=\"28.6\" cy=\"-18\" rx=\"28.7\" ry=\"18\"/>\n<text text-anchor=\"middle\" x=\"28.6\" y=\"-14.3\" font-family=\"Times,serif\" font-size=\"14.00\">temp</text>\n</g>\n<!-- distribution_description_node -->\n<g id=\"node2\" class=\"node\">\n<title>distribution_description_node</title>\n<text text-anchor=\"start\" x=\"83.1\" y=\"-14.3\" font-family=\"Times,serif\" font-size=\"14.00\">temp ~ Normal</text>\n</g>\n</g>\n</svg>\n",
            "text/plain": [
              "<graphviz.graphs.Digraph at 0x79dc976f5f90>"
            ]
          },
          "metadata": {},
          "execution_count": 14
        }
      ],
      "source": [
        "# Visualize the model\n",
        "pyro.render_model(model, render_distributions=True)"
      ]
    },
    {
      "cell_type": "markdown",
      "metadata": {
        "id": "N0pVeOVpL-0s"
      },
      "source": [
        "\n",
        "\n",
        "<img src=\"https://github.com/PGM-Lab/probai-2021-pyro/blob/main/Day1/Figures/blue.png?raw=1\" alt=\"Drawing\" width=2000 height=20>\n"
      ]
    },
    {
      "cell_type": "markdown",
      "metadata": {
        "id": "Z0biYXEVL-0s"
      },
      "source": [
        "### 2.2 A Temperature-Sensor Model"
      ]
    },
    {
      "cell_type": "markdown",
      "metadata": {
        "id": "Jp6wefVaLCnx"
      },
      "source": [
        "In Pyro, a stochastic method is defined as a **composition of primitive stochastic functions**.\n",
        "\n",
        "*The temperature Model:*\n",
        "We consider the presence of a **temperature sensor**.\n",
        "  * The temperature sensor gives **noisy observations** about the real temperature.\n",
        "  * The **error** of the sensor's measurements **is known**.\n"
      ]
    },
    {
      "cell_type": "code",
      "execution_count": 15,
      "metadata": {
        "colab": {
          "base_uri": "https://localhost:8080/",
          "height": 179
        },
        "id": "VpxheEx-L-0t",
        "outputId": "8cd874f5-fc97-48af-c3c9-166c959f7a4d",
        "tags": []
      },
      "outputs": [
        {
          "output_type": "execute_result",
          "data": {
            "image/svg+xml": "<?xml version=\"1.0\" encoding=\"UTF-8\" standalone=\"no\"?>\n<!DOCTYPE svg PUBLIC \"-//W3C//DTD SVG 1.1//EN\"\n \"http://www.w3.org/Graphics/SVG/1.1/DTD/svg11.dtd\">\n<!-- Generated by graphviz version 2.43.0 (0)\n -->\n<!-- Title: %3 Pages: 1 -->\n<svg width=\"196pt\" height=\"118pt\"\n viewBox=\"0.00 0.00 196.15 118.00\" xmlns=\"http://www.w3.org/2000/svg\" xmlns:xlink=\"http://www.w3.org/1999/xlink\">\n<g id=\"graph0\" class=\"graph\" transform=\"scale(1 1) rotate(0) translate(4 114)\">\n<title>%3</title>\n<polygon fill=\"white\" stroke=\"transparent\" points=\"-4,4 -4,-114 192.15,-114 192.15,4 -4,4\"/>\n<!-- temp -->\n<g id=\"node1\" class=\"node\">\n<title>temp</title>\n<ellipse fill=\"white\" stroke=\"black\" cx=\"33.15\" cy=\"-91\" rx=\"28.7\" ry=\"18\"/>\n<text text-anchor=\"middle\" x=\"33.15\" y=\"-87.3\" font-family=\"Times,serif\" font-size=\"14.00\">temp</text>\n</g>\n<!-- sensor -->\n<g id=\"node2\" class=\"node\">\n<title>sensor</title>\n<ellipse fill=\"white\" stroke=\"black\" cx=\"33.15\" cy=\"-18\" rx=\"33.29\" ry=\"18\"/>\n<text text-anchor=\"middle\" x=\"33.15\" y=\"-14.3\" font-family=\"Times,serif\" font-size=\"14.00\">sensor</text>\n</g>\n<!-- temp&#45;&gt;sensor -->\n<g id=\"edge1\" class=\"edge\">\n<title>temp&#45;&gt;sensor</title>\n<path fill=\"none\" stroke=\"black\" d=\"M33.15,-72.81C33.15,-64.79 33.15,-55.05 33.15,-46.07\"/>\n<polygon fill=\"black\" stroke=\"black\" points=\"36.65,-46.03 33.15,-36.03 29.65,-46.03 36.65,-46.03\"/>\n</g>\n<!-- distribution_description_node -->\n<g id=\"node3\" class=\"node\">\n<title>distribution_description_node</title>\n<text text-anchor=\"start\" x=\"88.15\" y=\"-94.8\" font-family=\"Times,serif\" font-size=\"14.00\">temp ~ Normal</text>\n<text text-anchor=\"start\" x=\"88.15\" y=\"-79.8\" font-family=\"Times,serif\" font-size=\"14.00\">sensor ~ Normal</text>\n</g>\n</g>\n</svg>\n",
            "text/plain": [
              "<graphviz.graphs.Digraph at 0x79dc976f52d0>"
            ]
          },
          "metadata": {},
          "execution_count": 15
        }
      ],
      "source": [
        "def model():\n",
        "    temp = pyro.sample('temp', dist.Normal(15.0, 2.0))\n",
        "    sensor = pyro.sample('sensor', dist.Normal(temp, 1.0))\n",
        "    return (temp, sensor)\n",
        "\n",
        "# Visualize the model\n",
        "pyro.render_model(model, render_distributions=True)"
      ]
    },
    {
      "cell_type": "code",
      "execution_count": 16,
      "metadata": {
        "tags": [],
        "colab": {
          "base_uri": "https://localhost:8080/"
        },
        "id": "254UeMCwSvcG",
        "outputId": "4374c236-4d09-4b10-b989-0b627a0646d6"
      },
      "outputs": [
        {
          "output_type": "execute_result",
          "data": {
            "text/plain": [
              "(tensor(14.6953), tensor(13.7677))"
            ]
          },
          "metadata": {},
          "execution_count": 16
        }
      ],
      "source": [
        "# Sample from the model\n",
        "out1 = model()\n",
        "out1"
      ]
    },
    {
      "cell_type": "markdown",
      "metadata": {
        "id": "L5f6BGpkizCh"
      },
      "source": [
        "---\n",
        "\n",
        "<img src=\"https://github.com/PGM-Lab/probai-2021-pyro/blob/main/Day1/Figures/blue.png?raw=1\" alt=\"Drawing\" width=2000 height=20>\n"
      ]
    },
    {
      "cell_type": "markdown",
      "metadata": {
        "id": "XSXTeNtqL-0t"
      },
      "source": [
        "\n",
        "The above method defines a joint probability distribution:\n",
        "$$p(sensor, temp) = p(sensor|temp)p(temp)$$\n",
        "\n",
        "\n",
        "\n",
        "\n",
        "In this case, we have a simple dependency between the variables. But, as we are in a PPL, dependencies can be expressed in terms of complex deterministic functions (more examples later).\n",
        "\n",
        "\n",
        "\n",
        "<img src=\"https://github.com/PGM-Lab/probai-2021-pyro/blob/main/Day1/Figures/blue.png?raw=1\" alt=\"Drawing\" width=2000 height=20>\n"
      ]
    },
    {
      "cell_type": "markdown",
      "source": [
        "### **<span style=\"color:red\">Exercise 3: Model with two temperature sensors</span>**\n",
        "\n",
        "* Assume you have a room with two different temperature sensors.\n",
        "\n",
        "* Create a Pyro model extending the previous one including a new random varible representing the other temperature sensor. The joint distribution factorizes as follows:\n",
        "\n",
        "$$p(sensor1, sensor2, temp) = p(sensor1|temp)p(sensor2|temp)p(temp)$$\n",
        "\n",
        "\n",
        "* Sample from this model and render the model\n",
        "\n",
        "<img src=\"https://github.com/PGM-Lab/probai-2021-pyro/blob/main/Day1/Figures/blue.png?raw=1\" alt=\"Drawing\" width=2000 height=20>"
      ],
      "metadata": {
        "id": "GPuZdkI3yHE_"
      }
    },
    {
      "cell_type": "code",
      "source": [
        "def model():\n",
        "    temp = pyro.sample('temp', dist.Normal(15.0, 2.0))\n",
        "    sensor = pyro.sample('sensor', dist.Normal(temp, 1.0))\n",
        "    return (temp, sensor)\n",
        "\n",
        "# Visualize the model\n",
        "pyro.render_model(model, render_distributions=True)"
      ],
      "metadata": {
        "colab": {
          "base_uri": "https://localhost:8080/",
          "height": 179
        },
        "id": "wW_vanfqzRdx",
        "outputId": "d7a442ac-4cbd-48cc-be58-5b25460495be"
      },
      "execution_count": 17,
      "outputs": [
        {
          "output_type": "execute_result",
          "data": {
            "image/svg+xml": "<?xml version=\"1.0\" encoding=\"UTF-8\" standalone=\"no\"?>\n<!DOCTYPE svg PUBLIC \"-//W3C//DTD SVG 1.1//EN\"\n \"http://www.w3.org/Graphics/SVG/1.1/DTD/svg11.dtd\">\n<!-- Generated by graphviz version 2.43.0 (0)\n -->\n<!-- Title: %3 Pages: 1 -->\n<svg width=\"196pt\" height=\"118pt\"\n viewBox=\"0.00 0.00 196.15 118.00\" xmlns=\"http://www.w3.org/2000/svg\" xmlns:xlink=\"http://www.w3.org/1999/xlink\">\n<g id=\"graph0\" class=\"graph\" transform=\"scale(1 1) rotate(0) translate(4 114)\">\n<title>%3</title>\n<polygon fill=\"white\" stroke=\"transparent\" points=\"-4,4 -4,-114 192.15,-114 192.15,4 -4,4\"/>\n<!-- temp -->\n<g id=\"node1\" class=\"node\">\n<title>temp</title>\n<ellipse fill=\"white\" stroke=\"black\" cx=\"33.15\" cy=\"-91\" rx=\"28.7\" ry=\"18\"/>\n<text text-anchor=\"middle\" x=\"33.15\" y=\"-87.3\" font-family=\"Times,serif\" font-size=\"14.00\">temp</text>\n</g>\n<!-- sensor -->\n<g id=\"node2\" class=\"node\">\n<title>sensor</title>\n<ellipse fill=\"white\" stroke=\"black\" cx=\"33.15\" cy=\"-18\" rx=\"33.29\" ry=\"18\"/>\n<text text-anchor=\"middle\" x=\"33.15\" y=\"-14.3\" font-family=\"Times,serif\" font-size=\"14.00\">sensor</text>\n</g>\n<!-- temp&#45;&gt;sensor -->\n<g id=\"edge1\" class=\"edge\">\n<title>temp&#45;&gt;sensor</title>\n<path fill=\"none\" stroke=\"black\" d=\"M33.15,-72.81C33.15,-64.79 33.15,-55.05 33.15,-46.07\"/>\n<polygon fill=\"black\" stroke=\"black\" points=\"36.65,-46.03 33.15,-36.03 29.65,-46.03 36.65,-46.03\"/>\n</g>\n<!-- distribution_description_node -->\n<g id=\"node3\" class=\"node\">\n<title>distribution_description_node</title>\n<text text-anchor=\"start\" x=\"88.15\" y=\"-94.8\" font-family=\"Times,serif\" font-size=\"14.00\">temp ~ Normal</text>\n<text text-anchor=\"start\" x=\"88.15\" y=\"-79.8\" font-family=\"Times,serif\" font-size=\"14.00\">sensor ~ Normal</text>\n</g>\n</g>\n</svg>\n",
            "text/plain": [
              "<graphviz.graphs.Digraph at 0x79dc976f5420>"
            ]
          },
          "metadata": {},
          "execution_count": 17
        }
      ]
    },
    {
      "cell_type": "markdown",
      "metadata": {
        "id": "CCayVyTsL-0t"
      },
      "source": [
        "# 3. **Pyro’s inference** (http://pyro.ai/examples/intro_part_ii.html) :"
      ]
    },
    {
      "cell_type": "markdown",
      "metadata": {
        "id": "QyC3v0cyL-0u"
      },
      "source": [
        "### Auxiliary inference functions (more details on Day 2)\n",
        "\n",
        "To make inference on Pyro, we will use a variational inference method, which performs gradient-based optimization to solve the inference problem. More details will be given on Day 2."
      ]
    },
    {
      "cell_type": "code",
      "execution_count": 18,
      "metadata": {
        "id": "arZOTC7gL-0u",
        "tags": [],
        "cellView": "form"
      },
      "outputs": [],
      "source": [
        "# @title\n",
        "from torch.distributions import constraints\n",
        "from pyro.optim import SGD\n",
        "from pyro.infer import Trace_ELBO\n",
        "import matplotlib.pyplot as plt\n",
        "from pyro.contrib.autoguide import AutoNormal\n",
        "\n",
        "\n",
        "def svi(model, obs, guide=None, num_steps = 500, plot = False, verbose=False, lr=0.01):\n",
        "\n",
        "    torch.manual_seed(999)\n",
        "\n",
        "    pyro.clear_param_store()\n",
        "\n",
        "    if guide is None:\n",
        "        guide = AutoNormal(model)\n",
        "\n",
        "    svi = pyro.infer.SVI(model=model,\n",
        "                         guide=guide,\n",
        "                         optim=SGD({\"lr\": lr, \"momentum\":0.1}),\n",
        "                         loss=Trace_ELBO())\n",
        "\n",
        "    elbo, a,b  = [], [], []\n",
        "\n",
        "    for t in range(num_steps):\n",
        "        elbo.append(-svi.step(obs))\n",
        "        if t%100==0:\n",
        "            print('Step: '+str(t)+'. ELBO: ' +str(elbo[-1]))\n",
        "\n",
        "\n",
        "    if (plot):\n",
        "        plt.plot(elbo[2:])\n",
        "        plt.title(\"ELBO\")\n",
        "        plt.xlabel(\"step\")\n",
        "        plt.ylabel(\"ELBO\");\n",
        "        plt.show()\n",
        "\n",
        "    if verbose:\n",
        "        print(\"Inference results:\")\n",
        "        for name, value in pyro.get_param_store().items():\n",
        "            print(name, pyro.param(name).item())"
      ]
    },
    {
      "cell_type": "markdown",
      "metadata": {
        "id": "ovLJGQtcPlBt"
      },
      "source": [
        "* To make inference in Pyro over a given model we need to define a *guide*. This *guide* must have the same signature as its counterpart model.\n",
        "\n",
        "* The guide must provide samples for those variables of the model that are not observed, again using the ``pyro.sample`` construct.\n",
        "\n",
        "* Guides are also parametrized using Pyro's parameters (``pyro.param``), so the variational inference algorithm will optimize over these parameters.\n",
        "\n",
        "* All of this will be explained in detail on Day 2."
      ]
    },
    {
      "cell_type": "markdown",
      "metadata": {
        "id": "mkkHJOFBL-0u"
      },
      "source": [
        "<img src=\"https://github.com/PGM-Lab/probai-2021-pyro/blob/main/Day1/Figures/blue.png?raw=1\" alt=\"Drawing\" width=2000 height=20>\n",
        "\n",
        "### 3.1  Conditioning on a single observation\n",
        "\n",
        "Now, we continue with the last model defined in section 2.2, and assume we have a sensor reading and we want to compute the posterior distribution over the real temperature.\n",
        "\n",
        "This can be achived by introducing **observations in the random variable** with the keyword ``obs=``."
      ]
    },
    {
      "cell_type": "code",
      "execution_count": 19,
      "metadata": {
        "id": "TSzNRm7wL-0v",
        "tags": []
      },
      "outputs": [],
      "source": [
        "#The observatons\n",
        "obs = {'sensor': torch.tensor(18.0)}\n",
        "\n",
        "def model(obs):\n",
        "    temp = pyro.sample('temp', dist.Normal(15.0, 2.0))\n",
        "    sensor = pyro.sample('sensor', dist.Normal(temp, 0.1), obs=obs['sensor'])"
      ]
    },
    {
      "cell_type": "code",
      "execution_count": 20,
      "metadata": {
        "colab": {
          "base_uri": "https://localhost:8080/",
          "height": 179
        },
        "id": "VZ6QIi2-4jRr",
        "outputId": "c08e9f3b-bb46-4228-f6aa-1adc9c3a43a1",
        "tags": []
      },
      "outputs": [
        {
          "output_type": "execute_result",
          "data": {
            "image/svg+xml": "<?xml version=\"1.0\" encoding=\"UTF-8\" standalone=\"no\"?>\n<!DOCTYPE svg PUBLIC \"-//W3C//DTD SVG 1.1//EN\"\n \"http://www.w3.org/Graphics/SVG/1.1/DTD/svg11.dtd\">\n<!-- Generated by graphviz version 2.43.0 (0)\n -->\n<!-- Title: %3 Pages: 1 -->\n<svg width=\"196pt\" height=\"118pt\"\n viewBox=\"0.00 0.00 196.15 118.00\" xmlns=\"http://www.w3.org/2000/svg\" xmlns:xlink=\"http://www.w3.org/1999/xlink\">\n<g id=\"graph0\" class=\"graph\" transform=\"scale(1 1) rotate(0) translate(4 114)\">\n<title>%3</title>\n<polygon fill=\"white\" stroke=\"transparent\" points=\"-4,4 -4,-114 192.15,-114 192.15,4 -4,4\"/>\n<!-- temp -->\n<g id=\"node1\" class=\"node\">\n<title>temp</title>\n<ellipse fill=\"white\" stroke=\"black\" cx=\"33.15\" cy=\"-91\" rx=\"28.7\" ry=\"18\"/>\n<text text-anchor=\"middle\" x=\"33.15\" y=\"-87.3\" font-family=\"Times,serif\" font-size=\"14.00\">temp</text>\n</g>\n<!-- sensor -->\n<g id=\"node2\" class=\"node\">\n<title>sensor</title>\n<ellipse fill=\"gray\" stroke=\"black\" cx=\"33.15\" cy=\"-18\" rx=\"33.29\" ry=\"18\"/>\n<text text-anchor=\"middle\" x=\"33.15\" y=\"-14.3\" font-family=\"Times,serif\" font-size=\"14.00\">sensor</text>\n</g>\n<!-- temp&#45;&gt;sensor -->\n<g id=\"edge1\" class=\"edge\">\n<title>temp&#45;&gt;sensor</title>\n<path fill=\"none\" stroke=\"black\" d=\"M33.15,-72.81C33.15,-64.79 33.15,-55.05 33.15,-46.07\"/>\n<polygon fill=\"black\" stroke=\"black\" points=\"36.65,-46.03 33.15,-36.03 29.65,-46.03 36.65,-46.03\"/>\n</g>\n<!-- distribution_description_node -->\n<g id=\"node3\" class=\"node\">\n<title>distribution_description_node</title>\n<text text-anchor=\"start\" x=\"88.15\" y=\"-94.8\" font-family=\"Times,serif\" font-size=\"14.00\">temp ~ Normal</text>\n<text text-anchor=\"start\" x=\"88.15\" y=\"-79.8\" font-family=\"Times,serif\" font-size=\"14.00\">sensor ~ Normal</text>\n</g>\n</g>\n</svg>\n",
            "text/plain": [
              "<graphviz.graphs.Digraph at 0x79dc9752b010>"
            ]
          },
          "metadata": {},
          "execution_count": 20
        }
      ],
      "source": [
        "#Visualize the model\n",
        "pyro.render_model(model, model_args=(obs, ), render_distributions=True)"
      ]
    },
    {
      "cell_type": "markdown",
      "metadata": {
        "id": "nH3PgF4wL-0w"
      },
      "source": [
        "<img src=\"https://github.com/PGM-Lab/probai-2021-pyro/blob/main/Day1/Figures/blue.png?raw=1\" alt=\"Drawing\" width=2000 height=20>\n",
        "\n",
        "\n",
        "Inference is made using the previously defined auxiliary functions, ``svi`` and ``guide``. This allows us to query the **posterior probability distribution**:\n",
        "\n",
        "\n",
        "$$p(temp | sensor=18)=\\frac{p(sensor=18|temp)p(temp)}{\\int p(sensor=18|temp)p(temp) dtemp}$$\n",
        "\n"
      ]
    },
    {
      "cell_type": "code",
      "execution_count": 27,
      "metadata": {
        "colab": {
          "base_uri": "https://localhost:8080/",
          "height": 569
        },
        "id": "VObMyZQ_L-0w",
        "outputId": "a1d7bd98-248b-4f1a-856b-333b69ffa2d2",
        "tags": []
      },
      "outputs": [
        {
          "output_type": "stream",
          "name": "stdout",
          "text": [
            "Step: 0. ELBO: -16147.421896100044\n",
            "Step: 100. ELBO: -5.638109087944031\n",
            "Step: 200. ELBO: -2.748673915863037\n",
            "Step: 300. ELBO: -2.5427181720733643\n",
            "Step: 400. ELBO: -2.9723092317581177\n"
          ]
        },
        {
          "output_type": "display_data",
          "data": {
            "text/plain": [
              "<Figure size 640x480 with 1 Axes>"
            ],
            "image/png": "[encoded data removed]"
          },
          "metadata": {}
        },
        {
          "output_type": "stream",
          "name": "stdout",
          "text": [
            "P(Temperature|Sensor=18.0) = \n",
            "Normal(loc: 18.043657302856445, scale: 0.11020330339670181)\n",
            "\n"
          ]
        }
      ],
      "source": [
        "#Run inference\n",
        "svi(model,obs, plot=False)\n",
        "\n",
        "\n",
        "mu = pyro.param(\"AutoNormal.locs.temp\").item()\n",
        "scale = pyro.param(\"AutoNormal.scales.temp\").item()\n",
        "x = np.linspace(mu - 3*scale, mu + 3*scale, 100)\n",
        "plt.plot(x, stats.norm.pdf(x, mu, scale), label='p(temp | sensor=18)')\n",
        "point = obs[\"sensor\"] # Previously calculated above\n",
        "plt.plot([point, point],[0., np.max(stats.norm.pdf(x, mu, scale))], label='Observation')\n",
        "plt.xlim(17,19)\n",
        "plt.legend()\n",
        "plt.show()\n",
        "\n",
        "\n",
        "#Print results\n",
        "print(\"P(Temperature|Sensor=18.0) = \")\n",
        "print(dist.Normal(pyro.param(\"AutoNormal.locs.temp\").item(), pyro.param(\"AutoNormal.scales.temp\").item()))\n",
        "print(\"\")"
      ]
    },
    {
      "cell_type": "markdown",
      "metadata": {
        "id": "ZglqMEmSL-0w"
      },
      "source": [
        "\n",
        "<img src=\"https://github.com/PGM-Lab/probai-2021-pyro/blob/main/Day1/Figures/blue.png?raw=1\" alt=\"Drawing\" width=2000 height=20>\n"
      ]
    },
    {
      "cell_type": "markdown",
      "source": [
        "### **<span style=\"color:red\">Exercise 4: Changing the sensitivity of the sensor</span>**\n",
        "\n",
        "* Change the sensitity of the sensor by changing the variance of the Normal random variable\n",
        "*  Explore the effect in the postertior\n",
        "\n",
        "<img src=\"https://github.com/PGM-Lab/probai-2021-pyro/blob/main/Day1/Figures/blue.png?raw=1\" alt=\"Drawing\" width=2000 height=20>"
      ],
      "metadata": {
        "id": "LX8-zJCM6z7T"
      }
    },
    {
      "cell_type": "markdown",
      "metadata": {
        "id": "WAbW6UoTL-0x"
      },
      "source": [
        "### 3.2  Learning from a bunch of observations\n",
        "\n",
        "* Let us assume that we have a **set of observations** of the temperature at different time steps.\n",
        "\n",
        "* Following a probabilistic modelling approach, we define a **set of random variables**.\n",
        "\n",
        "* One random variable for each **observation** using a standard ``for-loop``."
      ]
    },
    {
      "cell_type": "markdown",
      "metadata": {
        "id": "fjcPTM1PL-0x"
      },
      "source": [
        "\n",
        "<img src=\"https://github.com/PGM-Lab/probai-2021-pyro/blob/main/Day1/Figures/blue.png?raw=1\" alt=\"Drawing\" width=2000 height=20>\n",
        "\n",
        "What if we do **not know the mean temperature**?\n",
        "\n",
        "* We can **infer it from the data** by, e.g., using a **maximum likelihood** approach,\n",
        "$$ \\mu_{t} = \\arg\\max_\\mu \\ln p(s_1,\\ldots,s_n|\\mu) = \\arg\\max_\\mu \\ln \\prod_i \\int_{t_i} p(s_i|t_i)p(t_i|\\mu) dt_i, $$ where $s_i$ and $t_i$ denote the sensor reading and the real temperature at time $i$.\n",
        "\n",
        "* The graphical model:\n",
        "<center>\n",
        "<img src=\"https://github.com/PGM-Lab/probai-2021-pyro/blob/main/Day1/Figures/PGM-Tem_sensor4.png?raw=1\" alt=\"Drawing\" width=\"200\">\n",
        "</center>\n",
        "* For now we do not consider the **underlying inference problem** We just define the model and let the **PPL's engine** make the work for us.\n",
        "\n",
        "* We use Pyro's parameters (defined as ``pyro.param``), which are free variables we can optimize.\n"
      ]
    },
    {
      "cell_type": "code",
      "execution_count": 32,
      "metadata": {
        "id": "yXEFGMkzL-0x",
        "tags": []
      },
      "outputs": [],
      "source": [
        "#The observatons\n",
        "obs = {'sensor': torch.tensor([18., 18.7, 19.2, 17.8, 20.3, 22.4, 20.3, 21.2, 19.5, 20.1])}\n",
        "\n",
        "def model(obs):\n",
        "    mean_temp = pyro.param('mean_temp', torch.tensor(15.0))\n",
        "    for i in range(obs['sensor'].shape[0]):\n",
        "        temp = pyro.sample(f'temp_{i}', dist.Normal(mean_temp, 2.0))\n",
        "        sensor = pyro.sample(f'sensor_{i}', dist.Normal(temp, 1.0), obs=obs['sensor'][i])"
      ]
    },
    {
      "cell_type": "code",
      "execution_count": 33,
      "metadata": {
        "colab": {
          "base_uri": "https://localhost:8080/",
          "height": 244
        },
        "id": "Mu5lyrlD4jRs",
        "outputId": "2b1f0227-3dc8-4faf-c1ba-79a064a46d42",
        "tags": []
      },
      "outputs": [
        {
          "output_type": "execute_result",
          "data": {
            "image/svg+xml": "<?xml version=\"1.0\" encoding=\"UTF-8\" standalone=\"no\"?>\n<!DOCTYPE svg PUBLIC \"-//W3C//DTD SVG 1.1//EN\"\n \"http://www.w3.org/Graphics/SVG/1.1/DTD/svg11.dtd\">\n<!-- Generated by graphviz version 2.43.0 (0)\n -->\n<!-- Title: %3 Pages: 1 -->\n<svg width=\"1010pt\" height=\"167pt\"\n viewBox=\"0.00 0.00 1010.49 167.00\" xmlns=\"http://www.w3.org/2000/svg\" xmlns:xlink=\"http://www.w3.org/1999/xlink\">\n<g id=\"graph0\" class=\"graph\" transform=\"scale(1 1) rotate(0) translate(4 163)\">\n<title>%3</title>\n<polygon fill=\"white\" stroke=\"transparent\" points=\"-4,4 -4,-163 1006.49,-163 1006.49,4 -4,4\"/>\n<!-- temp_0 -->\n<g id=\"node1\" class=\"node\">\n<title>temp_0</title>\n<ellipse fill=\"white\" stroke=\"black\" cx=\"51.25\" cy=\"-90\" rx=\"37.89\" ry=\"18\"/>\n<text text-anchor=\"middle\" x=\"51.25\" y=\"-86.3\" font-family=\"Times,serif\" font-size=\"14.00\">temp_0</text>\n</g>\n<!-- sensor_0 -->\n<g id=\"node2\" class=\"node\">\n<title>sensor_0</title>\n<ellipse fill=\"gray\" stroke=\"black\" cx=\"42.25\" cy=\"-18\" rx=\"42.49\" ry=\"18\"/>\n<text text-anchor=\"middle\" x=\"42.25\" y=\"-14.3\" font-family=\"Times,serif\" font-size=\"14.00\">sensor_0</text>\n</g>\n<!-- temp_0&#45;&gt;sensor_0 -->\n<g id=\"edge1\" class=\"edge\">\n<title>temp_0&#45;&gt;sensor_0</title>\n<path fill=\"none\" stroke=\"black\" d=\"M49.02,-71.7C48.03,-63.98 46.84,-54.71 45.73,-46.11\"/>\n<polygon fill=\"black\" stroke=\"black\" points=\"49.19,-45.58 44.45,-36.1 42.25,-46.47 49.19,-45.58\"/>\n</g>\n<!-- temp_1 -->\n<g id=\"node3\" class=\"node\">\n<title>temp_1</title>\n<ellipse fill=\"white\" stroke=\"black\" cx=\"148.25\" cy=\"-90\" rx=\"37.89\" ry=\"18\"/>\n<text text-anchor=\"middle\" x=\"148.25\" y=\"-86.3\" font-family=\"Times,serif\" font-size=\"14.00\">temp_1</text>\n</g>\n<!-- sensor_1 -->\n<g id=\"node4\" class=\"node\">\n<title>sensor_1</title>\n<ellipse fill=\"gray\" stroke=\"black\" cx=\"144.25\" cy=\"-18\" rx=\"42.49\" ry=\"18\"/>\n<text text-anchor=\"middle\" x=\"144.25\" y=\"-14.3\" font-family=\"Times,serif\" font-size=\"14.00\">sensor_1</text>\n</g>\n<!-- temp_1&#45;&gt;sensor_1 -->\n<g id=\"edge2\" class=\"edge\">\n<title>temp_1&#45;&gt;sensor_1</title>\n<path fill=\"none\" stroke=\"black\" d=\"M147.26,-71.7C146.82,-63.98 146.29,-54.71 145.8,-46.11\"/>\n<polygon fill=\"black\" stroke=\"black\" points=\"149.29,-45.89 145.22,-36.1 142.3,-46.29 149.29,-45.89\"/>\n</g>\n<!-- temp_2 -->\n<g id=\"node5\" class=\"node\">\n<title>temp_2</title>\n<ellipse fill=\"white\" stroke=\"black\" cx=\"250.25\" cy=\"-90\" rx=\"37.89\" ry=\"18\"/>\n<text text-anchor=\"middle\" x=\"250.25\" y=\"-86.3\" font-family=\"Times,serif\" font-size=\"14.00\">temp_2</text>\n</g>\n<!-- sensor_2 -->\n<g id=\"node6\" class=\"node\">\n<title>sensor_2</title>\n<ellipse fill=\"gray\" stroke=\"black\" cx=\"246.25\" cy=\"-18\" rx=\"42.49\" ry=\"18\"/>\n<text text-anchor=\"middle\" x=\"246.25\" y=\"-14.3\" font-family=\"Times,serif\" font-size=\"14.00\">sensor_2</text>\n</g>\n<!-- temp_2&#45;&gt;sensor_2 -->\n<g id=\"edge3\" class=\"edge\">\n<title>temp_2&#45;&gt;sensor_2</title>\n<path fill=\"none\" stroke=\"black\" d=\"M249.26,-71.7C248.82,-63.98 248.29,-54.71 247.8,-46.11\"/>\n<polygon fill=\"black\" stroke=\"black\" points=\"251.29,-45.89 247.22,-36.1 244.3,-46.29 251.29,-45.89\"/>\n</g>\n<!-- temp_3 -->\n<g id=\"node7\" class=\"node\">\n<title>temp_3</title>\n<ellipse fill=\"white\" stroke=\"black\" cx=\"352.25\" cy=\"-90\" rx=\"37.89\" ry=\"18\"/>\n<text text-anchor=\"middle\" x=\"352.25\" y=\"-86.3\" font-family=\"Times,serif\" font-size=\"14.00\">temp_3</text>\n</g>\n<!-- sensor_3 -->\n<g id=\"node8\" class=\"node\">\n<title>sensor_3</title>\n<ellipse fill=\"gray\" stroke=\"black\" cx=\"348.25\" cy=\"-18\" rx=\"42.49\" ry=\"18\"/>\n<text text-anchor=\"middle\" x=\"348.25\" y=\"-14.3\" font-family=\"Times,serif\" font-size=\"14.00\">sensor_3</text>\n</g>\n<!-- temp_3&#45;&gt;sensor_3 -->\n<g id=\"edge4\" class=\"edge\">\n<title>temp_3&#45;&gt;sensor_3</title>\n<path fill=\"none\" stroke=\"black\" d=\"M351.26,-71.7C350.82,-63.98 350.29,-54.71 349.8,-46.11\"/>\n<polygon fill=\"black\" stroke=\"black\" points=\"353.29,-45.89 349.22,-36.1 346.3,-46.29 353.29,-45.89\"/>\n</g>\n<!-- temp_4 -->\n<g id=\"node9\" class=\"node\">\n<title>temp_4</title>\n<ellipse fill=\"white\" stroke=\"black\" cx=\"451.25\" cy=\"-90\" rx=\"37.89\" ry=\"18\"/>\n<text text-anchor=\"middle\" x=\"451.25\" y=\"-86.3\" font-family=\"Times,serif\" font-size=\"14.00\">temp_4</text>\n</g>\n<!-- sensor_4 -->\n<g id=\"node10\" class=\"node\">\n<title>sensor_4</title>\n<ellipse fill=\"gray\" stroke=\"black\" cx=\"450.25\" cy=\"-18\" rx=\"42.49\" ry=\"18\"/>\n<text text-anchor=\"middle\" x=\"450.25\" y=\"-14.3\" font-family=\"Times,serif\" font-size=\"14.00\">sensor_4</text>\n</g>\n<!-- temp_4&#45;&gt;sensor_4 -->\n<g id=\"edge5\" class=\"edge\">\n<title>temp_4&#45;&gt;sensor_4</title>\n<path fill=\"none\" stroke=\"black\" d=\"M451,-71.7C450.89,-63.98 450.76,-54.71 450.63,-46.11\"/>\n<polygon fill=\"black\" stroke=\"black\" points=\"454.13,-46.05 450.49,-36.1 447.13,-46.15 454.13,-46.05\"/>\n</g>\n<!-- temp_5 -->\n<g id=\"node11\" class=\"node\">\n<title>temp_5</title>\n<ellipse fill=\"white\" stroke=\"black\" cx=\"545.25\" cy=\"-90\" rx=\"37.89\" ry=\"18\"/>\n<text text-anchor=\"middle\" x=\"545.25\" y=\"-86.3\" font-family=\"Times,serif\" font-size=\"14.00\">temp_5</text>\n</g>\n<!-- sensor_5 -->\n<g id=\"node12\" class=\"node\">\n<title>sensor_5</title>\n<ellipse fill=\"gray\" stroke=\"black\" cx=\"552.25\" cy=\"-18\" rx=\"42.49\" ry=\"18\"/>\n<text text-anchor=\"middle\" x=\"552.25\" y=\"-14.3\" font-family=\"Times,serif\" font-size=\"14.00\">sensor_5</text>\n</g>\n<!-- temp_5&#45;&gt;sensor_5 -->\n<g id=\"edge6\" class=\"edge\">\n<title>temp_5&#45;&gt;sensor_5</title>\n<path fill=\"none\" stroke=\"black\" d=\"M546.98,-71.7C547.75,-63.98 548.68,-54.71 549.54,-46.11\"/>\n<polygon fill=\"black\" stroke=\"black\" points=\"553.02,-46.4 550.54,-36.1 546.06,-45.71 553.02,-46.4\"/>\n</g>\n<!-- temp_6 -->\n<g id=\"node13\" class=\"node\">\n<title>temp_6</title>\n<ellipse fill=\"white\" stroke=\"black\" cx=\"641.25\" cy=\"-90\" rx=\"37.89\" ry=\"18\"/>\n<text text-anchor=\"middle\" x=\"641.25\" y=\"-86.3\" font-family=\"Times,serif\" font-size=\"14.00\">temp_6</text>\n</g>\n<!-- sensor_6 -->\n<g id=\"node14\" class=\"node\">\n<title>sensor_6</title>\n<ellipse fill=\"gray\" stroke=\"black\" cx=\"654.25\" cy=\"-18\" rx=\"42.49\" ry=\"18\"/>\n<text text-anchor=\"middle\" x=\"654.25\" y=\"-14.3\" font-family=\"Times,serif\" font-size=\"14.00\">sensor_6</text>\n</g>\n<!-- temp_6&#45;&gt;sensor_6 -->\n<g id=\"edge7\" class=\"edge\">\n<title>temp_6&#45;&gt;sensor_6</title>\n<path fill=\"none\" stroke=\"black\" d=\"M644.39,-72.05C645.82,-64.35 647.56,-55.03 649.16,-46.36\"/>\n<polygon fill=\"black\" stroke=\"black\" points=\"652.65,-46.75 651.04,-36.28 645.77,-45.47 652.65,-46.75\"/>\n</g>\n<!-- temp_7 -->\n<g id=\"node15\" class=\"node\">\n<title>temp_7</title>\n<ellipse fill=\"white\" stroke=\"black\" cx=\"740.25\" cy=\"-90\" rx=\"37.89\" ry=\"18\"/>\n<text text-anchor=\"middle\" x=\"740.25\" y=\"-86.3\" font-family=\"Times,serif\" font-size=\"14.00\">temp_7</text>\n</g>\n<!-- sensor_7 -->\n<g id=\"node16\" class=\"node\">\n<title>sensor_7</title>\n<ellipse fill=\"gray\" stroke=\"black\" cx=\"756.25\" cy=\"-18\" rx=\"42.49\" ry=\"18\"/>\n<text text-anchor=\"middle\" x=\"756.25\" y=\"-14.3\" font-family=\"Times,serif\" font-size=\"14.00\">sensor_7</text>\n</g>\n<!-- temp_7&#45;&gt;sensor_7 -->\n<g id=\"edge8\" class=\"edge\">\n<title>temp_7&#45;&gt;sensor_7</title>\n<path fill=\"none\" stroke=\"black\" d=\"M744.12,-72.05C745.9,-64.26 748.06,-54.82 750.06,-46.08\"/>\n<polygon fill=\"black\" stroke=\"black\" points=\"753.48,-46.8 752.3,-36.28 746.66,-45.24 753.48,-46.8\"/>\n</g>\n<!-- temp_8 -->\n<g id=\"node17\" class=\"node\">\n<title>temp_8</title>\n<ellipse fill=\"white\" stroke=\"black\" cx=\"844.25\" cy=\"-90\" rx=\"37.89\" ry=\"18\"/>\n<text text-anchor=\"middle\" x=\"844.25\" y=\"-86.3\" font-family=\"Times,serif\" font-size=\"14.00\">temp_8</text>\n</g>\n<!-- sensor_8 -->\n<g id=\"node18\" class=\"node\">\n<title>sensor_8</title>\n<ellipse fill=\"gray\" stroke=\"black\" cx=\"858.25\" cy=\"-18\" rx=\"42.49\" ry=\"18\"/>\n<text text-anchor=\"middle\" x=\"858.25\" y=\"-14.3\" font-family=\"Times,serif\" font-size=\"14.00\">sensor_8</text>\n</g>\n<!-- temp_8&#45;&gt;sensor_8 -->\n<g id=\"edge9\" class=\"edge\">\n<title>temp_8&#45;&gt;sensor_8</title>\n<path fill=\"none\" stroke=\"black\" d=\"M847.64,-72.05C849.18,-64.35 851.04,-55.03 852.77,-46.36\"/>\n<polygon fill=\"black\" stroke=\"black\" points=\"856.26,-46.77 854.79,-36.28 849.4,-45.39 856.26,-46.77\"/>\n</g>\n<!-- temp_9 -->\n<g id=\"node19\" class=\"node\">\n<title>temp_9</title>\n<ellipse fill=\"white\" stroke=\"black\" cx=\"959.25\" cy=\"-90\" rx=\"37.89\" ry=\"18\"/>\n<text text-anchor=\"middle\" x=\"959.25\" y=\"-86.3\" font-family=\"Times,serif\" font-size=\"14.00\">temp_9</text>\n</g>\n<!-- sensor_9 -->\n<g id=\"node20\" class=\"node\">\n<title>sensor_9</title>\n<ellipse fill=\"gray\" stroke=\"black\" cx=\"960.25\" cy=\"-18\" rx=\"42.49\" ry=\"18\"/>\n<text text-anchor=\"middle\" x=\"960.25\" y=\"-14.3\" font-family=\"Times,serif\" font-size=\"14.00\">sensor_9</text>\n</g>\n<!-- temp_9&#45;&gt;sensor_9 -->\n<g id=\"edge10\" class=\"edge\">\n<title>temp_9&#45;&gt;sensor_9</title>\n<path fill=\"none\" stroke=\"black\" d=\"M959.49,-71.7C959.6,-63.98 959.74,-54.71 959.86,-46.11\"/>\n<polygon fill=\"black\" stroke=\"black\" points=\"963.36,-46.15 960,-36.1 956.36,-46.05 963.36,-46.15\"/>\n</g>\n<!-- mean_temp -->\n<g id=\"node21\" class=\"node\">\n<title>mean_temp</title>\n<polygon fill=\"white\" stroke=\"transparent\" points=\"530.75,-159 465.75,-159 465.75,-144 530.75,-144 530.75,-159\"/>\n<text text-anchor=\"middle\" x=\"498.25\" y=\"-147.8\" font-family=\"Times,serif\" font-size=\"14.00\">mean_temp</text>\n</g>\n<!-- mean_temp&#45;&gt;temp_0 -->\n<g id=\"edge11\" class=\"edge\">\n<title>mean_temp&#45;&gt;temp_0</title>\n<path fill=\"none\" stroke=\"black\" d=\"M465.69,-149.45C397.39,-146.71 234.42,-137.39 101.25,-108 97.38,-107.15 93.39,-106.1 89.44,-104.94\"/>\n<polygon fill=\"black\" stroke=\"black\" points=\"90.35,-101.56 79.76,-101.9 88.25,-108.24 90.35,-101.56\"/>\n</g>\n<!-- mean_temp&#45;&gt;temp_1 -->\n<g id=\"edge12\" class=\"edge\">\n<title>mean_temp&#45;&gt;temp_1</title>\n<path fill=\"none\" stroke=\"black\" d=\"M465.64,-147.49C410.93,-142.06 297.39,-129.19 203.25,-108 198.2,-106.86 192.94,-105.49 187.76,-104.02\"/>\n<polygon fill=\"black\" stroke=\"black\" points=\"188.57,-100.61 177.99,-101.12 186.58,-107.32 188.57,-100.61\"/>\n</g>\n<!-- mean_temp&#45;&gt;temp_2 -->\n<g id=\"edge13\" class=\"edge\">\n<title>mean_temp&#45;&gt;temp_2</title>\n<path fill=\"none\" stroke=\"black\" d=\"M465.61,-144.17C427.07,-136.51 361.14,-122.77 305.25,-108 300.48,-106.74 295.52,-105.34 290.6,-103.89\"/>\n<polygon fill=\"black\" stroke=\"black\" points=\"291.25,-100.43 280.66,-100.9 289.23,-107.13 291.25,-100.43\"/>\n</g>\n<!-- mean_temp&#45;&gt;temp_3 -->\n<g id=\"edge14\" class=\"edge\">\n<title>mean_temp&#45;&gt;temp_3</title>\n<path fill=\"none\" stroke=\"black\" d=\"M482.06,-143.91C459.82,-134.84 419.16,-118.27 389.26,-106.08\"/>\n<polygon fill=\"black\" stroke=\"black\" points=\"390.54,-102.83 379.96,-102.29 387.9,-109.31 390.54,-102.83\"/>\n</g>\n<!-- mean_temp&#45;&gt;temp_4 -->\n<g id=\"edge15\" class=\"edge\">\n<title>mean_temp&#45;&gt;temp_4</title>\n<path fill=\"none\" stroke=\"black\" d=\"M492.85,-143.67C487.38,-136.74 478.56,-125.58 470.46,-115.32\"/>\n<polygon fill=\"black\" stroke=\"black\" points=\"473.13,-113.05 464.18,-107.38 467.63,-117.39 473.13,-113.05\"/>\n</g>\n<!-- mean_temp&#45;&gt;temp_5 -->\n<g id=\"edge16\" class=\"edge\">\n<title>mean_temp&#45;&gt;temp_5</title>\n<path fill=\"none\" stroke=\"black\" d=\"M503.64,-143.67C509.12,-136.74 517.93,-125.58 526.04,-115.32\"/>\n<polygon fill=\"black\" stroke=\"black\" points=\"528.86,-117.39 532.31,-107.38 523.36,-113.05 528.86,-117.39\"/>\n</g>\n<!-- mean_temp&#45;&gt;temp_6 -->\n<g id=\"edge17\" class=\"edge\">\n<title>mean_temp&#45;&gt;temp_6</title>\n<path fill=\"none\" stroke=\"black\" d=\"M514.1,-143.91C535.72,-134.91 575.12,-118.51 604.35,-106.35\"/>\n<polygon fill=\"black\" stroke=\"black\" points=\"605.95,-109.48 613.83,-102.41 603.26,-103.02 605.95,-109.48\"/>\n</g>\n<!-- mean_temp&#45;&gt;temp_7 -->\n<g id=\"edge18\" class=\"edge\">\n<title>mean_temp&#45;&gt;temp_7</title>\n<path fill=\"none\" stroke=\"black\" d=\"M530.75,-144.22C568.77,-136.64 633.49,-123.04 688.25,-108 692.37,-106.87 696.65,-105.61 700.9,-104.3\"/>\n<polygon fill=\"black\" stroke=\"black\" points=\"702.22,-107.56 710.7,-101.2 700.11,-100.88 702.22,-107.56\"/>\n</g>\n<!-- mean_temp&#45;&gt;temp_8 -->\n<g id=\"edge19\" class=\"edge\">\n<title>mean_temp&#45;&gt;temp_8</title>\n<path fill=\"none\" stroke=\"black\" d=\"M531.03,-147.23C584.92,-141.52 695.4,-128.34 787.25,-108 792.73,-106.79 798.45,-105.32 804.07,-103.77\"/>\n<polygon fill=\"black\" stroke=\"black\" points=\"805.35,-107.04 813.99,-100.9 803.41,-100.31 805.35,-107.04\"/>\n</g>\n<!-- mean_temp&#45;&gt;temp_9 -->\n<g id=\"edge20\" class=\"edge\">\n<title>mean_temp&#45;&gt;temp_9</title>\n<path fill=\"none\" stroke=\"black\" d=\"M530.81,-148.5C598.4,-144.01 758.65,-131.63 891.25,-108 899.86,-106.47 908.99,-104.45 917.68,-102.35\"/>\n<polygon fill=\"black\" stroke=\"black\" points=\"918.76,-105.69 927.61,-99.87 917.06,-98.9 918.76,-105.69\"/>\n</g>\n</g>\n</svg>\n",
            "text/plain": [
              "<graphviz.graphs.Digraph at 0x79dc8e1506a0>"
            ]
          },
          "metadata": {},
          "execution_count": 33
        }
      ],
      "source": [
        "#Visualize the model\n",
        "pyro.render_model(model, model_args=(obs, ), render_params=True)"
      ]
    },
    {
      "cell_type": "code",
      "execution_count": 34,
      "metadata": {
        "colab": {
          "base_uri": "https://localhost:8080/"
        },
        "id": "GEfOM8zWL-0y",
        "outputId": "bf585f16-4602-42c1-825c-f7d514c18781",
        "tags": []
      },
      "outputs": [
        {
          "output_type": "stream",
          "name": "stdout",
          "text": [
            "Step: 0. ELBO: -2270.0551319122314\n",
            "Step: 100. ELBO: -247.7783883213997\n",
            "Step: 200. ELBO: -56.34299427270889\n",
            "Step: 300. ELBO: -23.71842250227928\n",
            "Step: 400. ELBO: -18.077348172664642\n",
            "Estimated Mean Temperature (MLE):\n",
            "19.568622589111328\n"
          ]
        }
      ],
      "source": [
        "#Run inference\n",
        "svi(model, obs)\n",
        "\n",
        "#Print results\n",
        "print(\"Estimated Mean Temperature (MLE):\")\n",
        "mle_mean_temp = pyro.param(\"mean_temp\").item()\n",
        "print(mle_mean_temp)"
      ]
    },
    {
      "cell_type": "markdown",
      "metadata": {
        "id": "tiCwbfJwL-0y"
      },
      "source": [
        "<img src=\"https://github.com/PGM-Lab/probai-2021-pyro/blob/main/Day1/Figures/blue.png?raw=1\" alt=\"Drawing\" width=2000 height=20>\n",
        "\n",
        "Instead of performing *maximum likelihood* learning, we can perform **Bayesian learning**:\n",
        "\n",
        "* We treat the unknown quantity as a **random variable**.\n",
        "\n",
        "This model can graphically be represented as follows:\n",
        "\n",
        "<center>\n",
        "<img src=\"https://github.com/PGM-Lab/probai-2021-pyro/blob/main/Day1/Figures/PGM-Tem-Sensor2.png?raw=1\" alt=\"Drawing\" width=\"200\">\n",
        "</center>\n",
        "<img src=\"https://github.com/PGM-Lab/probai-2021-pyro/blob/main/Day1/Figures/blue.png?raw=1\" alt=\"Drawing\" width=2000 height=20>\n",
        "\n"
      ]
    },
    {
      "cell_type": "code",
      "execution_count": null,
      "metadata": {
        "id": "CaTdLm6ML-0y",
        "tags": []
      },
      "outputs": [],
      "source": [
        "#The observatons\n",
        "obs = {'sensor': torch.tensor([18., 18.7, 19.2, 17.8, 20.3, 22.4, 20.3, 21.2, 19.5, 20.1])}\n",
        "\n",
        "def model(obs):\n",
        "    mean_temp = pyro.sample('mean_temp', dist.Normal(15.0, 2.0))\n",
        "    for i in range(obs['sensor'].shape[0]):\n",
        "        temp = pyro.sample(f'temp_{i}', dist.Normal(mean_temp, 2.0))\n",
        "        sensor = pyro.sample(f'sensor_{i}', dist.Normal(temp, 1.0), obs=obs['sensor'][i])"
      ]
    },
    {
      "cell_type": "code",
      "execution_count": null,
      "metadata": {
        "id": "uF-4Gmyb4jRs",
        "tags": []
      },
      "outputs": [],
      "source": [
        "#Visualize the model\n",
        "pyro.render_model(model, model_args=(obs, ))"
      ]
    },
    {
      "cell_type": "markdown",
      "metadata": {
        "id": "jJfVNZFBL-0y"
      },
      "source": [
        "---\n",
        "<img src=\"https://github.com/PGM-Lab/probai-2021-pyro/blob/main/Day1/Figures/blue.png?raw=1\" alt=\"Drawing\" width=2000 height=20>\n",
        "\n",
        "We perform inference over this model:\n",
        "\n",
        " $$ p(\\mu_t | s_1,\\ldots, s_n)=\\frac{p(\\mu_t)\\prod_{i=1}^n \\int p(s_i|t_i)p(t_i|\\mu_t)dt_i }{\\int \\prod_{i=1}^n p(s_i|\\mu_t)p(\\mu_t) d\\mu} $$\n"
      ]
    },
    {
      "cell_type": "code",
      "execution_count": null,
      "metadata": {
        "id": "W0YiqM36L-0z",
        "tags": []
      },
      "outputs": [],
      "source": [
        "import time\n",
        "\n",
        "#Run inference\n",
        "start = time.time()\n",
        "svi(model, obs)\n",
        "\n",
        "#Print results\n",
        "print(\"P(mean_temp|Sensor=[18., 18.7, 19.2, 17.8, 20.3, 22.4, 20.3, 21.2, 19.5, 20.1]) =\")\n",
        "print(dist.Normal(pyro.param(\"AutoNormal.locs.mean_temp\").item(), pyro.param(\"AutoNormal.scales.mean_temp\").item()))\n",
        "print(\"\")\n",
        "end = time.time()\n",
        "print(f\"{(end - start)} seconds\")"
      ]
    },
    {
      "cell_type": "markdown",
      "metadata": {
        "id": "YFKoGLcnL-0z"
      },
      "source": [
        "---\n",
        "* Observe that the result of the learning is **not a point estimate**.\n",
        "\n",
        "* We have a **posterior distribution** which captures **uncertainty** about the estimation.\n",
        "\n",
        "---"
      ]
    },
    {
      "cell_type": "code",
      "execution_count": null,
      "metadata": {
        "id": "ES_yHXNKL-0z",
        "tags": []
      },
      "outputs": [],
      "source": [
        "import numpy as np\n",
        "import scipy.stats as stats\n",
        "\n",
        "mu = pyro.param(\"AutoNormal.locs.mean_temp\").item()\n",
        "scale = pyro.param(\"AutoNormal.scales.mean_temp\").item()\n",
        "x = np.linspace(mu - 3*scale, mu + 3*scale, 100)\n",
        "plt.plot(x, stats.norm.pdf(x, mu, scale), label='Posterior over $\\mu$')\n",
        "point = mle_mean_temp # Previously calculated above\n",
        "plt.plot([point, point],[0., 1.], label='MLE point estimate of $\\mu$')\n",
        "plt.legend()\n",
        "plt.show()"
      ]
    },
    {
      "cell_type": "markdown",
      "metadata": {
        "id": "1SXUdMtUL-00"
      },
      "source": [
        "<img src=\"https://github.com/PGM-Lab/probai-2021-pyro/blob/main/Day1/Figures/blue.png?raw=1\" alt=\"Drawing\" width=2000 height=20>\n",
        "\n",
        "\n",
        "### 3.3 The use of ``plate`` construct\n",
        "\n",
        "Pyro can exploit **conditional independencies and vectorization** to make inference much faster.\n",
        "\n",
        "* This can be done with the construct **``plate``**.\n",
        "\n",
        "* With this construct, we can indicate that the variables $s_i$ and $t_i$ are **conditionally indepdendent** from another variables $s_j$ and $t_j$ given $\\mu_t$.\n",
        "\n",
        "<center>\n",
        "<img src=\"https://github.com/PGM-Lab/probai-2021-pyro/blob/main/Day1/Figures/PGM-Tem-Sensor2.png?raw=1\" alt=\"Drawing\" width=\"200\">\n",
        "</center>\n"
      ]
    },
    {
      "cell_type": "code",
      "execution_count": null,
      "metadata": {
        "id": "4LlQKqp4L-00",
        "tags": []
      },
      "outputs": [],
      "source": [
        "#The observatons\n",
        "obs = {'sensor': torch.tensor([18., 18.7, 19.2, 17.8, 20.3, 22.4, 20.3, 21.2, 19.5, 20.1])}\n",
        "\n",
        "def model(obs):\n",
        "    mean_temp = pyro.sample('mean_temp', dist.Normal(15.0, 2.0))\n",
        "    with pyro.plate('N='+str(obs['sensor'].shape[0]), obs['sensor'].shape[0]):\n",
        "        temp = pyro.sample('temp', dist.Normal(mean_temp, 2.0))\n",
        "        sensor = pyro.sample('sensor', dist.Normal(temp, 1.0), obs=obs['sensor'])"
      ]
    },
    {
      "cell_type": "code",
      "execution_count": null,
      "metadata": {
        "id": "qpt4TFfm4jRt",
        "tags": []
      },
      "outputs": [],
      "source": [
        "#Visualize the model\n",
        "pyro.render_model(model, model_args=(obs, ), render_distributions=True)"
      ]
    },
    {
      "cell_type": "markdown",
      "metadata": {
        "id": "yAh8vLjLL-00"
      },
      "source": [
        "The ``plate`` construct reflects the standard notational use in graphical models denoting the **repetition of some parts of of the graph**.\n",
        "\n",
        "We can here make a distinction between **local** and **global** random variables:\n",
        "\n",
        "* **Local random variables** caputure **specific information** about the $i$-th data sample (i.e. the real temperature at this moment in time).\n",
        "\n",
        "* **Global random variables** capture **common information** about all the data samples (i.e. the average temperature of all data samples).\n",
        "\n",
        "\n",
        "<img src=\"https://github.com/PGM-Lab/probai-2021-pyro/blob/main/Day1/Figures/blue.png?raw=1\" alt=\"Drawing\" width=2000 height=20>\n",
        "\n",
        "\n",
        "Observe how inference in this model is much **faster**."
      ]
    },
    {
      "cell_type": "code",
      "execution_count": null,
      "metadata": {
        "id": "ASYtP3j0L-01",
        "tags": []
      },
      "outputs": [],
      "source": [
        "#Run inference\n",
        "start = time.time()\n",
        "svi(model, obs)\n",
        "\n",
        "#Print results\n",
        "print(\"P(mean_temp|Sensor=[18., 18.7, 19.2, 17.8, 20.3, 22.4, 20.3, 21.2, 19.5, 20.1]) =\")\n",
        "print(dist.Normal(pyro.param(\"AutoNormal.locs.mean_temp\").item(), pyro.param(\"AutoNormal.scales.mean_temp\").item()))\n",
        "print(\"\")\n",
        "end = time.time()\n",
        "print(f\"{(end - start)} seconds\")"
      ]
    },
    {
      "cell_type": "markdown",
      "metadata": {
        "id": "dUDwSWFsL-01"
      },
      "source": [
        "\n",
        "<img src=\"https://github.com/PGM-Lab/probai-2021-pyro/blob/main/Day1/Figures/blue.png?raw=1\" alt=\"Drawing\" width=2000 height=20>\n",
        "\n",
        "\n",
        "### **<span style=\"color:red\">Exercise 5: </span>The role of *prior distributions* in learning**\n",
        "\n",
        "In this exercise we just want to illustrate how the output of learning depends of the particular prior we introduce in the model. Play with different options and extract conclusions:\n",
        "\n",
        "1. What happens if we change the mean of the prior?\n",
        "2. What happens if we change the scale of the prior?\n",
        "3. What happens to the posterior if the number of data samples deacreases and increases?"
      ]
    },
    {
      "cell_type": "code",
      "execution_count": null,
      "metadata": {
        "id": "5OWLg5tvL-01",
        "tags": []
      },
      "outputs": [],
      "source": [
        "#The observatons\n",
        "sample_size = 10\n",
        "obs = {'sensor': torch.tensor(np.random.normal(18,2,sample_size))}\n",
        "\n",
        "def model(obs):\n",
        "    mean_temp = pyro.sample('mean_temp', dist.Normal(15.0, 2.0))\n",
        "    with pyro.plate('N='+str(obs['sensor'].shape[0]), obs['sensor'].shape[0]):\n",
        "        temp = pyro.sample('temp', dist.Normal(mean_temp, 2.0))\n",
        "        sensor = pyro.sample('sensor', dist.Normal(temp, 1.0), obs=obs['sensor'])\n",
        "\n",
        "#Run inference\n",
        "svi(model, obs)\n",
        "\n",
        "#Print results\n",
        "print(\"P(Temperature|Sensor=18.0) = \")\n",
        "print(dist.Normal(pyro.param(\"AutoNormal.locs.mean_temp\").item(), pyro.param(\"AutoNormal.scales.mean_temp\").item()))\n",
        "\n",
        "x = np.linspace(16, 20, 100)\n",
        "plt.plot(x, stats.norm.pdf(x, pyro.param(\"AutoNormal.locs.mean_temp\").item(), pyro.param(\"AutoNormal.scales.mean_temp\").item()), label='Posterior')\n",
        "point = 18\n",
        "plt.plot([point, point],[0., 1.], label='Point Estimate')\n",
        "plt.xlim(16,20)\n",
        "plt.legend()\n",
        "plt.show()\n"
      ]
    },
    {
      "cell_type": "markdown",
      "metadata": {
        "id": "uf7kVC-hL-03"
      },
      "source": [
        "<img src=\"https://github.com/PGM-Lab/probai-2021-pyro/blob/main/Day1/Figures/blue.png?raw=1\" alt=\"Drawing\" width=2000 height=20>\n",
        "\n",
        "\n",
        "# **4.  Icecream Shop**\n",
        "\n",
        "\n",
        "We have an ice-cream shop and assume thaat we **record the ice-cream sales and the average temperature of the day** (using a temperature sensor).\n",
        "\n",
        "* We know that **temperature affects the sales** of ice-creams.\n",
        "\n",
        "* We want to **model** how temperature affects ice-cream sales.\n",
        "\n",
        "<center>\n",
        "<img src=\"https://github.com/PGM-Lab/probai-2021-pyro/raw/main/Day1/Figures/Ice-cream_shop_-_Florida.jpg\" alt=\"Drawing\" width=300 >\n",
        "</center>\n",
        "\n"
      ]
    },
    {
      "cell_type": "markdown",
      "metadata": {
        "id": "uv2fWAHxDRxO"
      },
      "source": [
        "<img src=\"https://github.com/PGM-Lab/probai-2021-pyro/blob/main/Day1/Figures/blue.png?raw=1\" alt=\"Drawing\" width=2000 height=20>\n",
        "\n",
        "* We have **observations** from temperature and sales.\n",
        "\n",
        "* Sales are modeled with a **Poisson** distribution:\n",
        "\n",
        ">- The rate of the Poisson distribution **linearly depends of the real temperature**.\n",
        "\n",
        "The figure below provides a graphical and probabilistic description of the model:\n",
        "<center>\n",
        "<img src=\"https://github.com/PGM-Lab/probai-2021-pyro/blob/main/Day1/Figures/Ice-Cream-Shop-Model.png?raw=1\" alt=\"Drawing\" width=700>\n",
        "</center>\n",
        "\n"
      ]
    },
    {
      "cell_type": "code",
      "execution_count": null,
      "metadata": {
        "id": "HR8bu27OL-03",
        "tags": []
      },
      "outputs": [],
      "source": [
        "#The observatons\n",
        "obs = {'sensor': torch.tensor([18., 18.7, 19.2, 17.8, 20.3, 22.4, 20.3, 21.2, 19.5, 20.1]),\n",
        "       'sales': torch.tensor([46., 47., 49., 44., 50., 54., 51., 52., 49., 53.])}\n",
        "\n",
        "def model(obs):\n",
        "    mean_temp = pyro.sample('mean_temp', dist.Normal(15.0, 2.0))\n",
        "    alpha = pyro.sample('alpha', dist.Normal(0.0, 100.0))\n",
        "    beta = pyro.sample('beta', dist.Normal(0.0, 100.0))\n",
        "\n",
        "    with pyro.plate('N='+str(obs['sensor'].shape[0]), obs['sensor'].shape[0]):\n",
        "        temp = pyro.sample('temp', dist.Normal(mean_temp, 2.0))\n",
        "        sensor = pyro.sample('sensor', dist.Normal(temp, 1.0), obs=obs['sensor'])\n",
        "        rate = torch.max(torch.tensor(0.001), alpha + beta*temp)\n",
        "        sales = pyro.sample('sales', dist.Poisson(rate), obs=obs['sales'])\n",
        "\n",
        "#Visualize the model\n",
        "pyro.render_model(model, model_args=(obs, ), render_distributions=True)"
      ]
    },
    {
      "cell_type": "markdown",
      "metadata": {
        "id": "gT34C5CpDmPZ"
      },
      "source": [
        "<img src=\"https://github.com/PGM-Lab/probai-2021-pyro/blob/main/Day1/Figures/blue.png?raw=1\" alt=\"Drawing\" width=2000 height=20>\n"
      ]
    },
    {
      "cell_type": "markdown",
      "metadata": {
        "id": "6jqw09FND19b"
      },
      "source": [
        "We again run the **(variational) inference engine** for estimating the posterior distributions.\n",
        "* With PPLs, we only care about modeling, **not about the low-level details** of the machine-learning solver.\n"
      ]
    },
    {
      "cell_type": "code",
      "execution_count": null,
      "metadata": {
        "id": "gmaOTBYAL-03",
        "tags": []
      },
      "outputs": [],
      "source": [
        "#Run inference\n",
        "svi(model, obs, num_steps = 3000, lr = 0.001, plot=True)\n",
        "\n",
        "#Print results\n",
        "print(\"Posterior temperature mean\")\n",
        "print(dist.Normal(pyro.param(\"AutoNormal.locs.mean_temp\").item(), pyro.param(\"AutoNormal.scales.mean_temp\").item()))\n",
        "print(\"\")\n",
        "print(\"Posterior alpha\")\n",
        "print(dist.Normal(pyro.param(\"AutoNormal.locs.alpha\").item(), pyro.param(\"AutoNormal.scales.alpha\").item()))\n",
        "print(\"\")\n",
        "print(\"Posterior beta\")\n",
        "print(dist.Normal(pyro.param(\"AutoNormal.locs.beta\").item(), pyro.param(\"AutoNormal.scales.beta\").item()))\n"
      ]
    },
    {
      "cell_type": "markdown",
      "metadata": {
        "id": "4ulfx96AL-04"
      },
      "source": [
        "<img src=\"https://github.com/PGM-Lab/probai-2021-pyro/blob/main/Day1/Figures/blue.png?raw=1\" alt=\"Drawing\" width=2000 height=20>\n",
        "\n",
        "\n",
        "### <span style=\"color:red\">Exercise 6: Introduce Humidity in the Icecream shop model </span>\n",
        "* Assume that we also have a bunch of **humidity sensor measurements**.\n",
        "* Assume also that the **sales are also linearly influenced by the humidity**.\n",
        "\n",
        "**Extend the previous model** with information about humidity measurements.\n",
        "\n",
        "The figure provides a graphical and probabilistic specification of the model:\n",
        "<center>\n",
        "<img src=\"https://github.com/PGM-Lab/probai-2021-pyro/blob/main/Day1/Figures/Ice-Cream-Shop-Model-Humidity.png?raw=1\" alt=\"Drawing\" width=900>\n",
        "</center>\n",
        "\n",
        "\n"
      ]
    },
    {
      "cell_type": "code",
      "execution_count": null,
      "metadata": {
        "id": "8UxOUxuTL-04",
        "tags": []
      },
      "outputs": [],
      "source": [
        "#The observatons\n",
        "obs = {'sensor': torch.tensor([18., 18.7, 19.2, 17.8, 20.3, 22.4, 20.3, 21.2, 19.5, 20.1]),\n",
        "       'sales': torch.tensor([46., 47., 49., 44., 50., 54., 51., 52., 49., 53.]),\n",
        "       'sensor_humidity': torch.tensor([82.8, 87.6, 69.1, 74.2, 80.3, 94.2, 91.2, 92.2, 99.1, 93.2])}\n",
        "\n",
        "\n",
        "def model(obs):\n",
        "    mean_temp = pyro.sample('mean_temp', dist.Normal(15.0, 2.0))\n",
        "    ## Introduce a random variable \"mean_humidity\"\n",
        "    mean_humidity = pyro.sample('mean_humidity', dist.Normal(80.0, 5.0))\n",
        "\n",
        "    alpha = pyro.sample('alpha', dist.Normal(0.0, 100.0))\n",
        "    beta = pyro.sample('beta', dist.Normal(0.0, 100.0))\n",
        "\n",
        "    ## Introduce a coefficient for the humidity \"gamma\" following a Normal distribution\n",
        "\n",
        "    with pyro.plate('N='+str(obs['sensor'].shape[0]), obs['sensor'].shape[0]):\n",
        "        temp = pyro.sample('temp', dist.Normal(mean_temp, 2.0))\n",
        "        sensor = pyro.sample('sensor', dist.Normal(temp, 1.0), obs=obs['sensor'])\n",
        "        #Add the 'humidity' variable and the 'sensor_humidity' variable. The distributions are Normal with fixed variance, but the mean parameter depends on the previously defined random variables. Look at the graph below for help.\n",
        "\n",
        "\n",
        "        #Add the linear dependency for the rate with respect to temp and humidity (keep torch.max to avoid numerical stability issues)\n",
        "        rate = torch.max(torch.tensor(0.001), alpha + beta*temp + ???)\n",
        "        sales = pyro.sample('sales', dist.Poisson(rate), obs=obs['sales'])\n",
        "\n",
        "#Visualize the model\n",
        "pyro.render_model(model, model_args=(obs, ), render_distributions=True)"
      ]
    },
    {
      "cell_type": "markdown",
      "metadata": {
        "id": "wC7ceQTkHrrg"
      },
      "source": [
        "<img src=\"https://github.com/PGM-Lab/probai-2021-pyro/blob/main/Day1/Figures/blue.png?raw=1\" alt=\"Drawing\" width=2000 height=20>\n",
        "\n",
        "Again, we rely on the **(variational) inference engine** to get the results.\n"
      ]
    },
    {
      "cell_type": "code",
      "execution_count": null,
      "metadata": {
        "id": "Du3hyC0j16tM",
        "tags": []
      },
      "outputs": [],
      "source": [
        "#Run inference\n",
        "svi(model, obs, num_steps=3000, lr=0.001)\n",
        "\n",
        "#Print results\n",
        "print(\"Posterior temperature mean\")\n",
        "print(dist.Normal(pyro.param(\"AutoNormal.locs.mean_temp\").item(), pyro.param(\"AutoNormal.scales.mean_temp\").item()))\n",
        "print(\"\")\n",
        "print(\"Posterior Humidity Mean\")\n",
        "print(dist.Normal(pyro.param(\"AutoNormal.locs.mean_humidity\").item(), pyro.param(\"AutoNormal.scales.mean_humidity\").item()))\n",
        "print(\"\")\n",
        "print(\"Posterior alpha\")\n",
        "print(dist.Normal(pyro.param(\"AutoNormal.locs.alpha\").item(), pyro.param(\"AutoNormal.scales.alpha\").item()))\n",
        "print(\"\")\n",
        "print(\"Posterior beta\")\n",
        "print(dist.Normal(pyro.param(\"AutoNormal.locs.beta\").item(), pyro.param(\"AutoNormal.scales.beta\").item()))\n",
        "print(\"\")\n",
        "print(\"Posterior Gamma\")\n",
        "print(dist.Normal(pyro.param(\"AutoNormal.locs.gamma\").item(), pyro.param(\"AutoNormal.scales.gamma\").item()))\n"
      ]
    },
    {
      "cell_type": "markdown",
      "metadata": {
        "id": "NCld6GJGL-05"
      },
      "source": [
        "<img src=\"https://github.com/PGM-Lab/probai-2021-pyro/blob/main/Day1/Figures/blue.png?raw=1\" alt=\"Drawing\" width=2000 height=20>\n",
        "\n",
        "# **5.  Icecream Shop**\n",
        "\n",
        "If we believe there is a temporal dependency between the variables, we can also encode this in the model.\n",
        "\n",
        "* E.g. the current **real temperature must be similar to the real temperature in the previous time step**.\n",
        "\n",
        "* This temporal dependency can **be modeled** using a **for-loop** in Pyro\n",
        "\n",
        "Consider the **graphical representation**.\n",
        "\n",
        "\n",
        "<img src=\"https://github.com/PGM-Lab/probai-2021-pyro/raw/main/Day1/Figures/tempmodel-temporal-III.png\" alt=\"Drawing\" style=\"width: 350px;\" >\n",
        "\n"
      ]
    },
    {
      "cell_type": "code",
      "execution_count": null,
      "metadata": {
        "id": "dSzU0cWeL-05",
        "tags": []
      },
      "outputs": [],
      "source": [
        "#The observatons\n",
        "obs = {'sensor': torch.tensor([18., 18.7, 19.2, 17.8, 20.3, 22.4, 20.3, 21.2, 19.5, 20.1])}\n",
        "\n",
        "def model(obs):\n",
        "    mean_temp = pyro.sample('mean_temp', dist.Normal(15.0, 2.0))\n",
        "    for i in range(obs['sensor'].shape[0]):\n",
        "        if i==0:\n",
        "            temp = pyro.sample(f'temp_{i}', dist.Normal(mean_temp, 2.0))\n",
        "        else:\n",
        "            temp = pyro.sample(f'temp_{i}', dist.Normal(prev_temp, 2.0))\n",
        "        sensor = pyro.sample(f'sensor_{i}', dist.Normal(temp, 1.0), obs=obs['sensor'][i])\n",
        "        prev_temp = temp\n",
        "\n",
        "#Visualize the model\n",
        "pyro.render_model(model, model_args=(obs, ))"
      ]
    },
    {
      "cell_type": "markdown",
      "metadata": {
        "id": "EAnXvUqpJCm1"
      },
      "source": [
        "<img src=\"https://github.com/PGM-Lab/probai-2021-pyro/blob/main/Day1/Figures/blue.png?raw=1\" alt=\"Drawing\" width=2000 height=20>\n",
        "\n",
        "Again, we rely on the **(variational) inference engine** to get the results."
      ]
    },
    {
      "cell_type": "code",
      "execution_count": null,
      "metadata": {
        "cellView": "form",
        "id": "7XaW4rKXL-05"
      },
      "outputs": [],
      "source": [
        "#@title\n",
        "#Define the guide\n",
        "def guide(obs):\n",
        "    mean = pyro.param(\"mean\", torch.mean(obs['sensor']))\n",
        "    scale = pyro.param(\"scale\", torch.tensor(1.), constraint=constraints.positive)\n",
        "    mean_temp = pyro.sample('mean_temp', dist.Normal(mean, scale))\n",
        "    for i in range(obs['sensor'].shape[0]):\n",
        "        mean_i = pyro.param(f'mean_{i}', obs['sensor'][i])\n",
        "        scale_i = pyro.param(f'scale_{i}', torch.tensor(1.), constraint=constraints.positive)\n",
        "        temp = pyro.sample(f'temp_{i}', dist.Normal(mean_i, scale_i))"
      ]
    },
    {
      "cell_type": "code",
      "execution_count": null,
      "metadata": {
        "id": "MWWVKOZnWccI"
      },
      "outputs": [],
      "source": [
        "import time\n",
        "\n",
        "#Run inference\n",
        "svi(model, obs, guide)\n",
        "\n",
        "smooth_temp=[]\n",
        "for i in range(obs['sensor'].shape[0]):\n",
        "    smooth_temp.append(pyro.param(f'mean_{i}').item())\n",
        "\n",
        "print('Finished')"
      ]
    },
    {
      "cell_type": "markdown",
      "metadata": {
        "id": "OJHqOj3VL-06"
      },
      "source": [
        "We can now plot the **observered measurements** of the temperature **against** the inferred **real temperature**.\n",
        "\n",
        "* By querying the **local hidden** we can **smooth** the temperature.\n",
        "\n",
        "* The **recovered temperature** is much less noisy than the measured one."
      ]
    },
    {
      "cell_type": "code",
      "execution_count": null,
      "metadata": {
        "id": "cesOfH6UL-06"
      },
      "outputs": [],
      "source": [
        "import matplotlib.pyplot as plt\n",
        "plt.plot([18., 18.7, 19.2, 17.8, 20.3, 22.4, 20.3, 21.2, 19.5, 20.1], label='Sensor Temp')\n",
        "plt.plot(smooth_temp, label='Smooth Temp')\n",
        "plt.legend()"
      ]
    },
    {
      "cell_type": "markdown",
      "metadata": {
        "id": "yRDQWC-vL-06"
      },
      "source": [
        "<img src=\"https://github.com/PGM-Lab/probai-2021-pyro/blob/main/Day1/Figures/blue.png?raw=1\" alt=\"Drawing\" width=2000 height=20>\n",
        "\n",
        "### <span style=\"color:red\">Exercise 7:  Temporal Extension of the Iceacream shop model </span>\n",
        "\n",
        "This exercise **extends** Excersise 6.\n",
        "* Assume temperature depends of the **temperature in the previous day**.\n",
        "* Assume humidity depends of the **humidity in the previous day**.\n",
        "* Assume sales depends on the **current temperature and humidity**.\n",
        "* Use the **graphical representation below for reference**.\n",
        "\n",
        "N.b. The plate representation has to be impemented in Pyro using a **``for-loop``**.\n",
        "<img src=\"https://github.com/PGM-Lab/probai-2021-pyro/raw/main/Day1/Figures/icecream-model-temporal.png\" alt=\"Drawing\" width=700 >\n",
        "\n",
        "\n"
      ]
    },
    {
      "cell_type": "code",
      "execution_count": null,
      "metadata": {
        "id": "GevI9bcjL-07",
        "tags": []
      },
      "outputs": [],
      "source": [
        "#The observatons\n",
        "obs = {'sensor': torch.tensor([18., 18.7, 19.2, 17.8, 20.3, 22.4, 20.3, 21.2, 19.5, 20.1]),\n",
        "       'sales': torch.tensor([46., 47., 49., 44., 50., 54., 51., 52., 49., 53.]),\n",
        "       'sensor_humidity': torch.tensor([82.8, 87.6, 69.1, 74.2, 80.3, 94.2, 91.2, 92.2, 99.1, 93.2])}\n",
        "\n",
        "\n",
        "\n",
        "def model(obs):\n",
        "    mean_temp = pyro.sample('mean_temp', dist.Normal(15.0, 2.0))\n",
        "    ## Introduce a random variable \"mean_humidity\"\n",
        "    mean_humidity = pyro.sample('mean_humidity', dist.Normal(8.0, 2.0))\n",
        "\n",
        "\n",
        "    alpha = pyro.sample('alpha', dist.Normal(0.0, 100.0))\n",
        "    beta = pyro.sample('beta', dist.Normal(0.0, 100.0))\n",
        "    ## Introduce a coefficient for the humidity \"gamma\"\n",
        "    gamma = pyro.sample('gamma', dist.Normal(0.0, 100.0))\n",
        "\n",
        "    for i in range(obs['sensor'].shape[0]):\n",
        "        if i==0:\n",
        "            temp = pyro.sample(f'temp_{i}', dist.Normal(mean_temp, 2.0))\n",
        "            #Introduce the 'humidity' variable at time 0.\n",
        "\n",
        "        else:\n",
        "            temp = pyro.sample(f'temp_{i}', dist.Normal(prev_temp, 2.0))\n",
        "            #Introduce the f'humidity_{i}' variable defining the transition\n",
        "\n",
        "        sensor = pyro.sample(f'sensor_{i}', dist.Normal(temp, 1.0), obs=obs['sensor'][i])\n",
        "\n",
        "        #Introduce the f'sensor_humidity_{i}' variable.\n",
        "\n",
        "        #Add the linear dependency for the rate with respect to temp and humidity (keep torch.max to avoid numerical stability issues)\n",
        "        rate = torch.max(torch.tensor(0.01),alpha + beta*temp + ????)\n",
        "        sales = pyro.sample(f'sales_{i}', dist.Poisson(rate), obs=obs['sales'][i])\n",
        "\n",
        "        prev_temp = temp\n",
        "        #Keep humidity for the next time step.\n",
        "        prev_humidity = humidity\n"
      ]
    },
    {
      "cell_type": "markdown",
      "metadata": {
        "id": "BOo487l4L3L1"
      },
      "source": [
        "<img src=\"https://github.com/PGM-Lab/probai-2021-pyro/blob/main/Day1/Figures/blue.png?raw=1\" alt=\"Drawing\" width=2000 height=20>\n",
        "\n",
        "Again, we rely on the **(variational) inference engine** to get the results."
      ]
    },
    {
      "cell_type": "code",
      "execution_count": null,
      "metadata": {
        "cellView": "form",
        "id": "izRFQ0T3L-07"
      },
      "outputs": [],
      "source": [
        "#@title\n",
        "#Define the guide\n",
        "def guide(obs):\n",
        "    mean = pyro.param(\"mean\", torch.mean(obs['sensor']))\n",
        "    scale = pyro.param(\"scale\", torch.tensor(1.), constraint=constraints.greater_than(0.01))\n",
        "    mean_temp = pyro.sample('mean_temp', dist.Normal(mean, scale))\n",
        "\n",
        "    meanH = pyro.param(\"meanH\", torch.mean(obs['sensor_humidity']), constraint=constraints.positive)\n",
        "    scaleH = pyro.param(\"scaleH\", torch.tensor(1.), constraint=constraints.greater_than(0.01))\n",
        "    humidity_mean = pyro.sample('mean_humidity', dist.Normal(meanH, scaleH))\n",
        "\n",
        "\n",
        "    alpha_mean = pyro.param(\"alpha_mean\", torch.mean(obs['sensor']))\n",
        "    alpha_scale = pyro.param(\"alpha_scale\", torch.tensor(1.), constraint=constraints.greater_than(0.01))\n",
        "    alpha = pyro.sample('alpha', dist.Normal(alpha_mean, alpha_scale))\n",
        "\n",
        "    beta_mean = pyro.param(\"beta_mean\", torch.tensor(0.0))\n",
        "    beta_scale = pyro.param(\"beta_scale\", torch.tensor(1.), constraint=constraints.greater_than(0.01))\n",
        "    beta = pyro.sample('beta', dist.Normal(beta_mean, beta_scale))\n",
        "\n",
        "    gamma_mean = pyro.param(\"gamma_mean\", torch.tensor(0.0))\n",
        "    gamma_scale = pyro.param(\"gamma_scale\", torch.tensor(1.), constraint=constraints.greater_than(0.01))\n",
        "    gamma = pyro.sample('gamma', dist.Normal(gamma_mean, gamma_scale))\n",
        "\n",
        "    for i in range(obs['sensor'].shape[0]):\n",
        "        mean_i = pyro.param(f'mean_{i}', obs['sensor'][i])\n",
        "        scale_i = pyro.param(f'scale_{i}', torch.tensor(1.), constraint=constraints.greater_than(0.01))\n",
        "        temp = pyro.sample(f'temp_{i}', dist.Normal(mean_i, scale_i))\n",
        "        meanH_i = pyro.param(f'meanH_{i}', obs['sensor_humidity'][i])\n",
        "        scaleH_i = pyro.param(f'scaleH_{i}', torch.tensor(1.), constraint=constraints.greater_than(0.01))\n",
        "        humidity_i = pyro.sample(f'humidity_{i}', dist.Normal(meanH_i, scaleH_i))"
      ]
    },
    {
      "cell_type": "code",
      "execution_count": null,
      "metadata": {
        "id": "tMWwy2UNL-07"
      },
      "outputs": [],
      "source": [
        "import time\n",
        "\n",
        "#Run inference\n",
        "svi(model, obs, guide=guide, num_steps = 1000, lr=0.001)\n",
        "\n",
        "smooth_temp=[]\n",
        "smooth_humidity=[]\n",
        "\n",
        "for i in range(obs['sensor'].shape[0]):\n",
        "    smooth_temp.append(pyro.param(f'mean_{i}').item())\n",
        "    smooth_humidity.append(pyro.param(f'meanH_{i}').item())\n",
        "\n",
        "print('Finished')"
      ]
    },
    {
      "cell_type": "markdown",
      "metadata": {
        "id": "LosM2wXBMAFX"
      },
      "source": [
        "<img src=\"https://github.com/PGM-Lab/probai-2021-pyro/blob/main/Day1/Figures/blue.png?raw=1\" alt=\"Drawing\" width=2000 height=20>\n",
        "\n",
        "* We can plot the observered measurements of the temperature against the **inferred real temperature** by our model.\n",
        "\n",
        "* The **recovered temperature** is much less noisy than the real one.\n"
      ]
    },
    {
      "cell_type": "code",
      "execution_count": null,
      "metadata": {
        "id": "7kr1dbx-L-07"
      },
      "outputs": [],
      "source": [
        "plt.plot([18., 18.7, 19.2, 17.8, 20.3, 22.4, 20.3, 21.2, 19.5, 20.1], label='Sensor Temp')\n",
        "plt.plot(smooth_temp, label='Smooth Temp')\n",
        "plt.legend()"
      ]
    },
    {
      "cell_type": "markdown",
      "metadata": {
        "id": "QStTTd9nN56M"
      },
      "source": [
        "---\n",
        "* We can plot the observered measurements of the humidity against the **inferred real humidity** by our model.\n",
        "\n",
        "* The **recovered humidity** is much less noisy than the real one.\n",
        "\n",
        "---\n"
      ]
    },
    {
      "cell_type": "code",
      "execution_count": null,
      "metadata": {
        "id": "WD7n3v9oL-08"
      },
      "outputs": [],
      "source": [
        "humidity = torch.tensor([82.8, 87.6, 69.1, 74.2, 80.3, 94.2, 91.2, 92.2, 99.1, 93.2])\n",
        "plt.plot(humidity.detach().numpy(), label='Sensor Humidity')\n",
        "plt.plot(smooth_humidity, label='Smooth Humidity')\n",
        "plt.legend()"
      ]
    },
    {
      "cell_type": "markdown",
      "metadata": {
        "id": "858lPsjJOTJd"
      },
      "source": [
        "<img src=\"https://github.com/PGM-Lab/probai-2021-pyro/blob/main/Day1/Figures/blue.png?raw=1\" alt=\"Drawing\" width=2000 height=20>\n"
      ]
    }
  ],
  "metadata": {
    "colab": {
      "provenance": [],
      "toc_visible": true,
      "include_colab_link": true
    },
    "kernelspec": {
      "display_name": "Python 3 (ipykernel)",
      "language": "python",
      "name": "python3"
    },
    "language_info": {
      "codemirror_mode": {
        "name": "ipython",
        "version": 3
      },
      "file_extension": ".py",
      "mimetype": "text/x-python",
      "name": "python",
      "nbconvert_exporter": "python",
      "pygments_lexer": "ipython3",
      "version": "3.9.0"
    }
  },
  "nbformat": 4,
  "nbformat_minor": 0
}