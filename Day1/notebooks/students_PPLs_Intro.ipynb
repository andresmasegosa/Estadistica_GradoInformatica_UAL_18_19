{
  "nbformat": 4,
  "nbformat_minor": 0,
  "metadata": {
    "kernelspec": {
      "display_name": "probabilistic.ai",
      "language": "python",
      "name": "probabilistic.ai"
    },
    "language_info": {
      "codemirror_mode": {
        "name": "ipython",
        "version": 3
      },
      "file_extension": ".py",
      "mimetype": "text/x-python",
      "name": "python",
      "nbconvert_exporter": "python",
      "pygments_lexer": "ipython3",
      "version": "3.7.0"
    },
    "colab": {
      "name": "students_PPLs_Intro.ipynb",
      "provenance": [],
      "include_colab_link": true
    }
  },
  "cells": [
    {
      "cell_type": "markdown",
      "metadata": {
        "id": "view-in-github",
        "colab_type": "text"
      },
      "source": [
        "<a href=\"https://colab.research.google.com/github/andresmasegosa/Estadistica_GradoInformatica_UAL_18_19/blob/master/Day1/notebooks/students_PPLs_Intro.ipynb\" target=\"_parent\"><img src=\"https://colab.research.google.com/assets/colab-badge.svg\" alt=\"Open In Colab\"/></a>"
      ]
    },
    {
      "cell_type": "markdown",
      "metadata": {
        "id": "a75mGrGgL-0g"
      },
      "source": [
        "<img src=\"https://github.com/PGM-Lab/probai-2021-pyro/blob/main/Day1/Figures/blue.png?raw=1\" alt=\"Drawing\" width=2000 height=20>\n",
        "\n",
        "\n",
        "# Setup\n",
        "Let's begin by installling and importing the modules we'll need."
      ]
    },
    {
      "cell_type": "code",
      "metadata": {
        "colab": {
          "base_uri": "https://localhost:8080/"
        },
        "id": "7Owp2eKrL-0j",
        "outputId": "d0a32b13-96c7-4102-9178-b919d8ca7a39"
      },
      "source": [
        "!pip install -q --upgrade pyro-ppl torch\n",
        "import pyro\n",
        "import torch\n",
        "import pyro.distributions as dist"
      ],
      "execution_count": null,
      "outputs": [
        {
          "output_type": "stream",
          "text": [
            "\u001b[?25l\r\u001b[K     |▌                               | 10kB 18.2MB/s eta 0:00:01\r\u001b[K     |█                               | 20kB 7.6MB/s eta 0:00:01\r\u001b[K     |█▌                              | 30kB 4.7MB/s eta 0:00:01\r\u001b[K     |██                              | 40kB 4.2MB/s eta 0:00:01\r\u001b[K     |██▋                             | 51kB 2.1MB/s eta 0:00:01\r\u001b[K     |███                             | 61kB 2.4MB/s eta 0:00:01\r\u001b[K     |███▋                            | 71kB 2.6MB/s eta 0:00:01\r\u001b[K     |████▏                           | 81kB 2.7MB/s eta 0:00:01\r\u001b[K     |████▋                           | 92kB 2.9MB/s eta 0:00:01\r\u001b[K     |█████▏                          | 102kB 3.0MB/s eta 0:00:01\r\u001b[K     |█████▊                          | 112kB 3.0MB/s eta 0:00:01\r\u001b[K     |██████▏                         | 122kB 3.0MB/s eta 0:00:01\r\u001b[K     |██████▊                         | 133kB 3.0MB/s eta 0:00:01\r\u001b[K     |███████▎                        | 143kB 3.0MB/s eta 0:00:01\r\u001b[K     |███████▊                        | 153kB 3.0MB/s eta 0:00:01\r\u001b[K     |████████▎                       | 163kB 3.0MB/s eta 0:00:01\r\u001b[K     |████████▉                       | 174kB 3.0MB/s eta 0:00:01\r\u001b[K     |█████████▎                      | 184kB 3.0MB/s eta 0:00:01\r\u001b[K     |█████████▉                      | 194kB 3.0MB/s eta 0:00:01\r\u001b[K     |██████████▎                     | 204kB 3.0MB/s eta 0:00:01\r\u001b[K     |██████████▉                     | 215kB 3.0MB/s eta 0:00:01\r\u001b[K     |███████████▍                    | 225kB 3.0MB/s eta 0:00:01\r\u001b[K     |███████████▉                    | 235kB 3.0MB/s eta 0:00:01\r\u001b[K     |████████████▍                   | 245kB 3.0MB/s eta 0:00:01\r\u001b[K     |█████████████                   | 256kB 3.0MB/s eta 0:00:01\r\u001b[K     |█████████████▍                  | 266kB 3.0MB/s eta 0:00:01\r\u001b[K     |██████████████                  | 276kB 3.0MB/s eta 0:00:01\r\u001b[K     |██████████████▌                 | 286kB 3.0MB/s eta 0:00:01\r\u001b[K     |███████████████                 | 296kB 3.0MB/s eta 0:00:01\r\u001b[K     |███████████████▌                | 307kB 3.0MB/s eta 0:00:01\r\u001b[K     |████████████████                | 317kB 3.0MB/s eta 0:00:01\r\u001b[K     |████████████████▌               | 327kB 3.0MB/s eta 0:00:01\r\u001b[K     |█████████████████               | 337kB 3.0MB/s eta 0:00:01\r\u001b[K     |█████████████████▋              | 348kB 3.0MB/s eta 0:00:01\r\u001b[K     |██████████████████              | 358kB 3.0MB/s eta 0:00:01\r\u001b[K     |██████████████████▋             | 368kB 3.0MB/s eta 0:00:01\r\u001b[K     |███████████████████             | 378kB 3.0MB/s eta 0:00:01\r\u001b[K     |███████████████████▋            | 389kB 3.0MB/s eta 0:00:01\r\u001b[K     |████████████████████▏           | 399kB 3.0MB/s eta 0:00:01\r\u001b[K     |████████████████████▋           | 409kB 3.0MB/s eta 0:00:01\r\u001b[K     |█████████████████████▏          | 419kB 3.0MB/s eta 0:00:01\r\u001b[K     |█████████████████████▊          | 430kB 3.0MB/s eta 0:00:01\r\u001b[K     |██████████████████████▏         | 440kB 3.0MB/s eta 0:00:01\r\u001b[K     |██████████████████████▊         | 450kB 3.0MB/s eta 0:00:01\r\u001b[K     |███████████████████████▎        | 460kB 3.0MB/s eta 0:00:01\r\u001b[K     |███████████████████████▊        | 471kB 3.0MB/s eta 0:00:01\r\u001b[K     |████████████████████████▎       | 481kB 3.0MB/s eta 0:00:01\r\u001b[K     |████████████████████████▉       | 491kB 3.0MB/s eta 0:00:01\r\u001b[K     |█████████████████████████▎      | 501kB 3.0MB/s eta 0:00:01\r\u001b[K     |█████████████████████████▉      | 512kB 3.0MB/s eta 0:00:01\r\u001b[K     |██████████████████████████▍     | 522kB 3.0MB/s eta 0:00:01\r\u001b[K     |██████████████████████████▉     | 532kB 3.0MB/s eta 0:00:01\r\u001b[K     |███████████████████████████▍    | 542kB 3.0MB/s eta 0:00:01\r\u001b[K     |███████████████████████████▉    | 552kB 3.0MB/s eta 0:00:01\r\u001b[K     |████████████████████████████▍   | 563kB 3.0MB/s eta 0:00:01\r\u001b[K     |█████████████████████████████   | 573kB 3.0MB/s eta 0:00:01\r\u001b[K     |█████████████████████████████▍  | 583kB 3.0MB/s eta 0:00:01\r\u001b[K     |██████████████████████████████  | 593kB 3.0MB/s eta 0:00:01\r\u001b[K     |██████████████████████████████▌ | 604kB 3.0MB/s eta 0:00:01\r\u001b[K     |███████████████████████████████ | 614kB 3.0MB/s eta 0:00:01\r\u001b[K     |███████████████████████████████▌| 624kB 3.0MB/s eta 0:00:01\r\u001b[K     |████████████████████████████████| 634kB 3.0MB/s \n",
            "\u001b[?25h"
          ],
          "name": "stdout"
        }
      ]
    },
    {
      "cell_type": "markdown",
      "metadata": {
        "id": "I-EvHtlvL-0k"
      },
      "source": [
        "<img src=\"https://github.com/PGM-Lab/probai-2021-pyro/blob/main/Day1/Figures/blue.png?raw=1\" alt=\"Drawing\" width=2000 height=20>\n",
        "\n",
        "\n",
        "# 1. **Pyro’s distributions** (http://docs.pyro.ai/en/stable/distributions.html) :\n",
        "\n",
        "\n",
        "---\n",
        "* Pyro provides a wide range of distributions: **Normal, Beta, Cauchy, Dirichlet, Gumbel, Poisson, Pareto, etc.**\n",
        "\n",
        "---\n"
      ]
    },
    {
      "cell_type": "code",
      "metadata": {
        "colab": {
          "base_uri": "https://localhost:8080/"
        },
        "id": "_w52OifSL-0l",
        "outputId": "c24691a3-d7e5-4ba4-8e08-dba141ad2f18"
      },
      "source": [
        "normal = dist.Normal(0,1)\n",
        "normal"
      ],
      "execution_count": null,
      "outputs": [
        {
          "output_type": "execute_result",
          "data": {
            "text/plain": [
              "Normal(loc: 0.0, scale: 1.0)"
            ]
          },
          "metadata": {
            "tags": []
          },
          "execution_count": 2
        }
      ]
    },
    {
      "cell_type": "markdown",
      "metadata": {
        "id": "yOSdcF4_L-0m"
      },
      "source": [
        "\n",
        "<img src=\"https://github.com/PGM-Lab/probai-2021-pyro/blob/main/Day1/Figures/blue.png?raw=1\" alt=\"Drawing\" width=2000 height=20>\n",
        "\n",
        "---\n",
        "\n",
        "* Samples from the distributions are [Pytorch’s Tensor objects](https://pytorch.org/cppdocs/notes/tensor_creation.html) (i.e. multidimensional arrays).\n",
        "\n",
        "---\n"
      ]
    },
    {
      "cell_type": "code",
      "metadata": {
        "colab": {
          "base_uri": "https://localhost:8080/"
        },
        "id": "wloQxYMXL-0m",
        "outputId": "4eb2921b-89ed-4177-8b83-aa8bbad74d80"
      },
      "source": [
        "sample = normal.sample()\n",
        "sample"
      ],
      "execution_count": null,
      "outputs": [
        {
          "output_type": "execute_result",
          "data": {
            "text/plain": [
              "tensor(0.7849)"
            ]
          },
          "metadata": {
            "tags": []
          },
          "execution_count": 3
        }
      ]
    },
    {
      "cell_type": "code",
      "metadata": {
        "colab": {
          "base_uri": "https://localhost:8080/"
        },
        "id": "2h2iOp-qL-0o",
        "outputId": "1344a36c-88da-4b95-c515-91565764eea1"
      },
      "source": [
        "sample = normal.sample(sample_shape=[3,4,5])\n",
        "sample"
      ],
      "execution_count": null,
      "outputs": [
        {
          "output_type": "execute_result",
          "data": {
            "text/plain": [
              "tensor([[[-0.7224, -0.2527, -0.6170,  0.2486, -0.4504],\n",
              "         [ 0.4437,  1.0230, -0.6957, -1.1903,  0.8369],\n",
              "         [-0.5613, -0.6196,  0.0816, -0.0679,  0.6569],\n",
              "         [ 0.7285,  1.1000, -1.0392, -0.2744, -2.7771]],\n",
              "\n",
              "        [[ 0.1011,  0.5640, -0.2780, -1.0917, -0.2900],\n",
              "         [-0.3578,  1.3948, -0.6483,  0.5598,  1.2341],\n",
              "         [-0.5284, -0.1984,  0.2241, -1.7133, -0.2822],\n",
              "         [-0.7158,  0.4084, -0.4396, -0.3256,  0.2671]],\n",
              "\n",
              "        [[-0.2582,  0.2116, -1.7140, -0.0808, -0.9054],\n",
              "         [-1.4458, -0.5471,  0.3419,  0.8600,  1.1837],\n",
              "         [ 0.0519,  0.7669, -0.6300,  0.3230,  0.0659],\n",
              "         [-0.5186, -1.5199, -1.4298,  1.1448, -0.4249]]])"
            ]
          },
          "metadata": {
            "tags": []
          },
          "execution_count": 4
        }
      ]
    },
    {
      "cell_type": "markdown",
      "metadata": {
        "id": "r-0pNd9tL-0o"
      },
      "source": [
        "<img src=\"https://github.com/PGM-Lab/probai-2021-pyro/blob/main/Day1/Figures/blue.png?raw=1\" alt=\"Drawing\" width=2000 height=20>\n",
        "\n",
        "---\n",
        "* We can query the **dimensionlity** of a tensor with the ``shape`` property\n",
        "\n",
        "---"
      ]
    },
    {
      "cell_type": "code",
      "metadata": {
        "id": "Dk2ebGoYL-0p",
        "colab": {
          "base_uri": "https://localhost:8080/"
        },
        "outputId": "c1b0d209-a9e9-45b0-9b50-502572fb251e"
      },
      "source": [
        "sample = normal.sample(sample_shape=[3,4,5])\n",
        "sample.shape"
      ],
      "execution_count": null,
      "outputs": [
        {
          "output_type": "execute_result",
          "data": {
            "text/plain": [
              "torch.Size([3, 4, 5])"
            ]
          },
          "metadata": {
            "tags": []
          },
          "execution_count": 5
        }
      ]
    },
    {
      "cell_type": "markdown",
      "metadata": {
        "id": "DsVjombqL-0p"
      },
      "source": [
        "\n",
        "<img src=\"https://github.com/PGM-Lab/probai-2021-pyro/blob/main/Day1/Figures/blue.png?raw=1\" alt=\"Drawing\" width=2000 height=20>\n",
        "\n",
        "\n",
        "---\n",
        "* Operations, like **log-likelihood**, are defined over tensors.\n",
        "\n",
        "---\n",
        "\n"
      ]
    },
    {
      "cell_type": "code",
      "metadata": {
        "id": "06G293JdL-0p",
        "colab": {
          "base_uri": "https://localhost:8080/"
        },
        "outputId": "af21d869-74d1-4eb8-9e58-fa7bfbbe22fc"
      },
      "source": [
        "normal.log_prob(sample)"
      ],
      "execution_count": null,
      "outputs": [
        {
          "output_type": "execute_result",
          "data": {
            "text/plain": [
              "tensor([[[-0.9290, -1.0232, -1.5377, -1.5249, -1.7455],\n",
              "         [-1.2340, -2.1931, -2.6123, -1.7959, -1.8514],\n",
              "         [-1.0653, -2.3077, -1.6816, -0.9958, -3.3897],\n",
              "         [-1.4441, -0.9379, -0.9405, -2.4440, -4.0128]],\n",
              "\n",
              "        [[-1.7518, -1.2840, -1.8344, -1.4537, -1.0629],\n",
              "         [-1.8843, -0.9222, -2.0214, -0.9204, -1.0743],\n",
              "         [-1.4961, -0.9846, -1.0206, -2.6178, -2.3442],\n",
              "         [-2.3496, -0.9209, -1.4534, -1.0338, -1.3749]],\n",
              "\n",
              "        [[-3.6576, -1.6735, -1.3895, -1.2391, -0.9534],\n",
              "         [-2.1909, -1.2719, -1.2354, -1.7586, -0.9266],\n",
              "         [-1.5986, -0.9286, -1.1169, -1.3039, -1.4404],\n",
              "         [-3.7102, -0.9788, -1.3677, -1.5358, -1.2545]]])"
            ]
          },
          "metadata": {
            "tags": []
          },
          "execution_count": 6
        }
      ]
    },
    {
      "cell_type": "code",
      "metadata": {
        "id": "R3v2rpRAL-0q",
        "colab": {
          "base_uri": "https://localhost:8080/"
        },
        "outputId": "d69b757e-ce23-461b-a8bf-a3cf00400ebf"
      },
      "source": [
        "torch.sum(normal.log_prob(sample))"
      ],
      "execution_count": null,
      "outputs": [
        {
          "output_type": "execute_result",
          "data": {
            "text/plain": [
              "tensor(-97.0039)"
            ]
          },
          "metadata": {
            "tags": []
          },
          "execution_count": 7
        }
      ]
    },
    {
      "cell_type": "markdown",
      "metadata": {
        "id": "zErtSTzYL-0q"
      },
      "source": [
        "<img src=\"https://github.com/PGM-Lab/probai-2021-pyro/blob/main/Day1/Figures/blue.png?raw=1\" alt=\"Drawing\" width=2000 height=20>\n",
        "\n",
        "---\n",
        "\n",
        "* **Multiple distributions** can be embedded in single object.\n",
        "\n",
        "* Below we define **three Normal distributions with different means and same scale** in a single object.\n",
        "\n",
        "---"
      ]
    },
    {
      "cell_type": "code",
      "metadata": {
        "id": "VEcgGuTqL-0q",
        "colab": {
          "base_uri": "https://localhost:8080/"
        },
        "outputId": "1f6e6184-8453-4aee-b5a7-87d889ee0683"
      },
      "source": [
        "normal = dist.Normal(torch.tensor([1.,2.,3.]),1.)\n",
        "normal"
      ],
      "execution_count": null,
      "outputs": [
        {
          "output_type": "execute_result",
          "data": {
            "text/plain": [
              "Normal(loc: torch.Size([3]), scale: torch.Size([3]))"
            ]
          },
          "metadata": {
            "tags": []
          },
          "execution_count": 8
        }
      ]
    },
    {
      "cell_type": "code",
      "metadata": {
        "id": "1cRRDgTbL-0r",
        "colab": {
          "base_uri": "https://localhost:8080/"
        },
        "outputId": "054136e6-63d5-4723-911b-08e4b8453eed"
      },
      "source": [
        "normal.sample()"
      ],
      "execution_count": null,
      "outputs": [
        {
          "output_type": "execute_result",
          "data": {
            "text/plain": [
              "tensor([0.4789, 2.7079, 2.7489])"
            ]
          },
          "metadata": {
            "tags": []
          },
          "execution_count": 9
        }
      ]
    },
    {
      "cell_type": "code",
      "metadata": {
        "id": "hji5mTnhL-0r",
        "colab": {
          "base_uri": "https://localhost:8080/"
        },
        "outputId": "ee68badb-f991-41a9-878c-4087e11b7564"
      },
      "source": [
        "normal.log_prob(normal.sample())"
      ],
      "execution_count": null,
      "outputs": [
        {
          "output_type": "execute_result",
          "data": {
            "text/plain": [
              "tensor([-1.4128, -3.1160, -0.9946])"
            ]
          },
          "metadata": {
            "tags": []
          },
          "execution_count": 10
        }
      ]
    },
    {
      "cell_type": "markdown",
      "metadata": {
        "id": "drChKHsWJ--U"
      },
      "source": [
        "<img src=\"https://github.com/PGM-Lab/probai-2021-pyro/blob/main/Day1/Figures/blue.png?raw=1\" alt=\"Drawing\" width=2000 height=20>"
      ]
    },
    {
      "cell_type": "markdown",
      "metadata": {
        "id": "WV-iBl4xL-0r"
      },
      "source": [
        "# 2. **Pyro’s model** (http://pyro.ai/examples/intro_part_i.html) :\n",
        "\n",
        "---\n",
        "* In Pyro, a probabilistic model is defined as a **stochastic function** (i.e. every time is run, it returns a new sample).\n",
        "\n",
        "* Each random variable is associated to a **primitive stochastic function** using the construct ``pyro.sample(...)``.\n",
        "---\n",
        "\n",
        "\n",
        "### 2.1 A Temperature Model\n",
        "\n",
        "\n",
        "\n",
        "As initial running example, we consider the problem of **modelling the temperature**. We first start with a simple model where temperture is modeled using a random Normal variable."
      ]
    },
    {
      "cell_type": "code",
      "metadata": {
        "id": "kcU2EmBYL-0s",
        "colab": {
          "base_uri": "https://localhost:8080/"
        },
        "outputId": "a5f0fbe0-c86a-4006-84b4-c97ebb8fe9b5"
      },
      "source": [
        "def model():\n",
        "    temp = pyro.sample('temp', dist.Normal(15.0, 2.0))\n",
        "    return temp\n",
        "\n",
        "print(model())\n",
        "print(model())"
      ],
      "execution_count": null,
      "outputs": [
        {
          "output_type": "stream",
          "text": [
            "tensor(15.5100)\n",
            "tensor(13.6723)\n"
          ],
          "name": "stdout"
        }
      ]
    },
    {
      "cell_type": "markdown",
      "metadata": {
        "id": "N0pVeOVpL-0s"
      },
      "source": [
        "See how the model is a stochastic function which **returns a different value everytime is invoked**. \n",
        "\n",
        "<img src=\"https://github.com/PGM-Lab/probai-2021-pyro/blob/main/Day1/Figures/blue.png?raw=1\" alt=\"Drawing\" width=2000 height=20>\n"
      ]
    },
    {
      "cell_type": "markdown",
      "metadata": {
        "id": "Z0biYXEVL-0s"
      },
      "source": [
        "### 2.2 A Temperature-Sensor Model\n",
        "\n",
        "---\n",
        "* In Pyro, an stochastic method is defined as a **composition of primitive stochastic functions**.\n",
        "---\n"
      ]
    },
    {
      "cell_type": "markdown",
      "metadata": {
        "id": "Jp6wefVaLCnx"
      },
      "source": [
        "---\n",
        "* Temperature Model: we consider the presence of a **temperature sensor**. \n",
        "  * The temperature tensor gives **noisy observations** about the real temperature.\n",
        "  * The **error** of the sensor's measurements **is known*.\n",
        "\n",
        "---\n"
      ]
    },
    {
      "cell_type": "code",
      "metadata": {
        "id": "VpxheEx-L-0t",
        "colab": {
          "base_uri": "https://localhost:8080/"
        },
        "outputId": "4d9114ac-fcf9-4a4c-9daf-88099902a433"
      },
      "source": [
        "def model():\n",
        "    temp = pyro.sample('temp', dist.Normal(15.0, 2.0))\n",
        "    sensor = pyro.sample('sensor', dist.Normal(temp, 1.0))\n",
        "    return (temp, sensor)\n",
        "\n",
        "out1 = model()\n",
        "out1"
      ],
      "execution_count": null,
      "outputs": [
        {
          "output_type": "execute_result",
          "data": {
            "text/plain": [
              "(tensor(16.2960), tensor(16.6427))"
            ]
          },
          "metadata": {
            "tags": []
          },
          "execution_count": 12
        }
      ]
    },
    {
      "cell_type": "markdown",
      "metadata": {
        "id": "XSXTeNtqL-0t"
      },
      "source": [
        "---\n",
        "* The above method defines a joint probability distribution:\n",
        "$$p(sensor, temp) = p(sensor|temp)p(temp)$$\n",
        "\n",
        "* A graphical description of this model, in terms of probabilistic graphical models, would be as follows:\n",
        "\n",
        "<img src=\"https://github.com/PGM-Lab/probai-2021-pyro/blob/main/Day1/Figures/PGM-Tem-Sensor.png?raw=1\" alt=\"Drawing\" width=\"150\">\n",
        "\n",
        "\n",
        "* In this case, we have a simple dependency between the variables. But, as we are in a PPL, dependencies can be expressed in terms of complex deterministic functions (more examples later).\n",
        "\n",
        "---\n",
        "\n",
        "<img src=\"https://github.com/PGM-Lab/probai-2021-pyro/blob/main/Day1/Figures/blue.png?raw=1\" alt=\"Drawing\" width=2000 height=20>\n"
      ]
    },
    {
      "cell_type": "markdown",
      "metadata": {
        "id": "CCayVyTsL-0t"
      },
      "source": [
        "# 3. **Pyro’s inference** (http://pyro.ai/examples/intro_part_ii.html) :"
      ]
    },
    {
      "cell_type": "markdown",
      "metadata": {
        "id": "QyC3v0cyL-0u"
      },
      "source": [
        "### Auxiliary inference functions (more details on Day 3)\n",
        "\n",
        "To make inference on Pyro, we will use a variational inference method, which performs gradient-based optimization to solve the inference problem. More details will be given on Day 3. "
      ]
    },
    {
      "cell_type": "code",
      "metadata": {
        "id": "arZOTC7gL-0u"
      },
      "source": [
        "from torch.distributions import constraints\n",
        "from pyro.optim import SGD\n",
        "from pyro.infer import Trace_ELBO\n",
        "import matplotlib.pyplot as plt\n",
        "from pyro.contrib.autoguide import AutoDiagonalNormal\n",
        "\n",
        "\n",
        "def svi(temperature_model, guide, obs, num_steps = 5000, plot = False):\n",
        "    pyro.clear_param_store()\n",
        "    svi = pyro.infer.SVI(model=temperature_model,\n",
        "                         guide=guide,\n",
        "                         optim=SGD({\"lr\": 0.001, \"momentum\":0.1}),\n",
        "                         loss=Trace_ELBO())\n",
        "\n",
        "    losses, a,b  = [], [], []\n",
        "    \n",
        "    for t in range(num_steps):\n",
        "        losses.append(svi.step(obs))\n",
        "\n",
        "    if (plot):\n",
        "        plt.plot(losses)\n",
        "        plt.title(\"ELBO\")\n",
        "        plt.xlabel(\"step\")\n",
        "        plt.ylabel(\"loss\");\n",
        "        plt.show()"
      ],
      "execution_count": null,
      "outputs": []
    },
    {
      "cell_type": "markdown",
      "metadata": {
        "id": "ovLJGQtcPlBt"
      },
      "source": [
        "---\n",
        "* To make inference in Pyro over a given model we need to define a *guide*, this *guide* has the same signature than its counterpart model. \n",
        "\n",
        "* The guide must provide samples for those variables of the model which are not observed using again the ``pyro.sample`` construct. \n",
        "\n",
        "* Guides are also parametrized using Pyro's parameters (``pyro.param``), so the variational inference algorithm will optimize these parameters. \n",
        "\n",
        "* All of that will be explained in detail on Day 3.\n",
        "\n",
        "---"
      ]
    },
    {
      "cell_type": "code",
      "metadata": {
        "id": "ubF0fUp8PlB-"
      },
      "source": [
        "#The guide\n",
        "def guide(obs):\n",
        "    a = pyro.param(\"mean\", torch.tensor(0.0))\n",
        "    b = pyro.param(\"scale\", torch.tensor(1.), constraint=constraints.positive)\n",
        "    temp = pyro.sample('temp', dist.Normal(a, b))"
      ],
      "execution_count": null,
      "outputs": []
    },
    {
      "cell_type": "markdown",
      "metadata": {
        "id": "FhjFntF7Ts40"
      },
      "source": [
        "<img src=\"https://github.com/PGM-Lab/probai-2021-pyro/blob/main/Day1/Figures/blue.png?raw=1\" alt=\"Drawing\" width=2000 height=20>\n"
      ]
    },
    {
      "cell_type": "markdown",
      "metadata": {
        "id": "mkkHJOFBL-0u"
      },
      "source": [
        "<img src=\"https://github.com/PGM-Lab/probai-2021-pyro/blob/main/Day1/Figures/blue.png?raw=1\" alt=\"Drawing\" width=2000 height=20>\n",
        "\n",
        "### 3.1  Conditioning on a single observation\n",
        "\n",
        "Now, we continue with the last model defined in section 2.2, and assume we have a sensor reading and we want to compute the posterior distribution over the real temperature. \n",
        "\n",
        "---\n",
        "* When defining the model we can **introduce observations in a random variable** with the keyword ``obs=``.\n",
        "\n",
        "---"
      ]
    },
    {
      "cell_type": "code",
      "metadata": {
        "id": "TSzNRm7wL-0v"
      },
      "source": [
        "#The observatons   \n",
        "obs = {'sensor': torch.tensor(18.0)}\n",
        "\n",
        "def model(obs):\n",
        "    temp = pyro.sample('temp', dist.Normal(15.0, 2.0))\n",
        "    sensor = pyro.sample('sensor', dist.Normal(temp, 1.0), obs=obs['sensor'])"
      ],
      "execution_count": null,
      "outputs": []
    },
    {
      "cell_type": "markdown",
      "metadata": {
        "id": "nH3PgF4wL-0w"
      },
      "source": [
        "<img src=\"https://github.com/PGM-Lab/probai-2021-pyro/blob/main/Day1/Figures/blue.png?raw=1\" alt=\"Drawing\" width=2000 height=20>\n",
        "\n",
        "\n",
        "---\n",
        "* Inference is made using the previously defined auxiliary functions, ``svi`` and ``guide``. \n",
        "\n",
        "* We can query the **posterior probability distribution**: \n",
        "\n",
        "\n",
        "$$p(temp | sensor=18)=\\frac{p(sensor=18|temp)p(temp)}{\\int p(sensor=18|temp)p(temp) dtemp}$$\n",
        "\n",
        "---"
      ]
    },
    {
      "cell_type": "code",
      "metadata": {
        "id": "VObMyZQ_L-0w",
        "colab": {
          "base_uri": "https://localhost:8080/",
          "height": 346
        },
        "outputId": "5095f192-446b-4cd3-ec62-51d6bc11e2c8"
      },
      "source": [
        "#Run inference\n",
        "svi(model,guide,obs, plot=True)\n",
        "\n",
        "#Print results\n",
        "print(\"P(Temperature|Sensor=18.0) = \")\n",
        "print(dist.Normal(pyro.param(\"mean\").item(), pyro.param(\"scale\").item()))\n",
        "print(\"\")"
      ],
      "execution_count": null,
      "outputs": [
        {
          "output_type": "display_data",
          "data": {
            "image/png": "[encoded data removed]",
            "text/plain": [
              "<Figure size 432x288 with 1 Axes>"
            ]
          },
          "metadata": {
            "tags": [],
            "needs_background": "light"
          }
        },
        {
          "output_type": "stream",
          "text": [
            "P(Temperature|Sensor=18.0) = \n",
            "Normal(loc: 17.357982635498047, scale: 0.8860561847686768)\n",
            "\n"
          ],
          "name": "stdout"
        }
      ]
    },
    {
      "cell_type": "markdown",
      "metadata": {
        "id": "ZglqMEmSL-0w"
      },
      "source": [
        "---\n",
        "* Inference is an **optimization procedure**. \n",
        "\n",
        "* The **ELBO function is minimized** during the variational inference process.\n",
        "\n",
        "---\n",
        "\n",
        "<img src=\"https://github.com/PGM-Lab/probai-2021-pyro/blob/main/Day1/Figures/blue.png?raw=1\" alt=\"Drawing\" width=2000 height=20>\n"
      ]
    },
    {
      "cell_type": "markdown",
      "metadata": {
        "id": "WAbW6UoTL-0x"
      },
      "source": [
        "### 3.2  Learning from a bunch of observations\n",
        "\n",
        "---\n",
        "* Let us assume we have a **set of observations** about the temperature at different time steps. \n",
        "\n",
        "* In this case, following a probabilistic modelling approach, we define a **set of random variables**.\n",
        "\n",
        "* One random varialbe for each **observation**, using a standard ``for-loop``.\n",
        "\n",
        "---"
      ]
    },
    {
      "cell_type": "code",
      "metadata": {
        "id": "w2bPy-D4L-0x"
      },
      "source": [
        "#The observatons   \n",
        "obs = {'sensor': torch.tensor([18., 18.7, 19.2, 17.8, 20.3, 22.4, 20.3, 21.2, 19.5, 20.1])}\n",
        "\n",
        "def model(obs):\n",
        "    for i in range(obs['sensor'].shape[0]):\n",
        "        temp = pyro.sample(f'temp_{i}', dist.Normal(15.0, 2.0))\n",
        "        sensor = pyro.sample(f'sensor_{i}', dist.Normal(temp, 1.0), obs=obs['sensor'][i])"
      ],
      "execution_count": null,
      "outputs": []
    },
    {
      "cell_type": "markdown",
      "metadata": {
        "id": "fjcPTM1PL-0x"
      },
      "source": [
        "\n",
        "<img src=\"https://github.com/PGM-Lab/probai-2021-pyro/blob/main/Day1/Figures/blue.png?raw=1\" alt=\"Drawing\" width=2000 height=20>\n",
        "\n",
        "---\n",
        "\n",
        "* What if we do **not know the mean temperature**. \n",
        "\n",
        "* We can **infer it from the data**. \n",
        "\n",
        "* We can use a **maximum likelihood** approach,\n",
        "\n",
        "$$ \\mu_{t} = \\arg\\max_\\mu \\ln p(s_1,\\ldots,s_n|\\mu) = \\arg\\max_\\mu \\prod_i \\int_{t_i} p(s_i|t_i)p(t_i|\\mu) dt_i $$\n",
        "where $s_i$ denotes the sensor readings, $t_i$ is the real temperature at time $i$. \n",
        "\n",
        "* With PPLs, we do not have to care about the **underlying inference problem**. \n",
        "\n",
        "* We just define the model and let the **PPL's engine** make the work for us. \n",
        "\n",
        "* We use Pyro's parameters (defined as ``pyro.param``), which are free variables we can optimize. \n",
        "\n",
        "---"
      ]
    },
    {
      "cell_type": "code",
      "metadata": {
        "id": "yXEFGMkzL-0x"
      },
      "source": [
        "#The observatons   \n",
        "obs = {'sensor': torch.tensor([18., 18.7, 19.2, 17.8, 20.3, 22.4, 20.3, 21.2, 19.5, 20.1])}\n",
        "\n",
        "def model(obs):\n",
        "    mean_temp = pyro.param('mean_temp', torch.tensor(15.0))\n",
        "    for i in range(obs['sensor'].shape[0]):\n",
        "        temp = pyro.sample(f'temp_{i}', dist.Normal(mean_temp, 2.0))\n",
        "        sensor = pyro.sample(f'sensor_{i}', dist.Normal(temp, 1.0), obs=obs['sensor'][i])"
      ],
      "execution_count": null,
      "outputs": []
    },
    {
      "cell_type": "code",
      "metadata": {
        "id": "9zTG-8UVL-0x",
        "cellView": "form"
      },
      "source": [
        "#@title\n",
        "#Define the guide\n",
        "def guide(obs):\n",
        "    for i in range(obs['sensor'].shape[0]):\n",
        "        mean_i = pyro.param(f'mean_{i}', obs['sensor'][i])\n",
        "        scale_i = pyro.param(f'scale_{i}', torch.tensor(1.), constraint=constraints.positive)\n",
        "        temp = pyro.sample(f'temp_{i}', dist.Normal(mean_i, scale_i))"
      ],
      "execution_count": null,
      "outputs": []
    },
    {
      "cell_type": "code",
      "metadata": {
        "id": "GEfOM8zWL-0y",
        "colab": {
          "base_uri": "https://localhost:8080/"
        },
        "outputId": "f6da18da-e79a-409b-de63-4fa238a9a609"
      },
      "source": [
        "#@title\n",
        "#Run inference\n",
        "svi(model, guide, obs, num_steps=1000)\n",
        "\n",
        "#Print results\n",
        "print(\"Estimated Mean Temperature\")\n",
        "print(pyro.param(\"mean_temp\").item())"
      ],
      "execution_count": null,
      "outputs": [
        {
          "output_type": "stream",
          "text": [
            "Estimated Mean Temperature\n",
            "19.124414443969727\n"
          ],
          "name": "stdout"
        }
      ]
    },
    {
      "cell_type": "markdown",
      "metadata": {
        "id": "tiCwbfJwL-0y"
      },
      "source": [
        "<img src=\"https://github.com/PGM-Lab/probai-2021-pyro/blob/main/Day1/Figures/blue.png?raw=1\" alt=\"Drawing\" width=2000 height=20>\n",
        "\n",
        "---\n",
        "* Instead of performing *maximum likelihood* learning, we can perform **Bayesian learning**.\n",
        "\n",
        "* We treat the unknown as a **random variable**.\n",
        "\n",
        "---"
      ]
    },
    {
      "cell_type": "code",
      "metadata": {
        "id": "CaTdLm6ML-0y"
      },
      "source": [
        "#@title\n",
        "#The observatons   \n",
        "obs = {'sensor': torch.tensor([18., 18.7, 19.2, 17.8, 20.3, 22.4, 20.3, 21.2, 19.5, 20.1])}\n",
        "\n",
        "def model(obs):\n",
        "    mean_temp = pyro.sample('mean_temp', dist.Normal(15.0, 2.0))\n",
        "    for i in range(obs['sensor'].shape[0]):\n",
        "        temp = pyro.sample(f'temp_{i}', dist.Normal(mean_temp, 2.0))\n",
        "        sensor = pyro.sample(f'sensor_{i}', dist.Normal(temp, 1.0), obs=obs['sensor'][i])"
      ],
      "execution_count": null,
      "outputs": []
    },
    {
      "cell_type": "markdown",
      "metadata": {
        "id": "jJfVNZFBL-0y"
      },
      "source": [
        "---\n",
        "* The above model can be graphically represented as follows:\n",
        "\n",
        "<img src=\"https://github.com/PGM-Lab/probai-2021-pyro/blob/main/Day1/Figures/PGM-Tem-Sensor2.png?raw=1\" alt=\"Drawing\" width=\"150\">\n",
        "\n",
        "---\n",
        "<img src=\"https://github.com/PGM-Lab/probai-2021-pyro/blob/main/Day1/Figures/blue.png?raw=1\" alt=\"Drawing\" width=2000 height=20>\n",
        "\n",
        "---\n",
        "* We perform inference over this model. \n",
        "---\n"
      ]
    },
    {
      "cell_type": "code",
      "metadata": {
        "id": "0MKYgw54L-0z",
        "cellView": "form"
      },
      "source": [
        "#@title\n",
        "#Define the guide\n",
        "def guide(obs):\n",
        "    mean = pyro.param(\"mean\", torch.mean(obs['sensor']))\n",
        "    scale = pyro.param(\"scale\", torch.tensor(1.), constraint=constraints.positive)\n",
        "    mean_temp = pyro.sample('mean_temp', dist.Normal(mean, scale))\n",
        "    for i in range(obs['sensor'].shape[0]):\n",
        "        mean_i = pyro.param(f'mean_{i}', obs['sensor'][i])\n",
        "        scale_i = pyro.param(f'scale_{i}', torch.tensor(1.), constraint=constraints.positive)\n",
        "        temp = pyro.sample(f'temp_{i}', dist.Normal(mean_i, scale_i))"
      ],
      "execution_count": null,
      "outputs": []
    },
    {
      "cell_type": "code",
      "metadata": {
        "id": "W0YiqM36L-0z",
        "colab": {
          "base_uri": "https://localhost:8080/"
        },
        "outputId": "2398df21-03a1-4a71-8186-1ce48a434d16"
      },
      "source": [
        "import time\n",
        "        \n",
        "#Run inference\n",
        "start = time.time()\n",
        "svi(model, guide, obs, num_steps=1000)\n",
        "\n",
        "#Print results\n",
        "print(\"P(mean_temp|Sensor=[18., 18.7, 19.2, 17.8, 20.3, 22.4, 20.3, 21.2, 19.5, 20.1]) =\")\n",
        "print(dist.Normal(pyro.param(\"mean\").item(), pyro.param(\"scale\").item()))\n",
        "print(\"\")\n",
        "end = time.time()\n",
        "print(f\"{(end - start)} seconds\")"
      ],
      "execution_count": null,
      "outputs": [
        {
          "output_type": "stream",
          "text": [
            "P(mean_temp|Sensor=[18., 18.7, 19.2, 17.8, 20.3, 22.4, 20.3, 21.2, 19.5, 20.1]) =\n",
            "Normal(loc: 19.25364112854004, scale: 0.6090624332427979)\n",
            "\n",
            "13.570505142211914 seconds\n"
          ],
          "name": "stdout"
        }
      ]
    },
    {
      "cell_type": "markdown",
      "metadata": {
        "id": "YFKoGLcnL-0z"
      },
      "source": [
        "---\n",
        "* The result of the learning is **not a point estimate**.\n",
        "\n",
        "* We have a **posterior distribution** which captures **uncertainty** about the estimation.\n",
        "\n",
        "---"
      ]
    },
    {
      "cell_type": "code",
      "metadata": {
        "id": "ES_yHXNKL-0z",
        "colab": {
          "base_uri": "https://localhost:8080/",
          "height": 265
        },
        "outputId": "f914f419-c399-4b7d-a6e0-547548892369"
      },
      "source": [
        "import numpy as np\n",
        "import scipy.stats as stats\n",
        "\n",
        "mu = 19.312837600708008\n",
        "scale = 0.6332376003265381\n",
        "x = np.linspace(mu - 3*scale, mu + 3*scale, 100)\n",
        "plt.plot(x, stats.norm.pdf(x, mu, scale), label='Posterior')\n",
        "point = 19.123859405517578\n",
        "plt.plot([point, point],[0., 1.], label='Point Estimate')\n",
        "plt.legend()\n",
        "plt.show()"
      ],
      "execution_count": null,
      "outputs": [
        {
          "output_type": "display_data",
          "data": {
            "image/png": "[encoded data removed]",
            "text/plain": [
              "<Figure size 432x288 with 1 Axes>"
            ]
          },
          "metadata": {
            "tags": [],
            "needs_background": "light"
          }
        }
      ]
    },
    {
      "cell_type": "markdown",
      "metadata": {
        "id": "1SXUdMtUL-00"
      },
      "source": [
        "<img src=\"https://github.com/PGM-Lab/probai-2021-pyro/blob/main/Day1/Figures/blue.png?raw=1\" alt=\"Drawing\" width=2000 height=20>\n",
        "\n",
        "\n",
        "### 3.3 The use of ``plate`` construct\n",
        "\n",
        "---\n",
        "\n",
        "* Pyro can exploit exploit **conditional independencies and vectorization** to make inference much faster. \n",
        "\n",
        "* This can be done with the construct **``palte``**. \n",
        "\n",
        "* With this construct, we can indicate the variables $s_i$ and $t_i$ are **conditionally indepdendent** from another variables $s_j$ and $t_j$ given $\\mu_t$. \n",
        "\n",
        "---\n",
        "\n"
      ]
    },
    {
      "cell_type": "code",
      "metadata": {
        "id": "4LlQKqp4L-00"
      },
      "source": [
        "#The observatons   \n",
        "obs = {'sensor': torch.tensor([18., 18.7, 19.2, 17.8, 20.3, 22.4, 20.3, 21.2, 19.5, 20.1])}\n",
        "\n",
        "def model(obs):\n",
        "    mean_temp = pyro.sample('mean_temp', dist.Normal(15.0, 2.0))\n",
        "    with pyro.plate('a', obs['sensor'].shape[0]):\n",
        "        temp = pyro.sample('temp', dist.Normal(mean_temp, 2.0))\n",
        "        sensor = pyro.sample('sensor', dist.Normal(temp, 1.0), obs=obs['sensor'])"
      ],
      "execution_count": null,
      "outputs": []
    },
    {
      "cell_type": "markdown",
      "metadata": {
        "id": "yAh8vLjLL-00"
      },
      "source": [
        "---\n",
        "* The ``plate`` construct refers to the standard notation use in graphical models to denote the **repetition of some parts of of the graph**. \n",
        "\n",
        "* This Pyro model can be graphically represented as follows, \n",
        "\n",
        "<img src=\"https://github.com/PGM-Lab/probai-2021-pyro/blob/main/Day1/Figures/PGM-Tem-Sensor3.png?raw=1\" alt=\"Drawing\" width=\"250\">\n",
        "\n",
        "* We can observe the distintion between **local** and **global** rando variables. \n",
        "\n",
        "* **Local random variables** caputures **specific information** about the $i$-th data sample (i.e. the real temperature at this moment in time).\n",
        "\n",
        "* **Global random variables** captures **common information** about all the data samples (i.e. the average temperature of all data samples). \n",
        "\n",
        "---\n",
        "\n",
        "<img src=\"https://github.com/PGM-Lab/probai-2021-pyro/blob/main/Day1/Figures/blue.png?raw=1\" alt=\"Drawing\" width=2000 height=20>\n",
        "\n",
        "\n",
        "Observe how inference in this model is much **faster**. "
      ]
    },
    {
      "cell_type": "code",
      "metadata": {
        "id": "vNC2WW9tL-00"
      },
      "source": [
        "#Define the guide\n",
        "def guide(obs_sensor):\n",
        "    mean = pyro.param(\"mean\", torch.mean(obs['sensor']))\n",
        "    scale = pyro.param(\"scale\", torch.tensor(1.), constraint=constraints.positive)\n",
        "    mean_temp = pyro.sample('mean_temp', dist.Normal(mean, scale))\n",
        "    with pyro.plate('a', obs['sensor'].shape[0]) as i:\n",
        "        mean_i = pyro.param('mean_i', obs['sensor'][i])\n",
        "        scale_i = pyro.param('scale_i', torch.tensor(1.), constraint=constraints.positive)\n",
        "        temp = pyro.sample('temp', dist.Normal(mean_i, scale_i))    "
      ],
      "execution_count": null,
      "outputs": []
    },
    {
      "cell_type": "code",
      "metadata": {
        "id": "ASYtP3j0L-01",
        "colab": {
          "base_uri": "https://localhost:8080/"
        },
        "outputId": "ce1eb903-cad5-4761-b8e1-f34927f491f7"
      },
      "source": [
        "#Run inference\n",
        "start = time.time()\n",
        "svi(model, guide, obs, num_steps=1000)\n",
        "\n",
        "#Print results\n",
        "print(\"P(mean_temp|Sensor=[18., 18.7, 19.2, 17.8, 20.3, 22.4, 20.3, 21.2, 19.5, 20.1]) =\")\n",
        "print(dist.Normal(pyro.param(\"mean\").item(), pyro.param(\"scale\").item()))\n",
        "print(\"\")\n",
        "end = time.time()\n",
        "print(f\"{(end - start)} seconds\")"
      ],
      "execution_count": null,
      "outputs": [
        {
          "output_type": "stream",
          "text": [
            "P(mean_temp|Sensor=[18., 18.7, 19.2, 17.8, 20.3, 22.4, 20.3, 21.2, 19.5, 20.1]) =\n",
            "Normal(loc: 19.317304611206055, scale: 0.6547294855117798)\n",
            "\n",
            "3.2390894889831543 seconds\n"
          ],
          "name": "stdout"
        }
      ]
    },
    {
      "cell_type": "markdown",
      "metadata": {
        "id": "dUDwSWFsL-01"
      },
      "source": [
        "\n",
        "<img src=\"https://github.com/PGM-Lab/probai-2021-pyro/blob/main/Day1/Figures/blue.png?raw=1\" alt=\"Drawing\" width=2000 height=20>\n",
        "\n",
        "\n",
        "### **<span style=\"color:red\">Exercise 1: </span>The role of *prior distributions* in learning**\n",
        "\n",
        "In this case we just want to llustrate how the output of learning depends of the particular prior we introduce in the model. Play with different options and extract conclusions:\n",
        "\n",
        "1. What happens if we change the mean of the prior?\n",
        "2. What happens if we change the scale of the prior?\n",
        "3. What happens to the posterior if the number of data samples deacreases and increases?"
      ]
    },
    {
      "cell_type": "code",
      "metadata": {
        "id": "Vq-E5QY99Xvu"
      },
      "source": [
        "import numpy as np\n",
        "18 + np.random.rand(10)\n",
        "torch.tensor(18 + np.random.rand(10))\n",
        "obs = {'sensor': torch.tensor(np.random.normal(18,2,100))}"
      ],
      "execution_count": null,
      "outputs": []
    },
    {
      "cell_type": "code",
      "metadata": {
        "id": "5OWLg5tvL-01",
        "colab": {
          "base_uri": "https://localhost:8080/",
          "height": 351
        },
        "outputId": "b86a5182-75d4-4c89-e74a-c7b468c652bd"
      },
      "source": [
        "#The observatons   \n",
        "sample_size = 10\n",
        "obs = {'sensor': torch.tensor(np.random.normal(18,2,sample_size))}\n",
        "\n",
        "def model(obs):\n",
        "    mean_temp = pyro.sample('mean_temp', dist.Normal(15.0, 2.0))\n",
        "    with pyro.plate('a', obs['sensor'].shape[0]):\n",
        "        temp = pyro.sample('temp', dist.Normal(mean_temp, 2.0))\n",
        "        sensor = pyro.sample('sensor', dist.Normal(temp, 1.0), obs=obs['sensor'])\n",
        "\n",
        "#Run inference\n",
        "svi(model, guide, obs, num_steps=1000)\n",
        "\n",
        "#Print results\n",
        "print(\"P(Temperature|Sensor=18.0) = \")\n",
        "print(dist.Normal(pyro.param(\"mean\").item(), pyro.param(\"scale\").item()))\n",
        "\n",
        "x = np.linspace(16, 20, 100)\n",
        "plt.plot(x, stats.norm.pdf(x, pyro.param(\"mean\").item(), pyro.param(\"scale\").item()), label='Posterior')\n",
        "point = 18\n",
        "plt.plot([point, point],[0., 1.], label='Point Estimate')\n",
        "plt.xlim(16,20)\n",
        "plt.legend()\n",
        "plt.show()\n"
      ],
      "execution_count": null,
      "outputs": [
        {
          "output_type": "stream",
          "text": [
            "/usr/local/lib/python3.7/dist-packages/pyro/util.py:242: UserWarning: Found non-auxiliary vars in guide but not model, consider marking these infer={'is_auxiliary': True}:\n",
            "{'beta', 'alpha'}\n",
            "  guide_vars - aux_vars - model_vars))\n"
          ],
          "name": "stderr"
        },
        {
          "output_type": "stream",
          "text": [
            "P(Temperature|Sensor=18.0) = \n",
            "Normal(loc: 17.294658660888672, scale: 0.6173408627510071)\n"
          ],
          "name": "stdout"
        },
        {
          "output_type": "display_data",
          "data": {
            "image/png": "[encoded data removed]",
            "text/plain": [
              "<Figure size 432x288 with 1 Axes>"
            ]
          },
          "metadata": {
            "tags": [],
            "needs_background": "light"
          }
        }
      ]
    },
    {
      "cell_type": "markdown",
      "metadata": {
        "id": "uf7kVC-hL-03"
      },
      "source": [
        "<img src=\"https://github.com/PGM-Lab/probai-2021-pyro/blob/main/Day1/Figures/blue.png?raw=1\" alt=\"Drawing\" width=2000 height=20>\n",
        "\n",
        "\n",
        "# **4.  Icecream Shop**\n",
        "\n",
        "---\n",
        "\n",
        "* We have an ice-cream shop and we **record the ice-cream sales and the average temperature of the day** (using a temperature sensor).\n",
        "\n",
        "* We know **temperature affects the sales** of ice-creams.\n",
        "\n",
        "* We want to **precisely model** how temperature affects ice-cream sales.\n",
        "---\n",
        "<img src=\"https://github.com/PGM-Lab/probai-2021-pyro/raw/main/Day1/Figures/Ice-cream_shop_-_Florida.jpg\" alt=\"Drawing\" width=300 >\n",
        "\n",
        "\n"
      ]
    },
    {
      "cell_type": "markdown",
      "metadata": {
        "id": "uv2fWAHxDRxO"
      },
      "source": [
        "<img src=\"https://github.com/PGM-Lab/probai-2021-pyro/blob/main/Day1/Figures/blue.png?raw=1\" alt=\"Drawing\" width=2000 height=20>\n",
        "\n",
        "\n",
        "---\n",
        "* We have **observations** from temperature and sales.\n",
        "\n",
        "* Sales are modeled with a **Poisson** distribution.\n",
        "\n",
        "* The rate of the Poisson **linearly depends of the real temperature**.\n",
        "---\n"
      ]
    },
    {
      "cell_type": "code",
      "metadata": {
        "id": "HR8bu27OL-03"
      },
      "source": [
        "#The observatons   \n",
        "obs = {'sensor': torch.tensor([18., 18.7, 19.2, 17.8, 20.3, 22.4, 20.3, 21.2, 19.5, 20.1]),\n",
        "       'sales': torch.tensor([46., 47., 49., 44., 50., 54., 51., 52., 49., 53.])}\n",
        "\n",
        "def model(obs):\n",
        "    mean_temp = pyro.sample('mean_temp', dist.Normal(15.0, 2.0))\n",
        "    alpha = pyro.sample('alpha', dist.Normal(0.0, 100.0))\n",
        "    beta = pyro.sample('beta', dist.Normal(0.0, 100.0))\n",
        "\n",
        "    with pyro.plate('a', obs['sensor'].shape[0]):\n",
        "        temp = pyro.sample('temp', dist.Normal(mean_temp, 2.0))\n",
        "        sensor = pyro.sample('sensor', dist.Normal(temp, 1.0), obs=obs['sensor'])\n",
        "        rate = torch.max(torch.tensor(0.001), alpha + beta*temp)\n",
        "        sales = pyro.sample('sales', dist.Poisson(rate), obs=obs['sales'])"
      ],
      "execution_count": null,
      "outputs": []
    },
    {
      "cell_type": "markdown",
      "metadata": {
        "id": "gT34C5CpDmPZ"
      },
      "source": [
        "<img src=\"https://github.com/PGM-Lab/probai-2021-pyro/blob/main/Day1/Figures/blue.png?raw=1\" alt=\"Drawing\" width=2000 height=20>\n"
      ]
    },
    {
      "cell_type": "code",
      "metadata": {
        "id": "nkOSF-WlL-03",
        "cellView": "form"
      },
      "source": [
        "#@title\n",
        "#Define the guide\n",
        "def guide(obs):\n",
        "    mean = pyro.param(\"mean\", torch.mean(obs['sensor']))\n",
        "    scale = pyro.param(\"scale\", torch.tensor(1.), constraint=constraints.positive)\n",
        "    mean_temp = pyro.sample('mean_temp', dist.Normal(mean, scale))\n",
        "\n",
        "    alpha_mean = pyro.param(\"alpha_mean\", torch.mean(obs['sensor']))\n",
        "    alpha_scale = pyro.param(\"alpha_scale\", torch.tensor(1.), constraint=constraints.positive)\n",
        "    alpha = pyro.sample('alpha', dist.Normal(alpha_mean, alpha_scale))\n",
        "\n",
        "    beta_mean = pyro.param(\"beta_mean\", torch.tensor(1.0))\n",
        "    beta_scale = pyro.param(\"beta_scale\", torch.tensor(1.), constraint=constraints.positive)\n",
        "    beta = pyro.sample('beta', dist.Normal(beta_mean, beta_scale))\n",
        "\n",
        "    with pyro.plate('a', obs['sensor'].shape[0]) as i:\n",
        "        mean_i = pyro.param('mean_i', obs['sensor'][i])\n",
        "        scale_i = pyro.param('scale_i', torch.tensor(1.), constraint=constraints.positive)\n",
        "        temp = pyro.sample('temp', dist.Normal(mean_i, scale_i))  "
      ],
      "execution_count": null,
      "outputs": []
    },
    {
      "cell_type": "markdown",
      "metadata": {
        "id": "6jqw09FND19b"
      },
      "source": [
        "---\n",
        "* We run the **(variational) inference engine** and get the results.\n",
        "\n",
        "* With PPLs, we only care about modeling, **not about the low-level details** of the machine-learning solver.\n",
        "\n",
        "---"
      ]
    },
    {
      "cell_type": "code",
      "metadata": {
        "id": "gmaOTBYAL-03",
        "colab": {
          "base_uri": "https://localhost:8080/"
        },
        "outputId": "bcf2ed17-675c-4576-9241-e2642d80e5fc"
      },
      "source": [
        "#Run inference\n",
        "svi(model, guide, obs, num_steps=1000)\n",
        "\n",
        "#Print results    \n",
        "print(\"Posterior Temperature Mean\")\n",
        "print(dist.Normal(pyro.param(\"mean\").item(), pyro.param(\"scale\").item()))\n",
        "print(\"\")\n",
        "print(\"Posterior Alpha\")\n",
        "print(dist.Normal(pyro.param(\"alpha_mean\").item(), pyro.param(\"alpha_scale\").item()))\n",
        "print(\"\")\n",
        "print(\"Posterior Beta\")\n",
        "print(dist.Normal(pyro.param(\"beta_mean\").item(), pyro.param(\"beta_scale\").item()))"
      ],
      "execution_count": null,
      "outputs": [
        {
          "output_type": "stream",
          "text": [
            "Posterior Temperature Mean\n",
            "Normal(loc: 19.26645851135254, scale: 0.6270246505737305)\n",
            "\n",
            "Posterior Alpha\n",
            "Normal(loc: 19.773393630981445, scale: 1.8381545543670654)\n",
            "\n",
            "Posterior Beta\n",
            "Normal(loc: 1.5234915018081665, scale: 0.11579174548387527)\n"
          ],
          "name": "stdout"
        }
      ]
    },
    {
      "cell_type": "markdown",
      "metadata": {
        "id": "4ulfx96AL-04"
      },
      "source": [
        "<img src=\"https://github.com/PGM-Lab/probai-2021-pyro/blob/main/Day1/Figures/blue.png?raw=1\" alt=\"Drawing\" width=2000 height=20>\n",
        "\n",
        "\n",
        "### <span style=\"color:red\">Exercise 2: Introduce Humidity in the Icecream shop model </span> \n",
        "---\n",
        "* Assume we also have a bunch of **humidity senor measurements**.\n",
        "* Assume the **sales are also linearly influenced by the humidity**.\n",
        "* **Extend the above model** in order to integrate all of that.\n",
        "---\n",
        "\n",
        "\n",
        "<img src=\"https://github.com/PGM-Lab/probai-2021-pyro/raw/main/Day1/Figures/humidity-exercise.png\" alt=\"Drawing\" width=300 >\n",
        "\n",
        "\n"
      ]
    },
    {
      "cell_type": "code",
      "metadata": {
        "id": "8UxOUxuTL-04",
        "colab": {
          "base_uri": "https://localhost:8080/",
          "height": 131
        },
        "outputId": "8509c3af-a264-483b-bf23-9c6a2d27b8ae"
      },
      "source": [
        "#The observatons   \n",
        "obs = {'sensor': torch.tensor([18., 18.7, 19.2, 17.8, 20.3, 22.4, 20.3, 21.2, 19.5, 20.1]),\n",
        "       'sales': torch.tensor([46., 47., 49., 44., 50., 54., 51., 52., 49., 53.]),\n",
        "       'sensor_humidity': torch.tensor([82.8, 87.6, 69.1, 74.2, 80.3, 94.2, 91.2, 92.2, 99.1, 93.2])}\n",
        "\n",
        "\n",
        "def model(obs):\n",
        "    mean_temp = pyro.sample('mean_temp', dist.Normal(15.0, 2.0))\n",
        "    ## Introduce a random variable \"humidity_mean\"\n",
        "\n",
        "    alpha = pyro.sample('alpha', dist.Normal(0.0, 100.0))\n",
        "    beta = pyro.sample('beta', dist.Normal(0.0, 100.0))\n",
        "    \n",
        "    ## Introduce a coefficient for the humidity \"gamma\"\n",
        "\n",
        "    with pyro.plate('a', obs['sensor'].shape[0]):\n",
        "        temp = pyro.sample('temp', dist.Normal(mean_temp, 2.0))\n",
        "        sensor = pyro.sample('sensor', dist.Normal(temp, 1.0), obs=obs['sensor'])\n",
        "        #Add the 'humidity' variable and the 'sensor_humidity' variable\n",
        "        \n",
        "        #Add the linear dependency of humidity\n",
        "        sales = pyro.sample('sales', dist.Poisson(????), obs=obs['sales'])"
      ],
      "execution_count": null,
      "outputs": [
        {
          "output_type": "error",
          "ename": "SyntaxError",
          "evalue": "ignored",
          "traceback": [
            "\u001b[0;36m  File \u001b[0;32m\"<ipython-input-33-451a143bbb04>\"\u001b[0;36m, line \u001b[0;32m22\u001b[0m\n\u001b[0;31m    sales = pyro.sample('sales', dist.Poisson(????), obs=obs['sales'])\u001b[0m\n\u001b[0m                                              ^\u001b[0m\n\u001b[0;31mSyntaxError\u001b[0m\u001b[0;31m:\u001b[0m invalid syntax\n"
          ]
        }
      ]
    },
    {
      "cell_type": "markdown",
      "metadata": {
        "id": "wC7ceQTkHrrg"
      },
      "source": [
        "<img src=\"https://github.com/PGM-Lab/probai-2021-pyro/blob/main/Day1/Figures/blue.png?raw=1\" alt=\"Drawing\" width=2000 height=20>\n",
        "\n",
        "---\n",
        "* We run the **(variational) inference engine** and get the results.\n",
        "\n",
        "* With PPLs, we only care about modeling, **not about the low-level details** of the machine-learning solver.\n",
        "\n",
        "---"
      ]
    },
    {
      "cell_type": "code",
      "metadata": {
        "id": "zyR9EXz2L-04",
        "cellView": "form"
      },
      "source": [
        "#@title\n",
        "#Auxiliary Guide Code\n",
        "def guide(obs):\n",
        "    mean = pyro.param(\"mean\", torch.mean(obs['sensor']))\n",
        "    scale = pyro.param(\"scale\", torch.tensor(1.), constraint=constraints.positive)\n",
        "    mean_temp = pyro.sample('mean_temp', dist.Normal(mean, scale))\n",
        "\n",
        "    meanH = pyro.param(\"meanH\", torch.mean(obs['sensor_humidity']))\n",
        "    scaleH = pyro.param(\"scaleH\", torch.tensor(1.), constraint=constraints.positive)\n",
        "    humidity_mean = pyro.sample('humidity_mean', dist.Normal(meanH, scaleH))\n",
        "\n",
        "\n",
        "    alpha_mean = pyro.param(\"alpha_mean\", torch.mean(obs['sensor']), constraint=constraints.positive)\n",
        "    alpha_scale = pyro.param(\"alpha_scale\", torch.tensor(1.), constraint=constraints.positive)\n",
        "    alpha = pyro.sample('alpha', dist.Normal(alpha_mean, alpha_scale))\n",
        "\n",
        "    beta_mean = pyro.param(\"beta_mean\", torch.tensor(1.0), constraint=constraints.positive)\n",
        "    beta_scale = pyro.param(\"beta_scale\", torch.tensor(1.), constraint=constraints.positive)\n",
        "    beta = pyro.sample('beta', dist.Normal(beta_mean, beta_scale))\n",
        "\n",
        "    gamma_mean = pyro.param(\"gamma_mean\", torch.tensor(1.0), constraint=constraints.positive)\n",
        "    gamma_scale = pyro.param(\"gamma_scale\", torch.tensor(1.), constraint=constraints.positive)\n",
        "    gamma = pyro.sample('gamma', dist.Normal(gamma_mean, gamma_scale))\n",
        "\n",
        "    with pyro.plate('a', obs['sensor'].shape[0]) as i:\n",
        "        mean_i = pyro.param('mean_i', obs['sensor'][i])\n",
        "        scale_i = pyro.param('scale_i', torch.tensor(1.), constraint=constraints.positive)\n",
        "        temp = pyro.sample('temp', dist.Normal(mean_i, scale_i))\n",
        "        meanH_i = pyro.param('meanH_i', obs['sensor_humidity'][i])\n",
        "        scaleH_i = pyro.param('scaleH_i', torch.tensor(1.), constraint=constraints.positive)\n",
        "        humidity = pyro.sample('humidity', dist.Normal(meanH_i, scaleH_i)) "
      ],
      "execution_count": null,
      "outputs": []
    },
    {
      "cell_type": "code",
      "metadata": {
        "id": "NvIXRoVeL-05"
      },
      "source": [
        "#Run inference\n",
        "svi(model, guide, obs, num_steps=1000)\n",
        "\n",
        "#Print results    \n",
        "print(\"Posterior Temperature Mean\")\n",
        "print(dist.Normal(pyro.param(\"mean\").item(), pyro.param(\"scale\").item()))\n",
        "print(\"\")\n",
        "print(\"Posterior Humidity Mean\")\n",
        "print(dist.Normal(pyro.param(\"meanH\").item(), pyro.param(\"scaleH\").item()))\n",
        "print(\"\")\n",
        "print(\"Posterior Alpha\")\n",
        "print(dist.Normal(pyro.param(\"alpha_mean\").item(), pyro.param(\"alpha_scale\").item()))\n",
        "print(\"\")\n",
        "print(\"Posterior Beta\")\n",
        "print(dist.Normal(pyro.param(\"beta_mean\").item(), pyro.param(\"beta_scale\").item()))\n",
        "print(\"\")\n",
        "print(\"Posterior Gamma\")\n",
        "print(dist.Normal(pyro.param(\"gamma_mean\").item(), pyro.param(\"gamma_scale\").item()))"
      ],
      "execution_count": null,
      "outputs": []
    },
    {
      "cell_type": "markdown",
      "metadata": {
        "id": "NCld6GJGL-05"
      },
      "source": [
        "<img src=\"https://github.com/PGM-Lab/probai-2021-pyro/blob/main/Day1/Figures/blue.png?raw=1\" alt=\"Drawing\" width=2000 height=20>\n",
        "\n",
        "# 4.  **Temporal Models**\n",
        "\n",
        "If we think there is a temporal dependency between the variables, we can encode that easily with PPLs. \n",
        "\n",
        "---\n",
        "* Let us assume there is a **temporal dependency** between the variables.\n",
        "\n",
        "* E.g. the current **real temperature must be similar to the real temperature in the previous time step**.\n",
        "\n",
        "* This temporal dependency can **easily model** as using a **for-loop** in Pyro\n",
        "\n",
        "* Look at the **graphical representation**.\n",
        "---\n",
        "\n",
        "\n",
        "<img src=\"https://github.com/PGM-Lab/probai-2021-pyro/raw/main/Day1/Figures/tempmodel-temporal-III.png\" alt=\"Drawing\" style=\"width: 350px;\" >\n",
        "\n"
      ]
    },
    {
      "cell_type": "code",
      "metadata": {
        "id": "dSzU0cWeL-05"
      },
      "source": [
        "#The observatons   \n",
        "obs = {'sensor': torch.tensor([18., 18.7, 19.2, 17.8, 20.3, 22.4, 20.3, 21.2, 19.5, 20.1])}\n",
        "\n",
        "def model(obs):\n",
        "    mean_temp = pyro.sample('mean_temp', dist.Normal(15.0, 2.0))\n",
        "    for i in range(obs['sensor'].shape[0]):\n",
        "        if i==0:\n",
        "            temp = pyro.sample(f'temp_{i}', dist.Normal(mean_temp, 2.0))\n",
        "        else:\n",
        "            temp = pyro.sample(f'temp_{i}', dist.Normal(prev_temp, 2.0))\n",
        "        sensor = pyro.sample(f'sensor_{i}', dist.Normal(temp, 1.0), obs=obs['sensor'][i])\n",
        "        prev_temp = temp"
      ],
      "execution_count": null,
      "outputs": []
    },
    {
      "cell_type": "markdown",
      "metadata": {
        "id": "EAnXvUqpJCm1"
      },
      "source": [
        "<img src=\"https://github.com/PGM-Lab/probai-2021-pyro/blob/main/Day1/Figures/blue.png?raw=1\" alt=\"Drawing\" width=2000 height=20>\n",
        "\n",
        "---\n",
        "* We run the **(variational) inference engine** and get the results.\n",
        "\n",
        "* With PPLs, we only care about modeling, **not about the low-level details** of the machine-learning solver.\n",
        "\n",
        "---"
      ]
    },
    {
      "cell_type": "code",
      "metadata": {
        "id": "7XaW4rKXL-05",
        "cellView": "form"
      },
      "source": [
        "#@title\n",
        "#Define the guide\n",
        "def guide(obs):\n",
        "    mean = pyro.param(\"mean\", torch.mean(obs['sensor']))\n",
        "    scale = pyro.param(\"scale\", torch.tensor(1.), constraint=constraints.positive)\n",
        "    mean_temp = pyro.sample('mean_temp', dist.Normal(mean, scale))\n",
        "    for i in range(obs['sensor'].shape[0]):\n",
        "        mean_i = pyro.param(f'mean_{i}', obs['sensor'][i])\n",
        "        scale_i = pyro.param(f'scale_{i}', torch.tensor(1.), constraint=constraints.positive)\n",
        "        temp = pyro.sample(f'temp_{i}', dist.Normal(mean_i, scale_i))"
      ],
      "execution_count": null,
      "outputs": []
    },
    {
      "cell_type": "code",
      "metadata": {
        "id": "XWBFc6w3L-06"
      },
      "source": [
        "import time\n",
        "        \n",
        "#Run inference\n",
        "svi(model, guide, obs, num_steps=2000)\n",
        "\n",
        "smooth_temp=[]\n",
        "for i in range(obs['sensor'].shape[0]):\n",
        "    smooth_temp.append(pyro.param(f'mean_{i}').item())\n",
        "\n",
        "print('Finished')"
      ],
      "execution_count": null,
      "outputs": []
    },
    {
      "cell_type": "markdown",
      "metadata": {
        "id": "OJHqOj3VL-06"
      },
      "source": [
        "---\n",
        "* Plot the **observered measurements** of the temperature **against** the inferred **real temperature**.\n",
        "\n",
        "* By querying the **local hidden** we can **smooth** the temperature.\n",
        "\n",
        "* The **recovered temperature** is much less noisy than the real one. \n",
        "---\n"
      ]
    },
    {
      "cell_type": "code",
      "metadata": {
        "id": "cesOfH6UL-06"
      },
      "source": [
        "import matplotlib.pyplot as plt\n",
        "plt.plot([18., 18.7, 19.2, 17.8, 20.3, 22.4, 20.3, 21.2, 19.5, 20.1], label='Sensor Temp')\n",
        "plt.plot(smooth_temp, label='Smooth Temp')\n",
        "plt.legend()"
      ],
      "execution_count": null,
      "outputs": []
    },
    {
      "cell_type": "markdown",
      "metadata": {
        "id": "yRDQWC-vL-06"
      },
      "source": [
        "<img src=\"https://github.com/PGM-Lab/probai-2021-pyro/blob/main/Day1/Figures/blue.png?raw=1\" alt=\"Drawing\" width=2000 height=20>\n",
        "\n",
        "### <span style=\"color:red\">Exercise 3:  Temporal Extension of the Iceacream shop model </span> \n",
        "\n",
        "--- \n",
        "* **Extends** Excersise 2.\n",
        "* Assume temperature depends of the **temperature in the previous day**.\n",
        "* Assume humidity depends of the **humidity in the previous day**.\n",
        "* Assume sales depends on the **current temperature and humidity**.\n",
        "* Use the following **graphical representation for reference**.\n",
        "* Consider here that the plate representation has to be coded in Pyro using a **``for-loop``**.\n",
        "\n",
        "---\n",
        "\n",
        "<img src=\"https://github.com/PGM-Lab/probai-2021-pyro/raw/main/Day1/Figures/icecream-model-temporal.png\" alt=\"Drawing\" width=500 >\n",
        "\n",
        "\n"
      ]
    },
    {
      "cell_type": "code",
      "metadata": {
        "id": "GevI9bcjL-07"
      },
      "source": [
        "#The observatons   \n",
        "obs = {'sensor': torch.tensor([18., 18.7, 19.2, 17.8, 20.3, 22.4, 20.3, 21.2, 19.5, 20.1]),\n",
        "       'sales': torch.tensor([46., 47., 49., 44., 50., 54., 51., 52., 49., 53.]),\n",
        "       'sensor_humidity': torch.tensor([82.8, 87.6, 69.1, 74.2, 80.3, 94.2, 91.2, 92.2, 99.1, 93.2])/10.}\n",
        "\n",
        "\n",
        "\n",
        "def model(obs):\n",
        "    mean_temp = pyro.sample('mean_temp', dist.Normal(15.0, 2.0))\n",
        "    ## Introduce a random variable \"mean_humidity\"\n",
        "\n",
        "\n",
        "    alpha = pyro.sample('alpha', dist.Normal(0.0, 100.0))\n",
        "    beta = pyro.sample('beta', dist.Normal(0.0, 100.0))\n",
        "    ## Introduce a coefficient for the humidity \"gamma\"\n",
        "\n",
        "    for i in range(obs['sensor'].shape[0]):\n",
        "        if i==0:\n",
        "            temp = pyro.sample(f'temp_{i}', dist.Normal(mean_temp, 2.0))\n",
        "            #Introduce the 'humidity' variable at time 0.\n",
        "        else:\n",
        "            temp = pyro.sample(f'temp_{i}', dist.Normal(prev_temp, 2.0))\n",
        "            #Introduce the f'humidity_{i}' variable defining the transition\n",
        "            \n",
        "        sensor = pyro.sample(f'sensor_{i}', dist.Normal(temp, 1.0), obs=obs['sensor'][i])\n",
        "        #Introduce the f'sensor_humidity_{i}' variable. \n",
        "\n",
        "        sales = pyro.sample(f'sales_{i}', dist.Poisson(?????), obs=obs['sales'][i])\n",
        "        prev_temp = temp\n",
        "        #Keep humidity for the next time step. \n"
      ],
      "execution_count": null,
      "outputs": []
    },
    {
      "cell_type": "markdown",
      "metadata": {
        "id": "BOo487l4L3L1"
      },
      "source": [
        "<img src=\"https://github.com/PGM-Lab/probai-2021-pyro/blob/main/Day1/Figures/blue.png?raw=1\" alt=\"Drawing\" width=2000 height=20>\n",
        "\n",
        "---\n",
        "* We run the **(variational) inference engine** and get the results.\n",
        "\n",
        "* With PPLs, we only care about modeling, **not about the low-level details** of the machine-learning solver.\n",
        "\n",
        "---"
      ]
    },
    {
      "cell_type": "code",
      "metadata": {
        "id": "izRFQ0T3L-07",
        "cellView": "form"
      },
      "source": [
        "#@title\n",
        "#Define the guide\n",
        "def guide(obs):\n",
        "    mean = pyro.param(\"mean\", torch.mean(obs['sensor']))\n",
        "    scale = pyro.param(\"scale\", torch.tensor(1.), constraint=constraints.positive)\n",
        "    mean_temp = pyro.sample('mean_temp', dist.Normal(mean, scale))\n",
        "\n",
        "    meanH = pyro.param(\"meanH\", torch.mean(obs['sensor_humidity']), constraint=constraints.positive)\n",
        "    scaleH = pyro.param(\"scaleH\", torch.tensor(1.), constraint=constraints.greater_than(0.01))\n",
        "    humidity_mean = pyro.sample('mean_humidity', dist.Normal(meanH, scaleH))\n",
        "\n",
        "\n",
        "    alpha_mean = pyro.param(\"alpha_mean\", torch.mean(obs['sensor']))\n",
        "    alpha_scale = pyro.param(\"alpha_scale\", torch.tensor(1.), constraint=constraints.positive)\n",
        "    alpha = pyro.sample('alpha', dist.Normal(alpha_mean, alpha_scale))\n",
        "\n",
        "    beta_mean = pyro.param(\"beta_mean\", torch.tensor(0.0))\n",
        "    beta_scale = pyro.param(\"beta_scale\", torch.tensor(1.), constraint=constraints.positive)\n",
        "    beta = pyro.sample('beta', dist.Normal(beta_mean, beta_scale))\n",
        "\n",
        "    gamma_mean = pyro.param(\"gamma_mean\", torch.tensor(0.0))\n",
        "    gamma_scale = pyro.param(\"gamma_scale\", torch.tensor(1.), constraint=constraints.positive)\n",
        "    gamma = pyro.sample('gamma', dist.Normal(gamma_mean, gamma_scale))\n",
        "\n",
        "    for i in range(obs['sensor'].shape[0]):\n",
        "        mean_i = pyro.param(f'mean_{i}', obs['sensor'][i])\n",
        "        scale_i = pyro.param(f'scale_{i}', torch.tensor(1.), constraint=constraints.positive)\n",
        "        temp = pyro.sample(f'temp_{i}', dist.Normal(mean_i, scale_i))\n",
        "        meanH_i = pyro.param(f'meanH_{i}', obs['sensor_humidity'][i])\n",
        "        scaleH_i = pyro.param(f'scaleH_{i}', torch.tensor(1.), constraint=constraints.positive)\n",
        "        humidity_i = pyro.sample(f'humidity_{i}', dist.Normal(meanH_i, scaleH_i))"
      ],
      "execution_count": null,
      "outputs": []
    },
    {
      "cell_type": "code",
      "metadata": {
        "id": "tMWwy2UNL-07"
      },
      "source": [
        "import time\n",
        "        \n",
        "#Run inference\n",
        "svi(model, guide, obs, num_steps=2000)\n",
        "\n",
        "smooth_temp=[]\n",
        "smooth_humidity=[]\n",
        "\n",
        "for i in range(obs['sensor'].shape[0]):\n",
        "    smooth_temp.append(pyro.param(f'mean_{i}').item())\n",
        "    smooth_humidity.append(pyro.param(f'meanH_{i}').item())\n",
        "\n",
        "\n",
        "\n",
        "\n",
        "print('Finished')"
      ],
      "execution_count": null,
      "outputs": []
    },
    {
      "cell_type": "markdown",
      "metadata": {
        "id": "LosM2wXBMAFX"
      },
      "source": [
        "<img src=\"https://github.com/PGM-Lab/probai-2021-pyro/blob/main/Day1/Figures/blue.png?raw=1\" alt=\"Drawing\" width=2000 height=20>\n",
        "\n",
        "---\n",
        "* We can plot the observered measurements of the temperature against the **inferred real temperature** by our model. \n",
        "\n",
        "* The **recovered temperature** is much less noisy than the real one.\n",
        "\n",
        "---\n",
        "\n",
        "```\n",
        "# This is formatted as code\n",
        "```\n",
        "\n"
      ]
    },
    {
      "cell_type": "code",
      "metadata": {
        "id": "7kr1dbx-L-07"
      },
      "source": [
        "plt.plot([18., 18.7, 19.2, 17.8, 20.3, 22.4, 20.3, 21.2, 19.5, 20.1], label='Sensor Temp')\n",
        "plt.plot(smooth_temp, label='Smooth Temp')\n",
        "plt.legend()"
      ],
      "execution_count": null,
      "outputs": []
    },
    {
      "cell_type": "markdown",
      "metadata": {
        "id": "QStTTd9nN56M"
      },
      "source": [
        "---\n",
        "* We can plot the observered measurements of the humidity against the **inferred real humidity** by our model. \n",
        "\n",
        "* The **recovered humidity** is much less noisy than the real one.\n",
        "\n",
        "---\n"
      ]
    },
    {
      "cell_type": "code",
      "metadata": {
        "id": "WD7n3v9oL-08"
      },
      "source": [
        "humidity = torch.tensor([82.8, 87.6, 69.1, 74.2, 80.3, 94.2, 91.2, 92.2, 99.1, 93.2])/10.\n",
        "plt.plot(humidity.detach().numpy(), label='Sensor Humidity')\n",
        "plt.plot(smooth_humidity, label='Smooth Humidity')\n",
        "plt.legend()"
      ],
      "execution_count": null,
      "outputs": []
    },
    {
      "cell_type": "markdown",
      "metadata": {
        "id": "858lPsjJOTJd"
      },
      "source": [
        "<img src=\"https://github.com/PGM-Lab/probai-2021-pyro/blob/main/Day1/Figures/blue.png?raw=1\" alt=\"Drawing\" width=2000 height=20>\n"
      ]
    }
  ]
}