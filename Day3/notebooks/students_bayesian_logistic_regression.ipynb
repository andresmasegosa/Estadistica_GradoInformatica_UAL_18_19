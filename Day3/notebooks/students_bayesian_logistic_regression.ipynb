{
  "nbformat": 4,
  "nbformat_minor": 0,
  "metadata": {
    "anaconda-cloud": {},
    "colab": {
      "name": "solutions_bayesian_logistic_regression.ipynb",
      "provenance": [],
      "include_colab_link": true
    },
    "kernelspec": {
      "display_name": "Python 3",
      "language": "python",
      "name": "python3"
    },
    "language_info": {
      "codemirror_mode": {
        "name": "ipython",
        "version": 3
      },
      "file_extension": ".py",
      "mimetype": "text/x-python",
      "name": "python",
      "nbconvert_exporter": "python",
      "pygments_lexer": "ipython3",
      "version": "3.8.6"
    }
  },
  "cells": [
    {
      "cell_type": "markdown",
      "metadata": {
        "id": "view-in-github",
        "colab_type": "text"
      },
      "source": [
        "<a href=\"https://colab.research.google.com/github/andresmasegosa/Estadistica_GradoInformatica_UAL_18_19/blob/master/Day3/notebooks/students_bayesian_logistic_regression.ipynb\" target=\"_parent\"><img src=\"https://colab.research.google.com/assets/colab-badge.svg\" alt=\"Open In Colab\"/></a>"
      ]
    },
    {
      "cell_type": "markdown",
      "metadata": {
        "id": "LfVmHy4Afyhm"
      },
      "source": [
        "<span style=\"color:red\">This notebook is an adapted version from  </span>  http://pyro.ai/examples/bayesian_regression.html"
      ]
    },
    {
      "cell_type": "markdown",
      "metadata": {
        "id": "wXcRh2TQfyhp"
      },
      "source": [
        "## Setup\n",
        "Let's begin by installing and importing the modules we'll need."
      ]
    },
    {
      "cell_type": "code",
      "metadata": {
        "colab": {
          "base_uri": "https://localhost:8080/"
        },
        "id": "EggRgZ1gfyhq",
        "outputId": "6ffe6b41-f827-40b5-e7d9-de6833d21fef"
      },
      "source": [
        "!pip install -q --upgrade pyro-ppl torch seaborn \n",
        "\n",
        "import os\n",
        "from functools import partial\n",
        "import numpy as np\n",
        "import pandas as pd\n",
        "import seaborn as sns\n",
        "import torch\n",
        "import torch.nn as nn\n",
        "\n",
        "import matplotlib.pyplot as plt\n",
        "\n",
        "import pyro\n",
        "from pyro.distributions import Normal, Uniform, Delta, Gamma, Binomial\n",
        "from pyro.infer import SVI, Trace_ELBO\n",
        "from pyro.optim import Adam\n",
        "import pyro.optim as optim\n",
        "\n",
        "import warnings\n",
        "warnings.simplefilter(action='ignore', category=FutureWarning)\n",
        "\n",
        "# for CI testing\n",
        "pyro.set_rng_seed(1)\n",
        "pyro.enable_validation(True)"
      ],
      "execution_count": null,
      "outputs": [
        {
          "output_type": "stream",
          "text": [
            "\u001b[?25l\r\u001b[K     |▌                               | 10kB 16.4MB/s eta 0:00:01\r\u001b[K     |█                               | 20kB 21.0MB/s eta 0:00:01\r\u001b[K     |█▌                              | 30kB 24.4MB/s eta 0:00:01\r\u001b[K     |██                              | 40kB 26.7MB/s eta 0:00:01\r\u001b[K     |██▋                             | 51kB 28.7MB/s eta 0:00:01\r\u001b[K     |███                             | 61kB 28.7MB/s eta 0:00:01\r\u001b[K     |███▋                            | 71kB 27.6MB/s eta 0:00:01\r\u001b[K     |████▏                           | 81kB 27.8MB/s eta 0:00:01\r\u001b[K     |████▋                           | 92kB 26.8MB/s eta 0:00:01\r\u001b[K     |█████▏                          | 102kB 26.4MB/s eta 0:00:01\r\u001b[K     |█████▊                          | 112kB 26.4MB/s eta 0:00:01\r\u001b[K     |██████▏                         | 122kB 26.4MB/s eta 0:00:01\r\u001b[K     |██████▊                         | 133kB 26.4MB/s eta 0:00:01\r\u001b[K     |███████▎                        | 143kB 26.4MB/s eta 0:00:01\r\u001b[K     |███████▊                        | 153kB 26.4MB/s eta 0:00:01\r\u001b[K     |████████▎                       | 163kB 26.4MB/s eta 0:00:01\r\u001b[K     |████████▉                       | 174kB 26.4MB/s eta 0:00:01\r\u001b[K     |█████████▎                      | 184kB 26.4MB/s eta 0:00:01\r\u001b[K     |█████████▉                      | 194kB 26.4MB/s eta 0:00:01\r\u001b[K     |██████████▎                     | 204kB 26.4MB/s eta 0:00:01\r\u001b[K     |██████████▉                     | 215kB 26.4MB/s eta 0:00:01\r\u001b[K     |███████████▍                    | 225kB 26.4MB/s eta 0:00:01\r\u001b[K     |███████████▉                    | 235kB 26.4MB/s eta 0:00:01\r\u001b[K     |████████████▍                   | 245kB 26.4MB/s eta 0:00:01\r\u001b[K     |█████████████                   | 256kB 26.4MB/s eta 0:00:01\r\u001b[K     |█████████████▍                  | 266kB 26.4MB/s eta 0:00:01\r\u001b[K     |██████████████                  | 276kB 26.4MB/s eta 0:00:01\r\u001b[K     |██████████████▌                 | 286kB 26.4MB/s eta 0:00:01\r\u001b[K     |███████████████                 | 296kB 26.4MB/s eta 0:00:01\r\u001b[K     |███████████████▌                | 307kB 26.4MB/s eta 0:00:01\r\u001b[K     |████████████████                | 317kB 26.4MB/s eta 0:00:01\r\u001b[K     |████████████████▌               | 327kB 26.4MB/s eta 0:00:01\r\u001b[K     |█████████████████               | 337kB 26.4MB/s eta 0:00:01\r\u001b[K     |█████████████████▋              | 348kB 26.4MB/s eta 0:00:01\r\u001b[K     |██████████████████              | 358kB 26.4MB/s eta 0:00:01\r\u001b[K     |██████████████████▋             | 368kB 26.4MB/s eta 0:00:01\r\u001b[K     |███████████████████             | 378kB 26.4MB/s eta 0:00:01\r\u001b[K     |███████████████████▋            | 389kB 26.4MB/s eta 0:00:01\r\u001b[K     |████████████████████▏           | 399kB 26.4MB/s eta 0:00:01\r\u001b[K     |████████████████████▋           | 409kB 26.4MB/s eta 0:00:01\r\u001b[K     |█████████████████████▏          | 419kB 26.4MB/s eta 0:00:01\r\u001b[K     |█████████████████████▊          | 430kB 26.4MB/s eta 0:00:01\r\u001b[K     |██████████████████████▏         | 440kB 26.4MB/s eta 0:00:01\r\u001b[K     |██████████████████████▊         | 450kB 26.4MB/s eta 0:00:01\r\u001b[K     |███████████████████████▎        | 460kB 26.4MB/s eta 0:00:01\r\u001b[K     |███████████████████████▊        | 471kB 26.4MB/s eta 0:00:01\r\u001b[K     |████████████████████████▎       | 481kB 26.4MB/s eta 0:00:01\r\u001b[K     |████████████████████████▉       | 491kB 26.4MB/s eta 0:00:01\r\u001b[K     |█████████████████████████▎      | 501kB 26.4MB/s eta 0:00:01\r\u001b[K     |█████████████████████████▉      | 512kB 26.4MB/s eta 0:00:01\r\u001b[K     |██████████████████████████▍     | 522kB 26.4MB/s eta 0:00:01\r\u001b[K     |██████████████████████████▉     | 532kB 26.4MB/s eta 0:00:01\r\u001b[K     |███████████████████████████▍    | 542kB 26.4MB/s eta 0:00:01\r\u001b[K     |███████████████████████████▉    | 552kB 26.4MB/s eta 0:00:01\r\u001b[K     |████████████████████████████▍   | 563kB 26.4MB/s eta 0:00:01\r\u001b[K     |█████████████████████████████   | 573kB 26.4MB/s eta 0:00:01\r\u001b[K     |█████████████████████████████▍  | 583kB 26.4MB/s eta 0:00:01\r\u001b[K     |██████████████████████████████  | 593kB 26.4MB/s eta 0:00:01\r\u001b[K     |██████████████████████████████▌ | 604kB 26.4MB/s eta 0:00:01\r\u001b[K     |███████████████████████████████ | 614kB 26.4MB/s eta 0:00:01\r\u001b[K     |███████████████████████████████▌| 624kB 26.4MB/s eta 0:00:01\r\u001b[K     |████████████████████████████████| 634kB 26.4MB/s \n",
            "\u001b[?25h"
          ],
          "name": "stdout"
        }
      ]
    },
    {
      "cell_type": "markdown",
      "metadata": {
        "id": "KtC9nacRfyhq"
      },
      "source": [
        "# Dataset \n",
        "\n",
        "The following example is taken from \\[1\\].  We would like to explore the relationship between topographic heterogeneity of a nation as measured by the Terrain Ruggedness Index (variable *rugged* in the dataset) and its GDP per capita. In particular, it was noted by the authors in \\[1\\] that terrain ruggedness or bad geography is related to poorer economic performance outside of Africa, but rugged terrains have had a reverse effect on income for African nations. Let us look at the data \\[2\\] and investigate this relationship.  We will be focusing on three features from the dataset:\n",
        "  - `cont_africa`: whether the given nation is in Africa\n",
        "  - `rugged`: quantifies the Terrain Ruggedness Index\n",
        "  - `rgdppc_2000`: Real GDP per capita for the year 2000\n",
        " \n",
        "  \n",
        "We will take the logarithm for the response variable GDP as it tends to vary exponentially. "
      ]
    },
    {
      "cell_type": "code",
      "metadata": {
        "id": "akcHul9xfyhr"
      },
      "source": [
        "DATA_URL = \"https://raw.githubusercontent.com/pyro-ppl/brmp/master/brmp/examples/rugged_data.csv\"\n",
        "data = pd.read_csv(DATA_URL, encoding=\"ISO-8859-1\")\n",
        "df = data[[\"cont_africa\", \"rugged\", \"rgdppc_2000\"]]\n",
        "df = df[np.isfinite(df.rgdppc_2000)]\n",
        "df[\"rgdppc_2000\"] = np.log(df[\"rgdppc_2000\"])"
      ],
      "execution_count": null,
      "outputs": []
    },
    {
      "cell_type": "code",
      "metadata": {
        "id": "EjOGg_Dafyhu",
        "colab": {
          "base_uri": "https://localhost:8080/",
          "height": 357
        },
        "outputId": "82582e47-a4f5-44d1-ec15-c1acba90e787"
      },
      "source": [
        "# Display first 10 entries \n",
        "display(df[0:10])"
      ],
      "execution_count": null,
      "outputs": [
        {
          "output_type": "display_data",
          "data": {
            "text/html": [
              "<div>\n",
              "<style scoped>\n",
              "    .dataframe tbody tr th:only-of-type {\n",
              "        vertical-align: middle;\n",
              "    }\n",
              "\n",
              "    .dataframe tbody tr th {\n",
              "        vertical-align: top;\n",
              "    }\n",
              "\n",
              "    .dataframe thead th {\n",
              "        text-align: right;\n",
              "    }\n",
              "</style>\n",
              "<table border=\"1\" class=\"dataframe\">\n",
              "  <thead>\n",
              "    <tr style=\"text-align: right;\">\n",
              "      <th></th>\n",
              "      <th>cont_africa</th>\n",
              "      <th>rugged</th>\n",
              "      <th>rgdppc_2000</th>\n",
              "    </tr>\n",
              "  </thead>\n",
              "  <tbody>\n",
              "    <tr>\n",
              "      <th>2</th>\n",
              "      <td>1</td>\n",
              "      <td>0.858</td>\n",
              "      <td>7.492609</td>\n",
              "    </tr>\n",
              "    <tr>\n",
              "      <th>4</th>\n",
              "      <td>0</td>\n",
              "      <td>3.427</td>\n",
              "      <td>8.216929</td>\n",
              "    </tr>\n",
              "    <tr>\n",
              "      <th>7</th>\n",
              "      <td>0</td>\n",
              "      <td>0.769</td>\n",
              "      <td>9.933263</td>\n",
              "    </tr>\n",
              "    <tr>\n",
              "      <th>8</th>\n",
              "      <td>0</td>\n",
              "      <td>0.775</td>\n",
              "      <td>9.407032</td>\n",
              "    </tr>\n",
              "    <tr>\n",
              "      <th>9</th>\n",
              "      <td>0</td>\n",
              "      <td>2.688</td>\n",
              "      <td>7.792343</td>\n",
              "    </tr>\n",
              "    <tr>\n",
              "      <th>11</th>\n",
              "      <td>0</td>\n",
              "      <td>0.006</td>\n",
              "      <td>9.212541</td>\n",
              "    </tr>\n",
              "    <tr>\n",
              "      <th>12</th>\n",
              "      <td>0</td>\n",
              "      <td>0.143</td>\n",
              "      <td>10.143191</td>\n",
              "    </tr>\n",
              "    <tr>\n",
              "      <th>13</th>\n",
              "      <td>0</td>\n",
              "      <td>3.513</td>\n",
              "      <td>10.274632</td>\n",
              "    </tr>\n",
              "    <tr>\n",
              "      <th>14</th>\n",
              "      <td>0</td>\n",
              "      <td>1.672</td>\n",
              "      <td>7.852028</td>\n",
              "    </tr>\n",
              "    <tr>\n",
              "      <th>15</th>\n",
              "      <td>1</td>\n",
              "      <td>1.780</td>\n",
              "      <td>6.432380</td>\n",
              "    </tr>\n",
              "  </tbody>\n",
              "</table>\n",
              "</div>"
            ],
            "text/plain": [
              "    cont_africa  rugged  rgdppc_2000\n",
              "2             1   0.858     7.492609\n",
              "4             0   3.427     8.216929\n",
              "7             0   0.769     9.933263\n",
              "8             0   0.775     9.407032\n",
              "9             0   2.688     7.792343\n",
              "11            0   0.006     9.212541\n",
              "12            0   0.143    10.143191\n",
              "13            0   3.513    10.274632\n",
              "14            0   1.672     7.852028\n",
              "15            1   1.780     6.432380"
            ]
          },
          "metadata": {
            "tags": []
          }
        }
      ]
    },
    {
      "cell_type": "markdown",
      "metadata": {
        "id": "vFJeNXiUfyhx"
      },
      "source": [
        "# 1. Logistic Regression\n",
        "\n",
        "Logistic Regression is one of the most common and basic supervised learning tasks in machine learning. Suppose we're given a dataset $\\mathcal{D}$ of the form\n",
        "\n",
        "$$ \\mathcal{D}  = \\{ (X_i, y_i) \\} \\qquad \\text{for}\\qquad i=1,2,...,N$$\n",
        "\n",
        "The goal of logistic regression is to fit a model that correctly predicts the probabilities of the class labels:\n",
        "\n",
        "$$ p(y|x) = \\frac{1}{1+e^{-b  -w x }}$$\n",
        "\n",
        "where $w$ and $b$ are learnable parameters. Specifically $w$ is a matrix of weights and $b$ is a bias vector.\n",
        "\n",
        "Let's first implement logistic regression in PyTorch and learn point estimates for the parameters $w$ and $b$.  Then we'll see how to incorporate uncertainty into our estimates by using Pyro to implement Bayesian logistic regression."
      ]
    },
    {
      "cell_type": "code",
      "metadata": {
        "id": "SD1O4RQ_fyhx",
        "colab": {
          "base_uri": "https://localhost:8080/",
          "height": 407
        },
        "outputId": "636a30c6-2605-493c-8ba0-003a4d99939e"
      },
      "source": [
        "import numpy as np\n",
        "import matplotlib.pyplot as plt\n",
        "import seaborn as sns\n",
        "sns.set(style=\"white\")\n",
        "data = df.values\n",
        "x_data, y_data = data[:, (1,2)], data[:, 0]\n",
        "\n",
        "xx, yy = np.mgrid[0:7:.01, 6:11:.01]\n",
        "grid = torch.tensor(np.c_[xx.ravel(), yy.ravel()], dtype=torch.float32)\n",
        "\n",
        "f, ax = plt.subplots(figsize=(8, 6))\n",
        "\n",
        "ax.scatter(x_data[y_data==0,0], x_data[y_data==0, 1], c='g', s=50,\n",
        "           cmap=\"RdBu\", vmin=-.2, vmax=1.2,\n",
        "           edgecolor=\"white\", linewidth=1, label='Non-African')\n",
        "\n",
        "ax.scatter(x_data[y_data==1,0], x_data[y_data==1, 1], c='orange', s=50,\n",
        "           cmap=\"RdBu\", vmin=-.2, vmax=1.2,\n",
        "           edgecolor=\"white\", linewidth=1, label='African')\n",
        "\n",
        "\n",
        "ax.set(aspect=\"equal\",\n",
        "       xlim=(0, 7), ylim=(6, 11),\n",
        "       xlabel=\"Rugged\", ylabel=\"Log GDP\")\n",
        "ax.legend()"
      ],
      "execution_count": null,
      "outputs": [
        {
          "output_type": "execute_result",
          "data": {
            "text/plain": [
              "<matplotlib.legend.Legend at 0x7faae6b39a50>"
            ]
          },
          "metadata": {
            "tags": []
          },
          "execution_count": 4
        },
        {
          "output_type": "display_data",
          "data": {
            "image/png": "[encoded data removed]",
            "text/plain": [
              "<Figure size 576x432 with 1 Axes>"
            ]
          },
          "metadata": {
            "tags": []
          }
        }
      ]
    },
    {
      "cell_type": "markdown",
      "metadata": {
        "id": "hHG9QQYhfyhy"
      },
      "source": [
        "## 1.1 Model\n",
        "We would like to predict whether a nationis african or not as a function of the log GDP per capita of a nation.  Let's define our logistic regression model. We'll define an specific object encapsulating this logistic regression model.  Our input `x_data` is a tensor of size $N \\times 2$ and our output `y_data` is a tensor of size $N \\times 1$.  The method `predict(self,x_data)` defines a sigmoid transformation of the form $sigmoid(Xw + b)$ where $w$ is the weight matrix and $b$ is the additive bias.\n",
        "\n",
        "The parameters of the model are defined using ``torch.nn.Parameter``, and will be learned during training. "
      ]
    },
    {
      "cell_type": "code",
      "metadata": {
        "id": "NBQBgFkPfyhz"
      },
      "source": [
        "class LogisticRegressionModel():\n",
        "    def __init__(self):\n",
        "        self.w = torch.nn.Parameter(torch.zeros(1, 2))\n",
        "        self.b = torch.nn.Parameter(torch.zeros(1, 1))\n",
        "\n",
        "    def params(self):\n",
        "        return {\"b\":self.b, \"w\": self.w}\n",
        "\n",
        "    def predict(self, x_data):\n",
        "        return torch.sigmoid(-self.b - torch.mm(self.w, torch.t(x_data))).squeeze(0)\n",
        "\n",
        "    def logits(self, x_data):\n",
        "        return (self.b + torch.mm(self.w, torch.t(x_data))).squeeze(0)\n",
        "\n",
        "logistic_regression_model = LogisticRegressionModel()"
      ],
      "execution_count": null,
      "outputs": []
    },
    {
      "cell_type": "markdown",
      "metadata": {
        "id": "mlGU_7YPfyhz"
      },
      "source": [
        "## 1.2 Training\n",
        "We will use the cross entropy as our loss and Adam as our optimizer. We would like to optimize the parameters of the `logistic_regression_model` neural net above. We will use a somewhat large learning rate of `0.05` and run for 1000 iterations."
      ]
    },
    {
      "cell_type": "code",
      "metadata": {
        "id": "_N6WPDJufyh0",
        "scrolled": true,
        "colab": {
          "base_uri": "https://localhost:8080/"
        },
        "outputId": "043f1079-8545-4fbb-84ff-02064a73be1e"
      },
      "source": [
        "loss_fn = torch.nn.BCEWithLogitsLoss(reduction='sum')\n",
        "optim = torch.optim.Adam(logistic_regression_model.params().values(), lr=0.05)\n",
        "num_iterations = 5000\n",
        "data = torch.tensor(df.values, dtype=torch.float)\n",
        "x_data, y_data = data[:, (1,2)], data[:, 0]\n",
        "\n",
        "def main():\n",
        "    for j in range(num_iterations):\n",
        "        # run the model forward on the data\n",
        "        logits = logistic_regression_model.logits(x_data)\n",
        "        # calculate the cross-entropy loss\n",
        "        loss = loss_fn(logits,y_data)\n",
        "        # initialize gradients to zero\n",
        "        optim.zero_grad()\n",
        "        # backpropagate\n",
        "        loss.backward()\n",
        "        # take a gradient step\n",
        "        optim.step()\n",
        "        if (j + 1) % 500 == 0:\n",
        "            print(\"[iteration %04d] loss: %.4f\" % (j + 1, loss.item()))\n",
        "    # Inspect learned parameters\n",
        "    print(\"Learned parameters:\")\n",
        "    for name, param in logistic_regression_model.params().items():\n",
        "        print(name, param.data.numpy())\n",
        "\n",
        "main()"
      ],
      "execution_count": null,
      "outputs": [
        {
          "output_type": "stream",
          "text": [
            "[iteration 0500] loss: 70.1524\n",
            "[iteration 1000] loss: 69.0927\n",
            "[iteration 1500] loss: 69.0802\n",
            "[iteration 2000] loss: 69.0801\n",
            "[iteration 2500] loss: 69.0801\n",
            "[iteration 3000] loss: 69.0801\n",
            "[iteration 3500] loss: 69.0801\n",
            "[iteration 4000] loss: 69.0801\n",
            "[iteration 4500] loss: 69.0802\n",
            "[iteration 5000] loss: 69.0816\n",
            "Learned parameters:\n",
            "b [[11.975294]]\n",
            "w [[-0.32121494 -1.5243033 ]]\n"
          ],
          "name": "stdout"
        }
      ]
    },
    {
      "cell_type": "markdown",
      "metadata": {
        "id": "LyfAY0h-fyh0"
      },
      "source": [
        "## 1.3 Evaluating the model"
      ]
    },
    {
      "cell_type": "markdown",
      "metadata": {
        "id": "tmgazCZJfyh1"
      },
      "source": [
        "We now plot the regression line learned for african and non-afrian nations relating the rugeedness index with the GDP of the country."
      ]
    },
    {
      "cell_type": "code",
      "metadata": {
        "id": "JWUs5dc1fyh1",
        "colab": {
          "base_uri": "https://localhost:8080/",
          "height": 407
        },
        "outputId": "2d558f54-e52a-40f5-9589-64722c5567c6"
      },
      "source": [
        "import numpy as np\n",
        "import matplotlib.pyplot as plt\n",
        "import seaborn as sns\n",
        "sns.set(style=\"white\")\n",
        "xx, yy = np.mgrid[0:7:.01, 6:11:.01]\n",
        "grid = torch.tensor(np.c_[xx.ravel(), yy.ravel()], dtype=torch.float32)\n",
        "probs = logistic_regression_model.predict(grid).reshape(xx.shape).detach().numpy()\n",
        "\n",
        "f, ax = plt.subplots(figsize=(8, 6))\n",
        "ax.contour(xx, yy, probs, levels=[.5], cmap=\"Reds\", vmin=0, vmax=.6)\n",
        "\n",
        "ax.scatter(x_data[y_data==0,0], x_data[y_data==0, 1], c='g', s=50,\n",
        "           cmap=\"RdBu\", vmin=-.2, vmax=1.2,\n",
        "           edgecolor=\"white\", linewidth=1, label='Non-African')\n",
        "\n",
        "ax.scatter(x_data[y_data==1,0], x_data[y_data==1, 1], c='orange', s=50,\n",
        "           cmap=\"RdBu\", vmin=-.2, vmax=1.2,\n",
        "           edgecolor=\"white\", linewidth=1, label='African')\n",
        "\n",
        "\n",
        "ax.set(aspect=\"equal\",\n",
        "       xlim=(0, 7), ylim=(6, 11),\n",
        "       xlabel=\"Rugged\", ylabel=\"Log GDP\")\n",
        "ax.legend()"
      ],
      "execution_count": null,
      "outputs": [
        {
          "output_type": "execute_result",
          "data": {
            "text/plain": [
              "<matplotlib.legend.Legend at 0x7faae6627310>"
            ]
          },
          "metadata": {
            "tags": []
          },
          "execution_count": 7
        },
        {
          "output_type": "display_data",
          "data": {
            "image/png": "[encoded data removed]",
            "text/plain": [
              "<Figure size 576x432 with 1 Axes>"
            ]
          },
          "metadata": {
            "tags": []
          }
        }
      ]
    },
    {
      "cell_type": "markdown",
      "metadata": {
        "id": "vJw5o9kdfyh1"
      },
      "source": [
        "## 1.4 The relationship of ruggedness and log GPD with african/non-african nations\n",
        "\n"
      ]
    },
    {
      "cell_type": "markdown",
      "metadata": {
        "id": "tyWXJ1Tafyh2"
      },
      "source": [
        "Using this analysis, we can estimate the relationship of ruggedness and log GPD with african and non-african nations. As can be seen, this relationship is positive for African nations, but negative for Non African Nations."
      ]
    },
    {
      "cell_type": "code",
      "metadata": {
        "id": "nSB7vweCfyh2",
        "colab": {
          "base_uri": "https://localhost:8080/"
        },
        "outputId": "c1573e2d-d9fc-4c01-c7ed-14556e38d145"
      },
      "source": [
        "weight_ruggedness = logistic_regression_model.params()['w'][0,0]\n",
        "weight_logGDP = logistic_regression_model.params()['w'][0,1]\n",
        "print(weight_ruggedness.data.numpy())\n",
        "print(weight_logGDP.data.numpy())"
      ],
      "execution_count": null,
      "outputs": [
        {
          "output_type": "stream",
          "text": [
            "-0.32121494\n",
            "-1.5243033\n"
          ],
          "name": "stdout"
        }
      ]
    },
    {
      "cell_type": "markdown",
      "metadata": {
        "id": "2yrEaqT5fyh3"
      },
      "source": [
        "# 2. Bayesian Logistic Regression\n",
        "\n",
        "\n",
        "[Bayesian modeling](http://mlg.eng.cam.ac.uk/zoubin/papers/NatureReprint15.pdf) offers a systematic framework for reasoning about model uncertainty. Instead of just learning point estimates, we're going to learn a _distribution_ over variables that are consistent with the observed data.\n",
        "\n",
        "In order to make our linear regression Bayesian, we need to put priors on the parameters $w$, $b$ and $f$. These are distributions that represent our prior belief about reasonable values for $w$ and $b$ (before observing any data).\n"
      ]
    },
    {
      "cell_type": "markdown",
      "metadata": {
        "id": "kltwl1J9fyh3"
      },
      "source": [
        "## 2.1 Model\n",
        "\n",
        "We now have all the ingredients needed to specify our model. First we define priors over weights and bias. Note the priors that we are using for the different latent variables in the model. The prior on the intercept parameter is very flat as we would like this to be learnt from the data. We are using a weakly regularizing prior on the regression coefficients to avoid overfitting to the data.\n",
        "\n",
        "We use the `obs` argument to the `pyro.sample` statement to condition on the observed data `y_data` with a learned observation noise parameter."
      ]
    },
    {
      "cell_type": "markdown",
      "metadata": {
        "id": "NUWfkBXUfyh3"
      },
      "source": [
        "### <span style=\"color:red\">Exercise </span> \n",
        " \n",
        "* Define the class random variable \"african/non-african\" for the predicited labels.\n",
        "* This random variable is defined as Binomial distribution and is parametrized with the logits. "
      ]
    },
    {
      "cell_type": "code",
      "metadata": {
        "id": "_19buBJsfyh4"
      },
      "source": [
        "def model(x_data, y_data):\n",
        "    # weight and bias priors\n",
        "    with pyro.plate(\"plate_w\", 2):\n",
        "        w = pyro.sample(\"w\", Normal(torch.zeros(1,1), torch.ones(1,1)))\n",
        "\n",
        "    b = pyro.sample(\"b\", Normal(0., 1000.))\n",
        "\n",
        "    with pyro.plate(\"map\", len(x_data)):\n",
        "        # Compute logits (i.e. log p(x=0)/p(x=1)) as a linear combination between data and weights. \n",
        "        logits = (b + torch.mm(x_data,torch.t(w))).squeeze(-1)\n",
        "        # Define a Binomial distribution as the observed value parameterized by the logits. \n",
        "        pyro.sample(\"african/non-african\", Binomial(logits = logits), obs=y_data)"
      ],
      "execution_count": null,
      "outputs": []
    },
    {
      "cell_type": "markdown",
      "metadata": {
        "id": "zcu6i1mYfyh6"
      },
      "source": [
        "## 2.2 Guide\n",
        "\n",
        "In order to do inference we're going to need a guide, i.e. a variational family of distributions.  We will use Pyro's [autoguide library](http://docs.pyro.ai/en/dev/contrib.autoguide.html) to automatically place Gaussians with diagonal covariance on all of the distributions in the model.  Under the hood, this defines a `guide` function with `Normal` distributions with learnable parameters corresponding to each `sample()` in the model."
      ]
    },
    {
      "cell_type": "code",
      "metadata": {
        "id": "qtcC93Jkfyh7"
      },
      "source": [
        "from pyro.contrib.autoguide import AutoDiagonalNormal\n",
        "guide = AutoDiagonalNormal(model)"
      ],
      "execution_count": null,
      "outputs": []
    },
    {
      "cell_type": "markdown",
      "metadata": {
        "id": "ktwd6CCUfyh8"
      },
      "source": [
        "## 2.3 Inference\n",
        "\n",
        "To do inference we'll use stochastic variational inference (SVI) (for an introduction to SVI, see [SVI Part I](svi_part_i.ipynb)). Just like in the non-Bayesian linear regression, each iteration of our training loop will take a gradient step, with the difference that in this case, we'll use the ELBO objective instead of the MSE loss by constructing a `Trace_ELBO` object that we pass to `SVI`. "
      ]
    },
    {
      "cell_type": "code",
      "metadata": {
        "id": "lvZfKHkKfyh8"
      },
      "source": [
        "optim = Adam({\"lr\": 0.1})\n",
        "svi = SVI(model, guide, optim, loss=Trace_ELBO(), num_samples=10)"
      ],
      "execution_count": null,
      "outputs": []
    },
    {
      "cell_type": "markdown",
      "metadata": {
        "id": "py-1QUeyfyh9"
      },
      "source": [
        "Here `Adam` is a thin wrapper around `torch.optim.Adam` (see [here](svi_part_i.ipynb#Optimizers) for a discussion). To take an ELBO gradient step we simply call the step method of SVI. Notice that the data argument we pass to step will be passed to both model() and guide().  The complete training loop is as follows:"
      ]
    },
    {
      "cell_type": "code",
      "metadata": {
        "id": "4Wh1Tyqjfyh9",
        "colab": {
          "base_uri": "https://localhost:8080/"
        },
        "outputId": "d56fa80b-b965-492f-d68c-072545feb1ed"
      },
      "source": [
        "num_iterations = 10000\n",
        "def train(x_data, y_data):\n",
        "    pyro.clear_param_store()\n",
        "    for j in range(num_iterations):\n",
        "        # calculate the loss and take a gradient step\n",
        "        loss = svi.step(x_data, y_data)\n",
        "        if j % 500 == 0:\n",
        "            print(\"[iteration %04d] loss: %.4f\" % (j + 1, loss / len(data)))\n",
        "\n",
        "train(x_data, y_data)"
      ],
      "execution_count": null,
      "outputs": [
        {
          "output_type": "stream",
          "text": [
            "[iteration 0001] loss: 287.0737\n",
            "[iteration 0501] loss: 14.9879\n",
            "[iteration 1001] loss: 11.3764\n",
            "[iteration 1501] loss: 10.6092\n",
            "[iteration 2001] loss: 10.1554\n",
            "[iteration 2501] loss: 9.6072\n",
            "[iteration 3001] loss: 9.0437\n",
            "[iteration 3501] loss: 8.2546\n",
            "[iteration 4001] loss: 7.3543\n",
            "[iteration 4501] loss: 6.4499\n",
            "[iteration 5001] loss: 5.4493\n",
            "[iteration 5501] loss: 4.4654\n",
            "[iteration 6001] loss: 3.4731\n",
            "[iteration 6501] loss: 2.6715\n",
            "[iteration 7001] loss: 1.9399\n",
            "[iteration 7501] loss: 1.3214\n",
            "[iteration 8001] loss: 0.8799\n",
            "[iteration 8501] loss: 0.6183\n",
            "[iteration 9001] loss: 0.5139\n",
            "[iteration 9501] loss: 0.5062\n"
          ],
          "name": "stdout"
        }
      ]
    },
    {
      "cell_type": "code",
      "metadata": {
        "id": "NfaPyhfTfyh9",
        "colab": {
          "base_uri": "https://localhost:8080/"
        },
        "outputId": "06840bef-fa97-41aa-f7b7-d612dbdd1200"
      },
      "source": [
        "for name, value in pyro.get_param_store().items():\n",
        "    print(name, pyro.param(name).data.numpy())"
      ],
      "execution_count": null,
      "outputs": [
        {
          "output_type": "stream",
          "text": [
            "AutoDiagonalNormal.loc [-0.30006382 -1.5279045  12.232048  ]\n",
            "AutoDiagonalNormal.scale [0.05596961 0.03466691 0.20829546]\n"
          ],
          "name": "stdout"
        }
      ]
    },
    {
      "cell_type": "markdown",
      "metadata": {
        "id": "PKfYcpnYfyh-"
      },
      "source": [
        "As you can see, instead of just point estimates, we now have uncertainty estimates (`auto_scale`) for our learned parameters.  Note that Autoguide packs the latent variables into a tensor, in this case, one entry per variable sampled in our model."
      ]
    },
    {
      "cell_type": "markdown",
      "metadata": {
        "id": "rZf0Ve1ufyiA"
      },
      "source": [
        "Look like all the data points fall inside the estimated confidence intervals, being able to capture the uncertaintity in our predictions. "
      ]
    },
    {
      "cell_type": "markdown",
      "metadata": {
        "id": "yXTAFdgHfyiB"
      },
      "source": [
        "## 2.4 Model Evaluation: Model's Uncertainty\n",
        "In this case, we'll sample different the logistic regression lines to see how using a Bayesian approach we are able to capture the model undertainty."
      ]
    },
    {
      "cell_type": "code",
      "metadata": {
        "id": "FS_theSOfyiB"
      },
      "source": [
        "def logisticRegressionLineMean(x_data,guide):\n",
        "    return (pyro.param('AutoDiagonalNormal.loc')[2] + torch.mm(x_data,torch.t(pyro.param('AutoDiagonalNormal.loc')[0:2].reshape(1,2)))).squeeze(-1)\n",
        "\n",
        "def logisticRegressionPredictions(x_data,guide):\n",
        "    logits = logisticRegressionLineMean(x_data,guide)\n",
        "    return Binomial(logits = logits).mean\n",
        "    \n",
        "def logisticRegressionLineSample(x_data,guide):\n",
        "    return (guide()['b'] + torch.mm(x_data,torch.t(guide()['w']))).squeeze(-1)\n",
        "\n",
        "def logisticRegressionPredictionsSample(x_data,guide):\n",
        "    logits = logisticRegressionLineSample(x_data,guide)\n",
        "    return Binomial(logits = logits).mean"
      ],
      "execution_count": null,
      "outputs": []
    },
    {
      "cell_type": "code",
      "metadata": {
        "id": "MFD9r6XRfyiB",
        "colab": {
          "base_uri": "https://localhost:8080/",
          "height": 407
        },
        "outputId": "e5827af7-7d2a-4e4a-d6bd-8f36cb4cd352"
      },
      "source": [
        "sns.set(style=\"white\")\n",
        "xx, yy = np.mgrid[0:7:.01, 6:11:.01]\n",
        "grid = torch.tensor(np.c_[xx.ravel(), yy.ravel()], dtype=torch.float32)\n",
        "\n",
        "f, ax = plt.subplots(figsize=(8, 6))\n",
        "\n",
        "\n",
        "\n",
        "for i in range(10):\n",
        "    probs = logisticRegressionPredictionsSample(grid,guide).reshape(xx.shape).detach().numpy()\n",
        "    ax.contour(xx, yy, probs, levels=[.5], cmap=\"Greys\", vmin=0, vmax=1.5)\n",
        "\n",
        "probs = logisticRegressionPredictions(grid,guide).reshape(xx.shape).detach().numpy()\n",
        "ax.contour(xx, yy, probs, levels=[.5], cmap=\"Reds\", vmin=0, vmax=.6)\n",
        "\n",
        "\n",
        "ax.scatter(x_data[y_data==0,0], x_data[y_data==0, 1], c='g', s=50,\n",
        "           cmap=\"Greens\", vmin=-.2, vmax=1.2,\n",
        "           edgecolor=\"white\", linewidth=1, label='Non-African')\n",
        "\n",
        "ax.scatter(x_data[y_data==1,0], x_data[y_data==1, 1], c='orange', s=50,\n",
        "           cmap=\"Oranges\", vmin=-.2, vmax=1.2,\n",
        "           edgecolor=\"white\", linewidth=1, label='African')\n",
        "\n",
        "\n",
        "ax.set(aspect=\"equal\",\n",
        "       xlim=(0, 7), ylim=(6, 11),\n",
        "       xlabel=\"Rugged\", ylabel=\"Log GDP\")\n",
        "ax.legend()"
      ],
      "execution_count": null,
      "outputs": [
        {
          "output_type": "execute_result",
          "data": {
            "text/plain": [
              "<matplotlib.legend.Legend at 0x7faae6268e10>"
            ]
          },
          "metadata": {
            "tags": []
          },
          "execution_count": 15
        },
        {
          "output_type": "display_data",
          "data": {
            "image/png": "[encoded data removed]",
            "text/plain": [
              "<Figure size 576x432 with 1 Axes>"
            ]
          },
          "metadata": {
            "tags": []
          }
        }
      ]
    },
    {
      "cell_type": "markdown",
      "metadata": {
        "id": "UQQTd-3KfyiD"
      },
      "source": [
        "The above figure shows the uncertainty in our estimate of the logistic regression line. Note that for lower values of ruggedness there are many more data points, and as such, the regression lines are less uncertainty than in high ruggness values, where there is much more uncertainty. "
      ]
    },
    {
      "cell_type": "markdown",
      "metadata": {
        "id": "CptrzXtXfyiG"
      },
      "source": [
        "## 2.7 The relationship between ruggedness and log GPD\n",
        "\n",
        "Finally, we can look about the uncertainty about the weights associated to Terrain Rugedness and logarithm of GDP. "
      ]
    },
    {
      "cell_type": "code",
      "metadata": {
        "id": "ov_5tYXsfyiH",
        "colab": {
          "base_uri": "https://localhost:8080/",
          "height": 420
        },
        "outputId": "77813dde-6308-407d-832e-fe2d6b2219ad"
      },
      "source": [
        "weight = torch.stack([guide()['w'] for i in range(1000)]).squeeze()\n",
        "weight_rugedness  = weight[:,0]\n",
        "weight_logGDP = weight[:,1]\n",
        "fig = plt.figure(figsize=(10, 6))\n",
        "sns.distplot(weight_logGDP.detach().numpy(), kde_kws={\"label\": \"logGDP\"})\n",
        "sns.distplot(weight_rugedness.detach().numpy(), kde_kws={\"label\": \"Rugedness\"},)\n",
        "fig.suptitle(\"Density of Slope : log(GDP) vs. Terrain Ruggedness\", fontsize=16)\n",
        "plt.legend()\n",
        "plt.show()"
      ],
      "execution_count": null,
      "outputs": [
        {
          "output_type": "display_data",
          "data": {
            "image/png": "[encoded data removed]",
            "text/plain": [
              "<Figure size 720x432 with 1 Axes>"
            ]
          },
          "metadata": {
            "tags": []
          }
        }
      ]
    },
    {
      "cell_type": "markdown",
      "metadata": {
        "id": "hpo6kGPRfyiL"
      },
      "source": [
        "### References\n",
        "  1. McElreath, D., *Statistical Rethinking, Chapter 7*, 2016\n",
        "  2. Nunn, N. & Puga, D., *[Ruggedness: The blessing of bad geography in Africa\"](https://diegopuga.org/papers/rugged.pdf)*, Review of Economics and Statistics 94(1), Feb. 2012"
      ]
    }
  ]
}